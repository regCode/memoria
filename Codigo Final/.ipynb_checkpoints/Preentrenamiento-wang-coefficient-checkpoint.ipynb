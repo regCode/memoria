{
 "cells": [
  {
   "cell_type": "markdown",
   "metadata": {},
   "source": [
    "## Preentrenamiento - Wang"
   ]
  },
  {
   "cell_type": "markdown",
   "metadata": {},
   "source": [
    "#### Lectura de datasets"
   ]
  },
  {
   "cell_type": "code",
   "execution_count": 1,
   "metadata": {
    "collapsed": true
   },
   "outputs": [],
   "source": [
    "import re\n",
    "\n",
    "class Dataset:\n",
    "    \n",
    "    def clean_str(self, string):\n",
    "        \"\"\"\n",
    "        Tokenization/string cleaning for all datasets except for SST.\n",
    "        Original taken from https://github.com/yoonkim/CNN_sentence/blob/master/process_data.py\n",
    "        \"\"\"\n",
    "        string = re.sub(r\"[^A-Za-z0-9(),!?\\'\\`]\", \" \", string)\n",
    "        string = re.sub(r\"\\'s\", \" \\'s\", string)\n",
    "        string = re.sub(r\"\\'ve\", \" \\'ve\", string)\n",
    "        string = re.sub(r\"n\\'t\", \" n\\'t\", string)\n",
    "        string = re.sub(r\"\\'re\", \" \\'re\", string)\n",
    "        string = re.sub(r\"\\'d\", \" \\'d\", string)\n",
    "        string = re.sub(r\"\\'ll\", \" \\'ll\", string)\n",
    "        string = re.sub(r\",\", \" , \", string)\n",
    "        string = re.sub(r\"!\", \" ! \", string)\n",
    "        string = re.sub(r\"\\(\", \" \\( \", string)\n",
    "        string = re.sub(r\"\\)\", \" \\) \", string)\n",
    "        string = re.sub(r\"\\?\", \" \\? \", string)\n",
    "        string = re.sub(r\"\\s{2,}\", \" \", string)\n",
    "\n",
    "        return string.strip().lower()\n",
    "    \n",
    "    #################################################################\n",
    "    ##################### 20 Newsgroups #############################\n",
    "    #################################################################\n",
    "    \n",
    "    path_train_20newsgroups = \"../20NewsGroup/20ng-train-stemmed.txt\"\n",
    "    path_test_20newsgroups = \"../20NewsGroup/20ng-test-stemmed.txt\"\n",
    "    \n",
    "    target_names_20newsgroups = [\n",
    "        \"alt.atheism\", \n",
    "        \"comp.graphics\",\n",
    "        \"comp.os.ms-windows.misc\",\n",
    "        \"comp.sys.ibm.pc.hardware\", \n",
    "        \"comp.sys.mac.hardware\",\n",
    "        \"comp.windows.x\",\n",
    "        \"misc.forsale\",\n",
    "        \"rec.autos\",\n",
    "        \"rec.motorcycles\",\n",
    "        \"rec.sport.baseball\",\n",
    "        \"rec.sport.hockey\",\n",
    "        \"sci.crypt\",\n",
    "        \"sci.electronics\",\n",
    "        \"sci.med\",\n",
    "        \"sci.space\",\n",
    "        \"soc.religion.christian\",\n",
    "        \"talk.politics.guns\",\n",
    "        \"talk.politics.mideast\",\n",
    "        \"talk.politics.misc\",\n",
    "        \"talk.religion.misc\"\n",
    "    ]\n",
    "    \n",
    "    def read_20newsgroups_file(self, path_test_20newsgroups):\n",
    "        data = []\n",
    "        target = []\n",
    "        \n",
    "        with open(path_test_20newsgroups) as file:\n",
    "            for index, line in enumerate(file):\n",
    "                tokens_count = len(line.split())\n",
    "\n",
    "                if tokens_count > 1 and tokens_count <= 301:\n",
    "                    category, text = line.split(None, 1)\n",
    "                    data.append(self.clean_str(text))\n",
    "                    target.append(self.target_names_20newsgroups.index(category))\n",
    "                \n",
    "        return data, target\n",
    "        \n",
    "    \n",
    "    def fetch_20newsgroups(self, subset = \"train\"):\n",
    "        dataset = {'data': None,  'target': None , 'target_names': self.target_names_20newsgroups}\n",
    "    \n",
    "        if subset == 'train':\n",
    "            dataset['data'], dataset['target'] = self.read_20newsgroups_file(self.path_train_20newsgroups)\n",
    "        elif subset == 'test':\n",
    "            dataset['data'], dataset['target'] = self.read_20newsgroups_file(self.path_test_20newsgroups)\n",
    "        elif subset == 'all':\n",
    "            data_train, target_train = self.read_20newsgroups_file(self.path_train_20newsgroups)\n",
    "            data_test, target_test = self.read_20newsgroups_file(self.path_test_20newsgroups)\n",
    "            \n",
    "            dataset['data'], dataset['target'] = data_train + data_test, target_train + target_test\n",
    "        \n",
    "        return dataset\n",
    "    \n",
    "    #################################################################\n",
    "    ##################### SearchSnippets ############################\n",
    "    #################################################################\n",
    "    \n",
    "    path_train_search_snippets = \"../SearchSnippets/train.txt\"\n",
    "    path_test_search_snippets = \"../SearchSnippets/test.txt\"\n",
    "    \n",
    "    target_names_search_snippets = [\n",
    "        \"business\",\n",
    "        \"computers\",\n",
    "        \"culture-arts-entertainment\",\n",
    "        \"education-science\",\n",
    "        \"engineering\",\n",
    "        \"health\",\n",
    "        \"politics-society\",\n",
    "        \"sports\"\n",
    "    ]\n",
    "    \n",
    "    def read_search_snippets_file(self, path_test_search_snippets):\n",
    "        data = []\n",
    "        target = []\n",
    "        \n",
    "        with open(path_test_search_snippets, encoding=\"utf8\") as file:\n",
    "            for index, line in enumerate(file):\n",
    "                tokens_count = len(line.split())\n",
    "               \n",
    "                if tokens_count > 1 and tokens_count <= 301:\n",
    "                    text, category = line.rsplit(None, 1)\n",
    "                    data.append(self.clean_str(text))\n",
    "                    target.append(self.target_names_search_snippets.index(category))\n",
    "                \n",
    "        return data, target\n",
    "        \n",
    "    \n",
    "    def fetch_search_snippets(self, subset = \"train\"):\n",
    "        dataset = {'data': None,  'target': None , 'target_names': self.target_names_search_snippets}\n",
    "    \n",
    "        if subset == 'train':\n",
    "            dataset['data'], dataset['target'] = self.read_search_snippets_file(self.path_train_search_snippets)\n",
    "        elif subset == 'test':\n",
    "            dataset['data'], dataset['target'] = self.read_search_snippets_file(self.path_test_search_snippets)\n",
    "        elif subset == 'all':\n",
    "            data_train, target_train = self.read_search_snippets_file(self.path_train_search_snippets)\n",
    "            data_test, target_test = self.read_search_snippets_file(self.path_test_search_snippets)\n",
    "            \n",
    "            dataset['data'], dataset['target'] = data_train + data_test, target_train + target_test\n",
    "        \n",
    "        return dataset"
   ]
  },
  {
   "cell_type": "markdown",
   "metadata": {},
   "source": [
    "#### Métodos de Preentrenamiento"
   ]
  },
  {
   "cell_type": "code",
   "execution_count": 2,
   "metadata": {
    "collapsed": true
   },
   "outputs": [],
   "source": [
    "import warnings\n",
    "warnings.simplefilter(action='ignore', category=FutureWarning)\n",
    "from sklearn.feature_extraction.text import TfidfVectorizer\n",
    "from sklearn.metrics.pairwise import euclidean_distances\n",
    "from pprint import pprint\n",
    "import numpy as np\n",
    "import threading\n",
    "import math as mt\n",
    "import multiprocessing\n",
    "import time\n",
    "\n",
    "class binaryCodes:\n",
    "    \n",
    "    vectorizer = TfidfVectorizer()\n",
    "    \n",
    "    def __init__(self, dataset, sigma = 2, method = 'weiss', k_neighbors = 7, c_coeff = 1, \n",
    "                 a_equal_coeff = 1, b_unequal_coeff = 0.1):\n",
    "        self.tf_idf_features_matrix = self.tf_idf(dataset['data'])\n",
    "        self.distance_matrix = self.euclidean_distance(self.tf_idf_features_matrix)\n",
    "        self.labels = dataset['target']\n",
    "        self.sigma = sigma\n",
    "        self.method = method\n",
    "        self.k_neighbors = k_neighbors\n",
    "        self.c_coeff = c_coeff\n",
    "        self.a_equal_coeff = a_equal_coeff\n",
    "        self.b_unequal_coeff = b_unequal_coeff\n",
    "        \n",
    "    def tf_idf(self, data):\n",
    "        return self.vectorizer.fit_transform(data)\n",
    "    \n",
    "    def euclidean_distance(self, tf_idf_features):\n",
    "        return euclidean_distances(tf_idf_features, tf_idf_features)\n",
    "    \n",
    "    def parallel_operation(self, row_interval, w):\n",
    "        for row in range(row_interval[0], row_interval[1]):\n",
    "            for column in range(row, w.shape[1]):\n",
    "                \n",
    "                if self.method == 'weiss':\n",
    "                    value = np.exp(-self.distance_matrix[row][column]**2/self.sigma**2)\n",
    "                    \n",
    "                elif self.method == 'chinese_weiss':\n",
    "                  \n",
    "                    row_neighbors = self.distance_matrix[row].argsort()[1:self.k_neighbors+1]\n",
    "                    column_neighbors = self.distance_matrix[column].argsort()[1:self.k_neighbors+1]\n",
    "                    \n",
    "                    if row in column_neighbors or column in row_neighbors:\n",
    "                        value = self.c_coeff*np.exp(-self.distance_matrix[row][column]**2/(2*self.sigma**2))\n",
    "                    else:\n",
    "                        value = 0\n",
    "                        \n",
    "                elif self.method == 'chinese_weiss_supervised':\n",
    "                    \n",
    "                    row_neighbors = self.distance_matrix[row].argsort()[1:self.k_neighbors+1]\n",
    "                    column_neighbors = self.distance_matrix[column].argsort()[1:self.k_neighbors+1]\n",
    "                    \n",
    "                    if row in column_neighbors or column in row_neighbors:\n",
    "                        if self.labels[row] == self.labels[column]:\n",
    "                            value = self.a_equal_coeff*np.exp(-self.distance_matrix[row][column]**2/(2*self.sigma**2))\n",
    "                        else:\n",
    "                            value = self.b_unequal_coeff*np.exp(-self.distance_matrix[row][column]**2/(2*self.sigma**2))\n",
    "                    else:\n",
    "                        value = 0\n",
    "                    \n",
    "                w[row, column] = value\n",
    "                \n",
    "                if row != column:\n",
    "                    w[column, row] = value\n",
    "        \n",
    "    def parallel_operation2(self, row_interval, w_matrix, d):\n",
    "        for row in range(row_interval[0], row_interval[1]):\n",
    "            sum_row = np.sum(w_matrix[row])\n",
    "            d[row, row] = sum_row\n",
    "                \n",
    "    def w_matrix(self):\n",
    "        \n",
    "        print(\"Calculating W matrix using {} method ...\".format(self.method))\n",
    "        \n",
    "        data_size, _ = self.tf_idf_features_matrix.shape\n",
    "\n",
    "        start_time = time.time()\n",
    "\n",
    "        w = np.zeros((data_size, data_size))\n",
    "\n",
    "        cores_count = multiprocessing.cpu_count()\n",
    "        bounds = list(range(mt.floor(data_size/cores_count), \n",
    "                            data_size-data_size%cores_count+1, mt.floor(data_size/cores_count)))\n",
    "\n",
    "        bounds[-1] += data_size%cores_count\n",
    "\n",
    "        threads = list()\n",
    "\n",
    "        lower_bound = 0\n",
    "\n",
    "        for index, upper_bound in enumerate(bounds):\n",
    "            threads.append(threading.Thread(target = self.parallel_operation, args=([lower_bound, upper_bound], w)))\n",
    "            lower_bound = upper_bound\n",
    "\n",
    "        for thread in threads:\n",
    "            thread.start()\n",
    "\n",
    "        for thread in threads:\n",
    "            thread.join()\n",
    "\n",
    "        elapsed_time = time.time() - start_time\n",
    "\n",
    "        print(\"Time to compute: {} min\".format(elapsed_time/60))\n",
    "\n",
    "        print(\"Nonzero elements count: {}\".format(np.count_nonzero(w)))\n",
    "        print(\"Ratio: {}\".format(np.count_nonzero(w)/data_size**2))\n",
    "\n",
    "        return w\n",
    "    \n",
    "    def d_matrix(self, w_matrix):\n",
    "        \n",
    "        print(\"Calculating D matrix using {} method ...\".format(self.method))\n",
    "        \n",
    "        data_size, _ = self.tf_idf_features_matrix.shape\n",
    "        \n",
    "        start_time = time.time()\n",
    "        \n",
    "        d = np.zeros((data_size, data_size))\n",
    "\n",
    "        cores_count = multiprocessing.cpu_count()\n",
    "        bounds = list(range(mt.floor(data_size/cores_count), \n",
    "                            data_size-data_size%cores_count+1, mt.floor(data_size/cores_count)))\n",
    "\n",
    "        bounds[-1] += data_size%cores_count\n",
    "\n",
    "        threads = list()\n",
    "\n",
    "        lower_bound = 0\n",
    "\n",
    "        for index, upper_bound in enumerate(bounds):\n",
    "            threads.append(threading.Thread(target = self.parallel_operation2, \n",
    "                                            args=([lower_bound, upper_bound], w_matrix, d)))\n",
    "            lower_bound = upper_bound\n",
    "            \n",
    "        for thread in threads:\n",
    "            thread.start()\n",
    "\n",
    "        for thread in threads:\n",
    "            thread.join()\n",
    "\n",
    "        elapsed_time = time.time() - start_time\n",
    "        \n",
    "        print(\"Time to compute: {} min\".format(elapsed_time/60))\n",
    "\n",
    "        return d\n",
    "    \n",
    "    def binary_codes(self, hash_len = 64):\n",
    "        \n",
    "        data_size, _ = self.tf_idf_features_matrix.shape\n",
    "        sigma_str = str(self.sigma).replace('.', '')\n",
    "        c_coeff_str = str(self.c_coeff).replace('.', '')\n",
    "        a_equal_coeff_str = str(self.a_equal_coeff).replace('.', '')\n",
    "        b_unequal_coeff_str = str(self.b_unequal_coeff).replace('.', '')\n",
    "        \n",
    "        try:\n",
    "            hash_codes = np.load('hash_codes-{}_{}_{}_{}_{}_{}_{}_{}.npy'.format(data_size, hash_len, self.method, \n",
    "                                     sigma_str, c_coeff_str, a_equal_coeff_str, b_unequal_coeff_str, self.k_neighbors))    \n",
    "            \n",
    "            print(\"Using preexisting hash codes\")\n",
    "\n",
    "        except:\n",
    "        \n",
    "            print(\"Calculating hash codes\")\n",
    "        \n",
    "            w_matrix = self.w_matrix()\n",
    "            d_matrix = self.d_matrix(w_matrix)\n",
    "\n",
    "            global_start_time = time.time()\n",
    "\n",
    "            sub_martix = d_matrix-w_matrix\n",
    "            eigen_values, eigen_vectors = np.linalg.eig(sub_martix)\n",
    "\n",
    "            eigen_values = np.delete(eigen_values, 0)\n",
    "            eigen_vectors = np.delete(eigen_vectors, 0, 1)\n",
    "\n",
    "            min_eigen_values = np.argsort(eigen_values)\n",
    "           \n",
    "            count = 0\n",
    "            hash_codes = list()\n",
    "\n",
    "            for i in range(hash_len):\n",
    "                min_eigen_values[count]\n",
    "                hash_codes.append(eigen_vectors[:, min_eigen_values[count]])\n",
    "                count += 1\n",
    "\n",
    "            hash_codes = np.asarray(hash_codes).transpose()\n",
    "\n",
    "            threshold = lambda x: 1 if x>=0 else 0 \n",
    "            vfunc = np.vectorize(threshold)\n",
    "\n",
    "            hash_codes = vfunc(hash_codes)\n",
    "\n",
    "            elapsed_time = time.time() - global_start_time\n",
    "\n",
    "            print(\"Total Time: {} min \\n\".format(elapsed_time/60))\n",
    "\n",
    "            np.save('hash_codes-{}_{}_{}_{}_{}_{}_{}_{}.npy'.format(data_size, hash_len, self.method, \n",
    "                        sigma_str, c_coeff_str, a_equal_coeff_str, b_unequal_coeff_str, self.k_neighbors), hash_codes)\n",
    "        \n",
    "        return hash_codes"
   ]
  },
  {
   "cell_type": "markdown",
   "metadata": {},
   "source": [
    "#### Evaluación mediante clusters"
   ]
  },
  {
   "cell_type": "code",
   "execution_count": 3,
   "metadata": {
    "collapsed": true
   },
   "outputs": [],
   "source": [
    "%matplotlib inline\n",
    "\n",
    "from sklearn.neighbors import DistanceMetric\n",
    "import ipython_genutils\n",
    "import pandas as pd\n",
    "import itertools\n",
    "import matplotlib.pyplot as plt\n",
    "import seaborn as sns\n",
    "from IPython.display import Image, display\n",
    "\n",
    "class evaluate:\n",
    "    \n",
    "    def intra_cluster_distance(hash_codes, dataset):\n",
    "        \n",
    "        clusters = dict()\n",
    "        \n",
    "        categories = dataset['target']\n",
    "        categories_names = dataset['target_names']\n",
    "        \n",
    "        for index, value in enumerate(categories):\n",
    "            if value not in clusters.keys():\n",
    "                clusters[value] = [hash_codes[index]]\n",
    "            else:\n",
    "                clusters[value].append(hash_codes[index])\n",
    "                \n",
    "        distance_matrix = DistanceMetric.get_metric('hamming')\n",
    "        table = {'name': [], 'size': [], 'elements': [], 'median': [], 'mean': [], 'std': [], 'min': [], 'max': []}\n",
    "        \n",
    "        for label in clusters.keys():\n",
    "            inner_distances = distance_matrix.pairwise(clusters[label])\n",
    "            inner_distances = inner_distances[np.triu_indices(inner_distances.shape[0], 1)]\n",
    "            \n",
    "            table['name'].append(categories_names[label])\n",
    "            table['size'].append(len(clusters[label]))\n",
    "            table['elements'].append(len(inner_distances))\n",
    "            table['median'].append(np.median(inner_distances))\n",
    "            table['mean'].append(np.mean(inner_distances))\n",
    "            table['std'].append(np.std(inner_distances))\n",
    "            table['min'].append(np.amin(inner_distances))\n",
    "            table['max'].append(np.amax(inner_distances))\n",
    "            \n",
    "        df = pd.DataFrame(data=table)\n",
    "        display(df)\n",
    "        display(df.describe()) \n",
    "        \n",
    "        return inner_distances\n",
    "    \n",
    "    def inter_cluster_distance(hash_codes, dataset):\n",
    "        \n",
    "        clusters = dict()\n",
    "        \n",
    "        categories = dataset['target']\n",
    "        categories_names = dataset['target_names']\n",
    "        \n",
    "        for index, value in enumerate(categories):\n",
    "            if value not in clusters.keys():\n",
    "                clusters[value] = [hash_codes[index]]\n",
    "            else:\n",
    "                clusters[value].append(hash_codes[index])\n",
    "                \n",
    "        distance_matrix = DistanceMetric.get_metric('hamming')\n",
    "        table = {'name': [], 'size': [], 'elements': [], 'median': [], 'mean': [], 'std': [], 'min': [], 'max': []}\n",
    "        \n",
    "        pairs = list(itertools.combinations(clusters.keys(), 2))\n",
    "        \n",
    "        median_matrix = np.zeros((len(categories_names), len(categories_names)))\n",
    "        mean_matrix = np.zeros((len(categories_names), len(categories_names)))\n",
    "        std_matrix = np.zeros((len(categories_names), len(categories_names)))\n",
    "        min_distance_matrix = np.zeros((len(categories_names), len(categories_names)))\n",
    "        max_distance_matrix = np.zeros((len(categories_names), len(categories_names)))\n",
    "        \n",
    "        for label_a, label_b in pairs:\n",
    "            inter_distances = distance_matrix.pairwise(clusters[label_a], clusters[label_b])\n",
    "            median = np.median(inter_distances)\n",
    "            mean = inter_distances.mean()\n",
    "            std = inter_distances.std()\n",
    "            min_distance = inter_distances.min()\n",
    "            max_distance = inter_distances.max()\n",
    "            \n",
    "            median_matrix[label_a, label_b] = median\n",
    "            median_matrix[label_b, label_a] = median\n",
    "            \n",
    "            mean_matrix[label_a, label_b] = mean\n",
    "            mean_matrix[label_b, label_a] = mean\n",
    "            \n",
    "            std_matrix[label_a, label_b] = std\n",
    "            std_matrix[label_b, label_a] = std\n",
    "            \n",
    "            min_distance_matrix[label_a, label_b] = min_distance\n",
    "            min_distance_matrix[label_b, label_a] = min_distance\n",
    "            \n",
    "            max_distance_matrix[label_a, label_b] = max_distance\n",
    "            max_distance_matrix[label_b, label_a] = max_distance\n",
    "            \n",
    "        ## Median\n",
    "        df = pd.DataFrame(median_matrix, columns = categories_names, index = categories_names)\n",
    "        fig, ax = plt.subplots(figsize=(12,10))\n",
    "        \n",
    "        plt.title(\"Median\", fontsize=18)\n",
    "        ttl = ax.title\n",
    "        ttl.set_position([0.5, 1.01])\n",
    "       \n",
    "        sns.heatmap(df, annot=True, vmin=0, vmax=1, ax=ax)\n",
    "        \n",
    "        ## Mean\n",
    "        df = pd.DataFrame(mean_matrix, columns = categories_names, index = categories_names)\n",
    "        fig, ax = plt.subplots(figsize=(12,10))\n",
    "        \n",
    "        plt.title(\"Mean\", fontsize=18)\n",
    "        ttl = ax.title\n",
    "        ttl.set_position([0.5, 1.01])\n",
    "       \n",
    "        sns.heatmap(df, annot=True, vmin=0, vmax=1, ax=ax)\n",
    "        \n",
    "        ## Std\n",
    "        df = pd.DataFrame(std_matrix, columns = categories_names, index = categories_names)\n",
    "        fig, ax = plt.subplots(figsize=(12,10))\n",
    "        \n",
    "        plt.title(\"Std\", fontsize=18)\n",
    "        ttl = ax.title\n",
    "        ttl.set_position([0.5, 1.01])\n",
    "       \n",
    "        sns.heatmap(df, annot=True, vmin=0, vmax=0.1, ax=ax)\n",
    "        \n",
    "        ## Min distance\n",
    "        df = pd.DataFrame(min_distance_matrix, columns = categories_names, index = categories_names)\n",
    "        fig, ax = plt.subplots(figsize=(12,10))\n",
    "        \n",
    "        plt.title(\"Min Distance\", fontsize=18)\n",
    "        ttl = ax.title\n",
    "        ttl.set_position([0.5, 1.01])\n",
    "       \n",
    "        sns.heatmap(df, annot=True, vmin=0, vmax=1, ax=ax)\n",
    "        \n",
    "        ## Max distance\n",
    "        df = pd.DataFrame(max_distance_matrix, columns = categories_names, index = categories_names)\n",
    "        fig, ax = plt.subplots(figsize=(12,10))\n",
    "        \n",
    "        plt.title(\"Max Distance\", fontsize=18)\n",
    "        ttl = ax.title\n",
    "        ttl.set_position([0.5, 1.01])\n",
    "       \n",
    "        sns.heatmap(df, annot=True, vmin=0, vmax=1, ax=ax)\n",
    "            \n",
    "        return"
   ]
  },
  {
   "cell_type": "markdown",
   "metadata": {},
   "source": [
    "#### Evaluación mediante infomation retrival"
   ]
  },
  {
   "cell_type": "code",
   "execution_count": 4,
   "metadata": {
    "collapsed": true
   },
   "outputs": [],
   "source": [
    "from sklearn.neighbors import DistanceMetric\n",
    "\n",
    "class hashingDatabase:\n",
    "    \n",
    "    def __init__(self):\n",
    "        self.database = []\n",
    "        self.labels = []\n",
    "    \n",
    "    def add_element(self, element, label):\n",
    "        self.database.append(element)\n",
    "        self.labels.append(label)\n",
    "        \n",
    "    def find_neighbours_position(self, element):\n",
    "        distance_metric = DistanceMetric.get_metric('hamming')\n",
    "        distance_vector = distance_metric.pairwise([element], self.database)\n",
    "        return np.argsort(distance_vector)\n",
    "    \n",
    "    def evaluate_P_K(self, element, label, k = None):\n",
    "        neighbours_position = self.find_neighbours_position(element)[0][:k]\n",
    "        matched = 0\n",
    "        #print(neighbours_position)\n",
    "        for neighbour_position in neighbours_position:\n",
    "            #print('neighbor label: {}'.format(self.labels[neighbour_position]))\n",
    "            if self.labels[neighbour_position] == label:\n",
    "                matched += 1\n",
    "        #print('precision {}'.format(matched/k))        \n",
    "        return matched/k"
   ]
  },
  {
   "cell_type": "code",
   "execution_count": null,
   "metadata": {
    "collapsed": true
   },
   "outputs": [],
   "source": []
  },
  {
   "cell_type": "markdown",
   "metadata": {},
   "source": [
    "### 20 Newsgroup"
   ]
  },
  {
   "cell_type": "code",
   "execution_count": 5,
   "metadata": {},
   "outputs": [
    {
     "name": "stdout",
     "output_type": "stream",
     "text": [
      "Dataset structure:\n",
      "dict_keys(['data', 'target', 'target_names'])\n",
      "\n",
      "\n",
      "Dataset example:\n",
      "univers violat separ church state dmn kepler unh edu king becom philosoph philosoph becom king write recent ra order and resist care appar post religi flyer entitl soul scroll thought religion spiritu and matter soul insid bathroom stall door school univers hampshir sort newslett assembl hall director campu pose question spiritu each issu and solicit respons includ issu pretti vagu assum put christian care not mention jesu bibl heard defend doesn support religion thi state univers and strong support separ church and state enrag can thi sound scream for parodi give copi your friendli neighbourhood subgeniu preacher luck run mental mincer and hand you back outrag offens and gut bustingli funni parodi you can past origin can stool scroll thought religion spiritu and matter colon you can us thi text wipe mathew\n",
      "\n",
      "\n",
      "Train dataset:\n",
      "Set size: 10443\n",
      "\n",
      "\n",
      "Mean Lenght: 94.3\n",
      "Max Lenght: 300\n",
      "\n",
      "\n"
     ]
    }
   ],
   "source": [
    "dataset = Dataset()\n",
    "print(\"Dataset structure:\")\n",
    "train_dataset = dataset.fetch_20newsgroups(subset = 'train')\n",
    "print(train_dataset.keys())\n",
    "print(\"\\n\")\n",
    "print(\"Dataset example:\")\n",
    "print(train_dataset['data'][0])\n",
    "print(\"\\n\")\n",
    "print(\"Train dataset:\")\n",
    "print(\"Set size: {}\".format(len(train_dataset['data'])))\n",
    "print(\"\\n\")\n",
    "\n",
    "complete_dataset = train_dataset['data']\n",
    "\n",
    "mean_length = sum(len(document.split()) for document in complete_dataset)/len(complete_dataset)\n",
    "max_length = max(map(lambda document: len(document.split()), complete_dataset))\n",
    "\n",
    "print('Mean Lenght: {}'.format(round(mean_length, 1)))\n",
    "print('Max Lenght: {}'.format(max_length))\n",
    "print(\"\\n\")\n",
    "\n",
    "#vocabulary = list()\n",
    "#for document in complete_dataset:\n",
    "#    for word in document.split():\n",
    "#        if word not in vocabulary:\n",
    "#            vocabulary.append(word)\n",
    "#\n",
    "#print('Vocabulary Size: {}'.format(len(vocabulary)))"
   ]
  },
  {
   "cell_type": "markdown",
   "metadata": {},
   "source": [
    "### Weiss"
   ]
  },
  {
   "cell_type": "markdown",
   "metadata": {},
   "source": [
    "#### Parametro $\\epsilon$"
   ]
  },
  {
   "cell_type": "markdown",
   "metadata": {},
   "source": [
    "#### 16 bits"
   ]
  },
  {
   "cell_type": "code",
   "execution_count": 6,
   "metadata": {},
   "outputs": [
    {
     "name": "stdout",
     "output_type": "stream",
     "text": [
      "Parametro epsilon 1\n",
      "Using preexisting hash codes\n",
      "    Conjunto de validacion 1\n",
      "    --->Epsilon 1 precision at 100 mean precision 0.0574150311153662\n",
      "    Conjunto de validacion 2\n",
      "    --->Epsilon 1 precision at 100 mean precision 0.06172809956917185\n",
      "    Conjunto de validacion 3\n",
      "    --->Epsilon 1 precision at 100 mean precision 0.05768788894207755\n",
      "Global Mean Precision 0.058943673208871866 with std 0.0019720354062659003\n",
      "\n",
      "Parametro epsilon 2\n",
      "Using preexisting hash codes\n",
      "    Conjunto de validacion 1\n",
      "    --->Epsilon 2 precision at 100 mean precision 0.06565342269028243\n",
      "    Conjunto de validacion 2\n",
      "    --->Epsilon 2 precision at 100 mean precision 0.06564384873145045\n",
      "    Conjunto de validacion 3\n",
      "    --->Epsilon 2 precision at 100 mean precision 0.0665438008616563\n",
      "Global Mean Precision 0.06594702409446306 with std 0.00042200299964821885\n",
      "\n",
      "Parametro epsilon 4\n",
      "Using preexisting hash codes\n",
      "    Conjunto de validacion 1\n",
      "    --->Epsilon 4 precision at 100 mean precision 0.06584011488750598\n",
      "    Conjunto de validacion 2\n",
      "    --->Epsilon 4 precision at 100 mean precision 0.06196744853997127\n",
      "    Conjunto de validacion 3\n",
      "    --->Epsilon 4 precision at 100 mean precision 0.06325514600287219\n",
      "Global Mean Precision 0.06368756981011647 with std 0.0016103061658445962\n",
      "\n",
      "Parametro epsilon 8\n",
      "Using preexisting hash codes\n",
      "    Conjunto de validacion 1\n",
      "    --->Epsilon 8 precision at 100 mean precision 0.06718525610339876\n",
      "    Conjunto de validacion 2\n",
      "    --->Epsilon 8 precision at 100 mean precision 0.06310674964097654\n",
      "    Conjunto de validacion 3\n",
      "    --->Epsilon 8 precision at 100 mean precision 0.06515078985160365\n",
      "Global Mean Precision 0.06514759853199298 with std 0.0016650448200965639\n",
      "\n",
      "Parametro epsilon 16\n",
      "Using preexisting hash codes\n",
      "    Conjunto de validacion 1\n",
      "    --->Epsilon 16 precision at 100 mean precision 0.07081378650071805\n",
      "    Conjunto de validacion 2\n",
      "    --->Epsilon 16 precision at 100 mean precision 0.06384873145045478\n",
      "    Conjunto de validacion 3\n",
      "    --->Epsilon 16 precision at 100 mean precision 0.06655816179990427\n",
      "Global Mean Precision 0.0670735599170257 with std 0.002866731516047353\n",
      "\n",
      "Parametro epsilon 32\n",
      "Using preexisting hash codes\n",
      "    Conjunto de validacion 1\n",
      "    --->Epsilon 32 precision at 100 mean precision 0.06348013403542366\n",
      "    Conjunto de validacion 2\n",
      "    --->Epsilon 32 precision at 100 mean precision 0.0635423647678315\n",
      "    Conjunto de validacion 3\n",
      "    --->Epsilon 32 precision at 100 mean precision 0.061795117280995696\n",
      "Global Mean Precision 0.06293920536141695 with std 0.0008093912600778015\n",
      "\n",
      "\n",
      "\n",
      "Mean: [0.058943673208871866, 0.06594702409446306, 0.06368756981011647, 0.06514759853199298, 0.0670735599170257, 0.06293920536141695]\n",
      "Std: [0.0019720354062659003, 0.00042200299964821885, 0.0016103061658445962, 0.0016650448200965639, 0.002866731516047353, 0.0008093912600778015]\n"
     ]
    }
   ],
   "source": [
    "import random\n",
    "import copy\n",
    "import math \n",
    "\n",
    "k = 100\n",
    "sigma_parameters = [1, 2, 4, 8, 16, 32]\n",
    "seeds = [1, 4 ,7]\n",
    "\n",
    "precision_at_sigma_mean_16 = []\n",
    "precision_at_sigma_std_16 = []\n",
    "\n",
    "for sigma_parameter in sigma_parameters:\n",
    "    print('Parametro epsilon {}'.format(sigma_parameter))\n",
    "    hash_codes = binaryCodes(train_dataset, sigma=sigma_parameter, method = 'weiss')\n",
    "    binary_codes = hash_codes.binary_codes(hash_len = 16)\n",
    "    \n",
    "    precision_val = []\n",
    "    \n",
    "    for count, seed in enumerate(seeds):\n",
    "        print('    Conjunto de validacion {}'.format(count+1))\n",
    "        random.seed(seed)\n",
    "        \n",
    "        validation_sample = random.sample(range(len(train_dataset['data'])), math.ceil(len(train_dataset['data'])*0.2))\n",
    "        validation_split = {'binary_code': [], 'target': []}\n",
    "        \n",
    "        database = hashingDatabase()\n",
    "\n",
    "        for index in range(len(train_dataset['data'])):\n",
    "            if index in validation_sample:\n",
    "                validation_split['binary_code'].append(binary_codes[index])\n",
    "                validation_split['target'].append(train_dataset['target'][index])\n",
    "            else:\n",
    "                database.add_element(binary_codes[index], train_dataset['target'][index])\n",
    "\n",
    "        precisions = []\n",
    "        \n",
    "        for index in range(len(validation_split['binary_code'])):\n",
    "            precision = database.evaluate_P_K(validation_split['binary_code'][index], validation_split['target'][index], k)\n",
    "            precisions.append(precision)    \n",
    "            \n",
    "        print(\"    --->Epsilon {} precision at {} mean precision {}\".format(sigma_parameter, k, np.mean(precisions)))\n",
    "\n",
    "        precision_val.append(np.mean(precisions))\n",
    "    \n",
    "    precision_at_sigma_mean_16.append(np.mean(precision_val))\n",
    "    precision_at_sigma_std_16.append(np.std(precision_val))\n",
    "    \n",
    "    print(\"Global Mean Precision {} with std {}\\n\".format(np.mean(precision_val), np.std(precision_val)))\n",
    "\n",
    "print(\"\\n\")\n",
    "print(\"Mean: {}\".format(precision_at_sigma_mean_16))\n",
    "print(\"Std: {}\".format( precision_at_sigma_std_16))"
   ]
  },
  {
   "cell_type": "code",
   "execution_count": 20,
   "metadata": {},
   "outputs": [
    {
     "data": {
      "image/png": "[encoded data removed]",
      "text/plain": [
       "<Figure size 640x480 with 1 Axes>"
      ]
     },
     "metadata": {},
     "output_type": "display_data"
    }
   ],
   "source": [
    "abscissa = sigma_parameters\n",
    "ordinate = list(map(lambda x: x*100, precision_at_sigma_mean_16))\n",
    "error = list(map(lambda x: x*100, precision_at_sigma_std_16))\n",
    " \n",
    "plt.style.use('default') #seaborn-paper\n",
    "plt.errorbar(abscissa, ordinate, error, capsize=4, capthick=0.8, ecolor='black', elinewidth=0.8, \n",
    "             marker = 'o', color='g', label=r'parametro $\\epsilon$')\n",
    "plt.xscale('log', basex=2)\n",
    "plt.xticks(sigma_parameters, sigma_parameters)\n",
    "plt.xlabel(r'$\\epsilon$')\n",
    "plt.ylabel('mP@100(%)')\n",
    "#plt.legend(bbox_to_anchor=(1.05, 1), loc=2, borderaxespad=0.)\n",
    "plt.title('20 Newsgroups (Weiss)')\n",
    "#plt.rc('grid', linestyle=\":\", color='grey')\n",
    "#plt.grid(True)\n",
    "\n",
    "for i in range(len(ordinate)):\n",
    "    # Create a formatted string with three spaces, one newline\n",
    "    ann = r'{0:.2f}$\\pm${0:.2f}'.format(ordinate[i], error[i])\n",
    "    plt.annotate(ann, xy=(abscissa[i], ordinate[i]), xycoords='data')\n",
    "\n",
    "plt.show()\n"
   ]
  },
  {
   "cell_type": "markdown",
   "metadata": {},
   "source": [
    "#### 32 bits"
   ]
  },
  {
   "cell_type": "code",
   "execution_count": null,
   "metadata": {
    "collapsed": true
   },
   "outputs": [],
   "source": [
    "import random\n",
    "import copy\n",
    "import math \n",
    "\n",
    "k = 100\n",
    "sigma_parameters = [1, 2, 4, 8, 16, 32]\n",
    "seeds = [1, 4 ,7]\n",
    "\n",
    "precision_at_sigma_mean_32 = []\n",
    "precision_at_sigma_std_32 = []\n",
    "\n",
    "for sigma_parameter in sigma_parameters:\n",
    "    print('Parametro epsilon {}'.format(sigma_parameter))\n",
    "    hash_codes = binaryCodes(train_dataset, sigma=sigma_parameter, method = 'weiss')\n",
    "    binary_codes = hash_codes.binary_codes(hash_len = 32)\n",
    "    \n",
    "    precision_val = []\n",
    "    \n",
    "    for count, seed in enumerate(seeds):\n",
    "        print('    Conjunto de validacion {}'.format(count+1))\n",
    "        random.seed(seed)\n",
    "        \n",
    "        validation_sample = random.sample(range(len(train_dataset['data'])), math.ceil(len(train_dataset['data'])*0.2))\n",
    "        validation_split = {'binary_code': [], 'target': []}\n",
    "        \n",
    "        database = hashingDatabase()\n",
    "\n",
    "        for index in range(len(train_dataset['data'])):\n",
    "            if index in validation_sample:\n",
    "                validation_split['binary_code'].append(binary_codes[index])\n",
    "                validation_split['target'].append(train_dataset['target'][index])\n",
    "            else:\n",
    "                database.add_element(binary_codes[index], train_dataset['target'][index])\n",
    "\n",
    "        precisions = []\n",
    "        \n",
    "        for index in range(len(validation_split['binary_code'])):\n",
    "            precision = database.evaluate_P_K(validation_split['binary_code'][index], validation_split['target'][index], k)\n",
    "            precisions.append(precision)    \n",
    "            \n",
    "        print(\"    --->Epsilon {} precision at {} mean precision {}\".format(sigma_parameter, k, np.mean(precisions)))\n",
    "\n",
    "        precision_val.append(np.mean(precisions))\n",
    "    \n",
    "    precision_at_sigma_mean_32.append(np.mean(precision_val))\n",
    "    precision_at_sigma_std_32.append(np.std(precision_val))\n",
    "    \n",
    "    print(\"Global Mean Precision {} with std {}\\n\".format(np.mean(precision_val), np.std(precision_val)))\n",
    "\n",
    "print(\"\\n\")\n",
    "print(\"Mean: {}\".format(precision_at_sigma_mean_32))\n",
    "print(\"Std: {}\".format( precision_at_sigma_std_32))"
   ]
  },
  {
   "cell_type": "code",
   "execution_count": null,
   "metadata": {
    "collapsed": true
   },
   "outputs": [],
   "source": [
    "abscissa = sigma_parameters\n",
    "ordinate = list(map(lambda x: x*100, precision_at_sigma_mean_32))\n",
    "error = list(map(lambda x: x*100, precision_at_sigma_std_32))\n",
    " \n",
    "plt.style.use('default') #seaborn-paper\n",
    "plt.errorbar(abscissa, ordinate, error, capsize=4, capthick=0.8, ecolor='black', elinewidth=0.8, \n",
    "             marker = 'o', color='b', label=r'parametro $\\epsilon$')\n",
    "plt.xscale('log', basex=2)\n",
    "plt.xticks(sigma_parameters, sigma_parameters)\n",
    "plt.xlabel(r'$\\epsilon$')\n",
    "plt.ylabel('mP@100(%)')\n",
    "#plt.legend(bbox_to_anchor=(1.05, 1), loc=2, borderaxespad=0.)\n",
    "plt.title('20 Newsgroups (Weiss)')\n",
    "#plt.rc('grid', linestyle=\":\", color='grey')\n",
    "#plt.grid(True)\n",
    "\n",
    "for i in range(len(ordinate)):\n",
    "    # Create a formatted string with three spaces, one newline\n",
    "    ann = r'{0:.2f}$\\pm${0:.2f}'.format(ordinate[i], error[i])\n",
    "    plt.annotate(ann, xy=(abscissa[i], ordinate[i]), xycoords='data')\n",
    "\n",
    "plt.show()"
   ]
  },
  {
   "cell_type": "markdown",
   "metadata": {},
   "source": [
    "#### 64 bits"
   ]
  },
  {
   "cell_type": "code",
   "execution_count": null,
   "metadata": {
    "collapsed": true
   },
   "outputs": [],
   "source": [
    "import random\n",
    "import copy\n",
    "import math \n",
    "\n",
    "k = 100\n",
    "sigma_parameters = [1, 2, 4, 8, 16, 32]\n",
    "seeds = [1, 4 ,7]\n",
    "\n",
    "precision_at_sigma_mean_64 = []\n",
    "precision_at_sigma_std_64 = []\n",
    "\n",
    "for sigma_parameter in sigma_parameters:\n",
    "    print('Parametro epsilon {}'.format(sigma_parameter))\n",
    "    hash_codes = binaryCodes(train_dataset, sigma=sigma_parameter, method = 'weiss')\n",
    "    binary_codes = hash_codes.binary_codes(hash_len = 64)\n",
    "    \n",
    "    precision_val = []\n",
    "    \n",
    "    for count, seed in enumerate(seeds):\n",
    "        print('    Conjunto de validacion {}'.format(count+1))\n",
    "        random.seed(seed)\n",
    "        \n",
    "        validation_sample = random.sample(range(len(train_dataset['data'])), math.ceil(len(train_dataset['data'])*0.2))\n",
    "        validation_split = {'binary_code': [], 'target': []}\n",
    "        \n",
    "        database = hashingDatabase()\n",
    "\n",
    "        for index in range(len(train_dataset['data'])):\n",
    "            if index in validation_sample:\n",
    "                validation_split['binary_code'].append(binary_codes[index])\n",
    "                validation_split['target'].append(train_dataset['target'][index])\n",
    "            else:\n",
    "                database.add_element(binary_codes[index], train_dataset['target'][index])\n",
    "\n",
    "        precisions = []\n",
    "        \n",
    "        for index in range(len(validation_split['binary_code'])):\n",
    "            precision = database.evaluate_P_K(validation_split['binary_code'][index], validation_split['target'][index], k)\n",
    "            precisions.append(precision)    \n",
    "            \n",
    "        print(\"    --->Epsilon {} precision at {} mean precision {}\".format(sigma_parameter, k, np.mean(precisions)))\n",
    "\n",
    "        precision_val.append(np.mean(precisions))\n",
    "    \n",
    "    precision_at_sigma_mean_64.append(np.mean(precision_val))\n",
    "    precision_at_sigma_std_64.append(np.std(precision_val))\n",
    "    \n",
    "    print(\"Global Mean Precision {} with std {}\\n\".format(np.mean(precision_val), np.std(precision_val)))\n",
    "\n",
    "print(\"\\n\")\n",
    "print(\"Mean: {}\".format(precision_at_sigma_mean_64))\n",
    "print(\"Std: {}\".format( precision_at_sigma_std_64))"
   ]
  },
  {
   "cell_type": "code",
   "execution_count": null,
   "metadata": {
    "collapsed": true
   },
   "outputs": [],
   "source": [
    "abscissa = sigma_parameters\n",
    "ordinate = list(map(lambda x: x*100, precision_at_sigma_mean_64))\n",
    "error = list(map(lambda x: x*100, precision_at_sigma_std_64))\n",
    " \n",
    "plt.style.use('default') #seaborn-paper\n",
    "plt.errorbar(abscissa, ordinate, error, capsize=4, capthick=0.8, ecolor='black', elinewidth=0.8, \n",
    "             marker = 'o', color='m', label=r'parametro $\\epsilon$')\n",
    "plt.xscale('log', basex=2)\n",
    "plt.xticks(sigma_parameters, sigma_parameters)\n",
    "plt.xlabel(r'$\\epsilon$')\n",
    "plt.ylabel('mP@100(%)')\n",
    "#plt.legend(bbox_to_anchor=(1.05, 1), loc=2, borderaxespad=0.)\n",
    "plt.title('20 Newsgroups (Weiss)')\n",
    "#plt.rc('grid', linestyle=\":\", color='grey')\n",
    "#plt.grid(True)\n",
    "\n",
    "for i in range(len(ordinate)):\n",
    "    # Create a formatted string with three spaces, one newline\n",
    "    ann = r'{0:.2f}$\\pm${0:.2f}'.format(ordinate[i], error[i])\n",
    "    plt.annotate(ann, xy=(abscissa[i], ordinate[i]), xycoords='data')\n",
    "\n",
    "plt.show()"
   ]
  },
  {
   "cell_type": "markdown",
   "metadata": {},
   "source": [
    "### Comparación"
   ]
  },
  {
   "cell_type": "code",
   "execution_count": null,
   "metadata": {
    "collapsed": true
   },
   "outputs": [],
   "source": [
    "print(list(map(lambda x: x*100, precision_at_sigma_mean_16)))\n",
    "print(list(map(lambda x: x*100, precision_at_sigma_mean_32)))\n",
    "print(list(map(lambda x: x*100, precision_at_sigma_mean_64)))"
   ]
  },
  {
   "cell_type": "code",
   "execution_count": null,
   "metadata": {
    "collapsed": true
   },
   "outputs": [],
   "source": []
  },
  {
   "cell_type": "code",
   "execution_count": null,
   "metadata": {
    "collapsed": true
   },
   "outputs": [],
   "source": []
  },
  {
   "cell_type": "markdown",
   "metadata": {},
   "source": [
    "### SearchSnippets"
   ]
  },
  {
   "cell_type": "code",
   "execution_count": 5,
   "metadata": {},
   "outputs": [
    {
     "name": "stdout",
     "output_type": "stream",
     "text": [
      "Dataset structure:\n",
      "dict_keys(['data', 'target', 'target_names'])\n",
      "\n",
      "\n",
      "Dataset example:\n",
      "univers violat separ church state dmn kepler unh edu king becom philosoph philosoph becom king write recent ra order and resist care appar post religi flyer entitl soul scroll thought religion spiritu and matter soul insid bathroom stall door school univers hampshir sort newslett assembl hall director campu pose question spiritu each issu and solicit respons includ issu pretti vagu assum put christian care not mention jesu bibl heard defend doesn support religion thi state univers and strong support separ church and state enrag can thi sound scream for parodi give copi your friendli neighbourhood subgeniu preacher luck run mental mincer and hand you back outrag offens and gut bustingli funni parodi you can past origin can stool scroll thought religion spiritu and matter colon you can us thi text wipe mathew\n",
      "\n",
      "\n",
      "Train dataset:\n",
      "Set size: 10443\n",
      "\n",
      "\n",
      "Mean Lenght: 94.3\n",
      "Max Lenght: 300\n",
      "\n",
      "\n"
     ]
    }
   ],
   "source": [
    "dataset = Dataset()\n",
    "print(\"Dataset structure:\")\n",
    "train_dataset = dataset.fetch_search_snippets(subset = 'train')\n",
    "print(train_dataset.keys())\n",
    "print(\"\\n\")\n",
    "print(\"Dataset example:\")\n",
    "print(train_dataset['data'][0])\n",
    "print(\"\\n\")\n",
    "print(\"Train dataset:\")\n",
    "print(\"Set size: {}\".format(len(train_dataset['data'])))\n",
    "print(\"\\n\")\n",
    "\n",
    "complete_dataset = train_dataset['data']\n",
    "\n",
    "mean_length = sum(len(document.split()) for document in complete_dataset)/len(complete_dataset)\n",
    "max_length = max(map(lambda document: len(document.split()), complete_dataset))\n",
    "\n",
    "print('Mean Lenght: {}'.format(round(mean_length, 1)))\n",
    "print('Max Lenght: {}'.format(max_length))\n",
    "print(\"\\n\")\n",
    "\n",
    "#vocabulary = list()\n",
    "#for document in complete_dataset:\n",
    "#    for word in document.split():\n",
    "#        if word not in vocabulary:\n",
    "#            vocabulary.append(word)\n",
    "#\n",
    "#print('Vocabulary Size: {}'.format(len(vocabulary)))"
   ]
  },
  {
   "cell_type": "markdown",
   "metadata": {},
   "source": [
    "### Weiss"
   ]
  },
  {
   "cell_type": "markdown",
   "metadata": {},
   "source": [
    "#### Parametro $\\epsilon$"
   ]
  },
  {
   "cell_type": "markdown",
   "metadata": {},
   "source": [
    "#### 16 bits"
   ]
  },
  {
   "cell_type": "code",
   "execution_count": 6,
   "metadata": {},
   "outputs": [
    {
     "name": "stdout",
     "output_type": "stream",
     "text": [
      "Parametro epsilon 1\n",
      "Using preexisting hash codes\n",
      "    Conjunto de validacion 1\n",
      "    --->Epsilon 1 precision at 100 mean precision 0.0574150311153662\n",
      "    Conjunto de validacion 2\n",
      "    --->Epsilon 1 precision at 100 mean precision 0.06172809956917185\n",
      "    Conjunto de validacion 3\n",
      "    --->Epsilon 1 precision at 100 mean precision 0.05768788894207755\n",
      "Global Mean Precision 0.058943673208871866 with std 0.0019720354062659003\n",
      "\n",
      "Parametro epsilon 2\n",
      "Using preexisting hash codes\n",
      "    Conjunto de validacion 1\n",
      "    --->Epsilon 2 precision at 100 mean precision 0.06565342269028243\n",
      "    Conjunto de validacion 2\n",
      "    --->Epsilon 2 precision at 100 mean precision 0.06564384873145045\n",
      "    Conjunto de validacion 3\n",
      "    --->Epsilon 2 precision at 100 mean precision 0.0665438008616563\n",
      "Global Mean Precision 0.06594702409446306 with std 0.00042200299964821885\n",
      "\n",
      "Parametro epsilon 4\n",
      "Using preexisting hash codes\n",
      "    Conjunto de validacion 1\n",
      "    --->Epsilon 4 precision at 100 mean precision 0.06584011488750598\n",
      "    Conjunto de validacion 2\n",
      "    --->Epsilon 4 precision at 100 mean precision 0.06196744853997127\n",
      "    Conjunto de validacion 3\n",
      "    --->Epsilon 4 precision at 100 mean precision 0.06325514600287219\n",
      "Global Mean Precision 0.06368756981011647 with std 0.0016103061658445962\n",
      "\n",
      "Parametro epsilon 8\n",
      "Using preexisting hash codes\n",
      "    Conjunto de validacion 1\n",
      "    --->Epsilon 8 precision at 100 mean precision 0.06718525610339876\n",
      "    Conjunto de validacion 2\n",
      "    --->Epsilon 8 precision at 100 mean precision 0.06310674964097654\n",
      "    Conjunto de validacion 3\n",
      "    --->Epsilon 8 precision at 100 mean precision 0.06515078985160365\n",
      "Global Mean Precision 0.06514759853199298 with std 0.0016650448200965639\n",
      "\n",
      "Parametro epsilon 16\n",
      "Using preexisting hash codes\n",
      "    Conjunto de validacion 1\n",
      "    --->Epsilon 16 precision at 100 mean precision 0.07081378650071805\n",
      "    Conjunto de validacion 2\n",
      "    --->Epsilon 16 precision at 100 mean precision 0.06384873145045478\n",
      "    Conjunto de validacion 3\n",
      "    --->Epsilon 16 precision at 100 mean precision 0.06655816179990427\n",
      "Global Mean Precision 0.0670735599170257 with std 0.002866731516047353\n",
      "\n",
      "Parametro epsilon 32\n",
      "Using preexisting hash codes\n",
      "    Conjunto de validacion 1\n",
      "    --->Epsilon 32 precision at 100 mean precision 0.06348013403542366\n",
      "    Conjunto de validacion 2\n",
      "    --->Epsilon 32 precision at 100 mean precision 0.0635423647678315\n",
      "    Conjunto de validacion 3\n",
      "    --->Epsilon 32 precision at 100 mean precision 0.061795117280995696\n",
      "Global Mean Precision 0.06293920536141695 with std 0.0008093912600778015\n",
      "\n",
      "\n",
      "\n",
      "Mean: [0.058943673208871866, 0.06594702409446306, 0.06368756981011647, 0.06514759853199298, 0.0670735599170257, 0.06293920536141695]\n",
      "Std: [0.0019720354062659003, 0.00042200299964821885, 0.0016103061658445962, 0.0016650448200965639, 0.002866731516047353, 0.0008093912600778015]\n"
     ]
    }
   ],
   "source": [
    "import random\n",
    "import copy\n",
    "import math \n",
    "\n",
    "k = 100\n",
    "sigma_parameters = [1, 2, 4, 8, 16, 32]\n",
    "seeds = [1, 4 ,7]\n",
    "\n",
    "precision_at_sigma_mean_16 = []\n",
    "precision_at_sigma_std_16 = []\n",
    "\n",
    "for sigma_parameter in sigma_parameters:\n",
    "    print('Parametro epsilon {}'.format(sigma_parameter))\n",
    "    hash_codes = binaryCodes(train_dataset, sigma=sigma_parameter, method = 'weiss')\n",
    "    binary_codes = hash_codes.binary_codes(hash_len = 16)\n",
    "    \n",
    "    precision_val = []\n",
    "    \n",
    "    for count, seed in enumerate(seeds):\n",
    "        print('    Conjunto de validacion {}'.format(count+1))\n",
    "        random.seed(seed)\n",
    "        \n",
    "        validation_sample = random.sample(range(len(train_dataset['data'])), math.ceil(len(train_dataset['data'])*0.2))\n",
    "        validation_split = {'binary_code': [], 'target': []}\n",
    "        \n",
    "        database = hashingDatabase()\n",
    "\n",
    "        for index in range(len(train_dataset['data'])):\n",
    "            if index in validation_sample:\n",
    "                validation_split['binary_code'].append(binary_codes[index])\n",
    "                validation_split['target'].append(train_dataset['target'][index])\n",
    "            else:\n",
    "                database.add_element(binary_codes[index], train_dataset['target'][index])\n",
    "\n",
    "        precisions = []\n",
    "        \n",
    "        for index in range(len(validation_split['binary_code'])):\n",
    "            precision = database.evaluate_P_K(validation_split['binary_code'][index], validation_split['target'][index], k)\n",
    "            precisions.append(precision)    \n",
    "            \n",
    "        print(\"    --->Epsilon {} precision at {} mean precision {}\".format(sigma_parameter, k, np.mean(precisions)))\n",
    "\n",
    "        precision_val.append(np.mean(precisions))\n",
    "    \n",
    "    precision_at_sigma_mean_16.append(np.mean(precision_val))\n",
    "    precision_at_sigma_std_16.append(np.std(precision_val))\n",
    "    \n",
    "    print(\"Global Mean Precision {} with std {}\\n\".format(np.mean(precision_val), np.std(precision_val)))\n",
    "\n",
    "print(\"\\n\")\n",
    "print(\"Mean: {}\".format(precision_at_sigma_mean_16))\n",
    "print(\"Std: {}\".format( precision_at_sigma_std_16))"
   ]
  },
  {
   "cell_type": "code",
   "execution_count": 20,
   "metadata": {},
   "outputs": [
    {
     "data": {
      "image/png": "[encoded data removed]",
      "text/plain": [
       "<Figure size 640x480 with 1 Axes>"
      ]
     },
     "metadata": {},
     "output_type": "display_data"
    }
   ],
   "source": [
    "abscissa = sigma_parameters\n",
    "ordinate = list(map(lambda x: x*100, precision_at_sigma_mean_16))\n",
    "error = list(map(lambda x: x*100, precision_at_sigma_std_16))\n",
    " \n",
    "plt.style.use('default') #seaborn-paper\n",
    "plt.errorbar(abscissa, ordinate, error, capsize=4, capthick=0.8, ecolor='black', elinewidth=0.8, \n",
    "             marker = 'o', color='g', label=r'parametro $\\epsilon$')\n",
    "plt.xscale('log', basex=2)\n",
    "plt.xticks(sigma_parameters, sigma_parameters)\n",
    "plt.xlabel(r'$\\epsilon$')\n",
    "plt.ylabel('mP@100(%)')\n",
    "#plt.legend(bbox_to_anchor=(1.05, 1), loc=2, borderaxespad=0.)\n",
    "plt.title('20 Newsgroups (Weiss)')\n",
    "#plt.rc('grid', linestyle=\":\", color='grey')\n",
    "#plt.grid(True)\n",
    "\n",
    "for i in range(len(ordinate)):\n",
    "    # Create a formatted string with three spaces, one newline\n",
    "    ann = r'{0:.2f}$\\pm${0:.2f}'.format(ordinate[i], error[i])\n",
    "    plt.annotate(ann, xy=(abscissa[i], ordinate[i]), xycoords='data')\n",
    "\n",
    "plt.show()\n"
   ]
  },
  {
   "cell_type": "markdown",
   "metadata": {},
   "source": [
    "#### 32 bits"
   ]
  },
  {
   "cell_type": "code",
   "execution_count": null,
   "metadata": {
    "collapsed": true
   },
   "outputs": [],
   "source": [
    "import random\n",
    "import copy\n",
    "import math \n",
    "\n",
    "k = 100\n",
    "sigma_parameters = [1, 2, 4, 8, 16, 32]\n",
    "seeds = [1, 4 ,7]\n",
    "\n",
    "precision_at_sigma_mean_32 = []\n",
    "precision_at_sigma_std_32 = []\n",
    "\n",
    "for sigma_parameter in sigma_parameters:\n",
    "    print('Parametro epsilon {}'.format(sigma_parameter))\n",
    "    hash_codes = binaryCodes(train_dataset, sigma=sigma_parameter, method = 'weiss')\n",
    "    binary_codes = hash_codes.binary_codes(hash_len = 32)\n",
    "    \n",
    "    precision_val = []\n",
    "    \n",
    "    for count, seed in enumerate(seeds):\n",
    "        print('    Conjunto de validacion {}'.format(count+1))\n",
    "        random.seed(seed)\n",
    "        \n",
    "        validation_sample = random.sample(range(len(train_dataset['data'])), math.ceil(len(train_dataset['data'])*0.2))\n",
    "        validation_split = {'binary_code': [], 'target': []}\n",
    "        \n",
    "        database = hashingDatabase()\n",
    "\n",
    "        for index in range(len(train_dataset['data'])):\n",
    "            if index in validation_sample:\n",
    "                validation_split['binary_code'].append(binary_codes[index])\n",
    "                validation_split['target'].append(train_dataset['target'][index])\n",
    "            else:\n",
    "                database.add_element(binary_codes[index], train_dataset['target'][index])\n",
    "\n",
    "        precisions = []\n",
    "        \n",
    "        for index in range(len(validation_split['binary_code'])):\n",
    "            precision = database.evaluate_P_K(validation_split['binary_code'][index], validation_split['target'][index], k)\n",
    "            precisions.append(precision)    \n",
    "            \n",
    "        print(\"    --->Epsilon {} precision at {} mean precision {}\".format(sigma_parameter, k, np.mean(precisions)))\n",
    "\n",
    "        precision_val.append(np.mean(precisions))\n",
    "    \n",
    "    precision_at_sigma_mean_32.append(np.mean(precision_val))\n",
    "    precision_at_sigma_std_32.append(np.std(precision_val))\n",
    "    \n",
    "    print(\"Global Mean Precision {} with std {}\\n\".format(np.mean(precision_val), np.std(precision_val)))\n",
    "\n",
    "print(\"\\n\")\n",
    "print(\"Mean: {}\".format(precision_at_sigma_mean_32))\n",
    "print(\"Std: {}\".format( precision_at_sigma_std_32))"
   ]
  },
  {
   "cell_type": "code",
   "execution_count": null,
   "metadata": {
    "collapsed": true
   },
   "outputs": [],
   "source": [
    "abscissa = sigma_parameters\n",
    "ordinate = list(map(lambda x: x*100, precision_at_sigma_mean_32))\n",
    "error = list(map(lambda x: x*100, precision_at_sigma_std_32))\n",
    " \n",
    "plt.style.use('default') #seaborn-paper\n",
    "plt.errorbar(abscissa, ordinate, error, capsize=4, capthick=0.8, ecolor='black', elinewidth=0.8, \n",
    "             marker = 'o', color='b', label=r'parametro $\\epsilon$')\n",
    "plt.xscale('log', basex=2)\n",
    "plt.xticks(sigma_parameters, sigma_parameters)\n",
    "plt.xlabel(r'$\\epsilon$')\n",
    "plt.ylabel('mP@100(%)')\n",
    "#plt.legend(bbox_to_anchor=(1.05, 1), loc=2, borderaxespad=0.)\n",
    "plt.title('20 Newsgroups (Weiss)')\n",
    "#plt.rc('grid', linestyle=\":\", color='grey')\n",
    "#plt.grid(True)\n",
    "\n",
    "for i in range(len(ordinate)):\n",
    "    # Create a formatted string with three spaces, one newline\n",
    "    ann = r'{0:.2f}$\\pm${0:.2f}'.format(ordinate[i], error[i])\n",
    "    plt.annotate(ann, xy=(abscissa[i], ordinate[i]), xycoords='data')\n",
    "\n",
    "plt.show()"
   ]
  },
  {
   "cell_type": "markdown",
   "metadata": {},
   "source": [
    "#### 64 bits"
   ]
  },
  {
   "cell_type": "code",
   "execution_count": null,
   "metadata": {
    "collapsed": true
   },
   "outputs": [],
   "source": [
    "import random\n",
    "import copy\n",
    "import math \n",
    "\n",
    "k = 100\n",
    "sigma_parameters = [1, 2, 4, 8, 16, 32]\n",
    "seeds = [1, 4 ,7]\n",
    "\n",
    "precision_at_sigma_mean_64 = []\n",
    "precision_at_sigma_std_64 = []\n",
    "\n",
    "for sigma_parameter in sigma_parameters:\n",
    "    print('Parametro epsilon {}'.format(sigma_parameter))\n",
    "    hash_codes = binaryCodes(train_dataset, sigma=sigma_parameter, method = 'weiss')\n",
    "    binary_codes = hash_codes.binary_codes(hash_len = 64)\n",
    "    \n",
    "    precision_val = []\n",
    "    \n",
    "    for count, seed in enumerate(seeds):\n",
    "        print('    Conjunto de validacion {}'.format(count+1))\n",
    "        random.seed(seed)\n",
    "        \n",
    "        validation_sample = random.sample(range(len(train_dataset['data'])), math.ceil(len(train_dataset['data'])*0.2))\n",
    "        validation_split = {'binary_code': [], 'target': []}\n",
    "        \n",
    "        database = hashingDatabase()\n",
    "\n",
    "        for index in range(len(train_dataset['data'])):\n",
    "            if index in validation_sample:\n",
    "                validation_split['binary_code'].append(binary_codes[index])\n",
    "                validation_split['target'].append(train_dataset['target'][index])\n",
    "            else:\n",
    "                database.add_element(binary_codes[index], train_dataset['target'][index])\n",
    "\n",
    "        precisions = []\n",
    "        \n",
    "        for index in range(len(validation_split['binary_code'])):\n",
    "            precision = database.evaluate_P_K(validation_split['binary_code'][index], validation_split['target'][index], k)\n",
    "            precisions.append(precision)    \n",
    "            \n",
    "        print(\"    --->Epsilon {} precision at {} mean precision {}\".format(sigma_parameter, k, np.mean(precisions)))\n",
    "\n",
    "        precision_val.append(np.mean(precisions))\n",
    "    \n",
    "    precision_at_sigma_mean_64.append(np.mean(precision_val))\n",
    "    precision_at_sigma_std_64.append(np.std(precision_val))\n",
    "    \n",
    "    print(\"Global Mean Precision {} with std {}\\n\".format(np.mean(precision_val), np.std(precision_val)))\n",
    "\n",
    "print(\"\\n\")\n",
    "print(\"Mean: {}\".format(precision_at_sigma_mean_64))\n",
    "print(\"Std: {}\".format( precision_at_sigma_std_64))"
   ]
  },
  {
   "cell_type": "code",
   "execution_count": null,
   "metadata": {
    "collapsed": true
   },
   "outputs": [],
   "source": [
    "abscissa = sigma_parameters\n",
    "ordinate = list(map(lambda x: x*100, precision_at_sigma_mean_64))\n",
    "error = list(map(lambda x: x*100, precision_at_sigma_std_64))\n",
    " \n",
    "plt.style.use('default') #seaborn-paper\n",
    "plt.errorbar(abscissa, ordinate, error, capsize=4, capthick=0.8, ecolor='black', elinewidth=0.8, \n",
    "             marker = 'o', color='m', label=r'parametro $\\epsilon$')\n",
    "plt.xscale('log', basex=2)\n",
    "plt.xticks(sigma_parameters, sigma_parameters)\n",
    "plt.xlabel(r'$\\epsilon$')\n",
    "plt.ylabel('mP@100(%)')\n",
    "#plt.legend(bbox_to_anchor=(1.05, 1), loc=2, borderaxespad=0.)\n",
    "plt.title('20 Newsgroups (Weiss)')\n",
    "#plt.rc('grid', linestyle=\":\", color='grey')\n",
    "#plt.grid(True)\n",
    "\n",
    "for i in range(len(ordinate)):\n",
    "    # Create a formatted string with three spaces, one newline\n",
    "    ann = r'{0:.2f}$\\pm${0:.2f}'.format(ordinate[i], error[i])\n",
    "    plt.annotate(ann, xy=(abscissa[i], ordinate[i]), xycoords='data')\n",
    "\n",
    "plt.show()"
   ]
  },
  {
   "cell_type": "markdown",
   "metadata": {},
   "source": [
    "### Comparación"
   ]
  },
  {
   "cell_type": "code",
   "execution_count": null,
   "metadata": {
    "collapsed": true
   },
   "outputs": [],
   "source": [
    "print(list(map(lambda x: x*100, precision_at_sigma_mean_16)))\n",
    "print(list(map(lambda x: x*100, precision_at_sigma_mean_32)))\n",
    "print(list(map(lambda x: x*100, precision_at_sigma_mean_64)))"
   ]
  },
  {
   "cell_type": "code",
   "execution_count": null,
   "metadata": {
    "collapsed": true
   },
   "outputs": [],
   "source": []
  },
  {
   "cell_type": "code",
   "execution_count": null,
   "metadata": {
    "collapsed": true
   },
   "outputs": [],
   "source": []
  },
  {
   "cell_type": "code",
   "execution_count": null,
   "metadata": {
    "collapsed": true
   },
   "outputs": [],
   "source": []
  },
  {
   "cell_type": "code",
   "execution_count": null,
   "metadata": {
    "collapsed": true
   },
   "outputs": [],
   "source": [
    "################################################"
   ]
  },
  {
   "cell_type": "code",
   "execution_count": 18,
   "metadata": {},
   "outputs": [
    {
     "data": {
      "image/png": "[encoded data removed]",
      "text/plain": [
       "<Figure size 640x480 with 1 Axes>"
      ]
     },
     "metadata": {},
     "output_type": "display_data"
    }
   ],
   "source": [
    "plt.style.use('default') #seaborn-paper\n",
    "plt.errorbar(sigma_parameters, list(map(lambda x: x*100, precision_at_sigma_mean)), \n",
    "             list(map(lambda x: x*100, precision_at_sigma_std)), capsize=4, capthick=0.8, ecolor='black', elinewidth=0.8, \n",
    "             marker = 'o', color='g', label=r'parametro $\\epsilon$')\n",
    "#plt.xscale('log')\n",
    "plt.xlabel(r'$\\epsilon$')\n",
    "plt.ylabel('mP@100(%)')\n",
    "#plt.legend(bbox_to_anchor=(1.05, 1), loc=2, borderaxespad=0.)\n",
    "plt.title('20 Newsgroups (Weiss)')\n",
    "#plt.rc('grid', linestyle=\":\", color='grey')\n",
    "#plt.grid(True)\n",
    "\n",
    "for i in range(len(ordenadas)):\n",
    "    # Create a formatted string with three spaces, one newline\n",
    "    ann = r'{0:.2f}$\\pm${0:.2f}'.format(ordenadas[i], error[i])\n",
    "    plt.annotate(ann, xy=(absisas[i], ordenadas[i]))\n",
    "\n",
    "plt.show()"
   ]
  },
  {
   "cell_type": "code",
   "execution_count": null,
   "metadata": {
    "collapsed": true
   },
   "outputs": [],
   "source": [
    "      #evaluate.intra_cluster_distance(binary_codes, train_dataset)\n",
    "        #evaluate.inter_cluster_distance(binary_codes, train_dataset)"
   ]
  },
  {
   "cell_type": "code",
   "execution_count": null,
   "metadata": {
    "collapsed": true
   },
   "outputs": [],
   "source": []
  },
  {
   "cell_type": "code",
   "execution_count": 6,
   "metadata": {},
   "outputs": [
    {
     "name": "stderr",
     "output_type": "stream",
     "text": [
      "C:\\Users\\david\\Anaconda3\\lib\\site-packages\\sklearn\\feature_extraction\\text.py:1059: FutureWarning: Conversion of the second argument of issubdtype from `float` to `np.floating` is deprecated. In future, it will be treated as `np.float64 == np.dtype(float).type`.\n",
      "  if hasattr(X, 'dtype') and np.issubdtype(X.dtype, np.float):\n"
     ]
    },
    {
     "name": "stdout",
     "output_type": "stream",
     "text": [
      "Preexist hash codes\n",
      "Time to compute: 29.087435205777485 min\n",
      "precision at 100\n",
      "Mean Precision\n",
      "0.07814265198659646\n",
      "Preexist hash codes\n",
      "Time to compute: 30.117789081732433 min\n",
      "precision at 100\n",
      "Mean Precision\n",
      "0.08671613212063188\n",
      "Preexist hash codes\n",
      "Time to compute: 28.150322564442952 min\n",
      "precision at 100\n",
      "Mean Precision\n",
      "0.08715653422690282\n",
      "Preexist hash codes\n",
      "Time to compute: 17.143831650416057 min\n",
      "precision at 100\n",
      "Mean Precision\n",
      "0.08322163714696028\n",
      "Preexist hash codes\n",
      "Time to compute: 17.697351253032686 min\n",
      "precision at 100\n",
      "Mean Precision\n",
      "0.0803350885591192\n",
      "[0.07814265198659646, 0.08671613212063188, 0.08715653422690282, 0.08322163714696028, 0.0803350885591192]\n"
     ]
    }
   ],
   "source": [
    "import random\n",
    "import copy\n",
    "import math \n",
    "\n",
    "sigma_parameters = [1, 2, 4, 8, 16]\n",
    "precision_at_sigma = []\n",
    "\n",
    "random.seed(7)\n",
    "\n",
    "for sigma_parameter in sigma_parameters:\n",
    "    hash_codes = binaryCodes(train_dataset, sigma=sigma_parameter, method = 'weiss')\n",
    "    binary_codes = hash_codes.binary_codes(hash_len = 16)\n",
    "\n",
    "    #evaluate.intra_cluster_distance(binary_codes, train_dataset)\n",
    "    #evaluate.inter_cluster_distance(binary_codes, train_dataset)\n",
    "\n",
    "    validation_sample = random.sample(range(len(train_dataset['data'])), math.ceil(len(train_dataset['data'])*0.2))\n",
    "\n",
    "    database = hashingDatabase()\n",
    "\n",
    "    validation_split = {'binary_code': [], 'target': []}\n",
    "\n",
    "    for index in range(len(train_dataset['data'])):\n",
    "        if index in validation_sample:\n",
    "            validation_split['binary_code'].append(binary_codes[index])\n",
    "            validation_split['target'].append(train_dataset['target'][index])\n",
    "        else:\n",
    "            database.add_element(binary_codes[index], train_dataset['target'][index])\n",
    "\n",
    "    k = 100    \n",
    "    precisions = []\n",
    "\n",
    "    for index in range(len(validation_split['binary_code'])):\n",
    "        precision = database.evaluate_P_K(validation_split['binary_code'][index], validation_split['target'][index], k)\n",
    "        precisions.append(precision)    \n",
    "\n",
    "    print(\"precision at {}\".format(k))\n",
    "    print('Mean Precision')\n",
    "    print(np.mean(precisions))\n",
    "    \n",
    "    precision_at_sigma.append(np.mean(precisions))\n",
    "    \n",
    "print(precision_at_sigma)"
   ]
  },
  {
   "cell_type": "code",
   "execution_count": null,
   "metadata": {
    "collapsed": true
   },
   "outputs": [],
   "source": []
  },
  {
   "cell_type": "code",
   "execution_count": 81,
   "metadata": {
    "scrolled": false
   },
   "outputs": [
    {
     "ename": "NameError",
     "evalue": "name 'sigma_parameters' is not defined",
     "output_type": "error",
     "traceback": [
      "\u001b[1;31m---------------------------------------------------------------------------\u001b[0m",
      "\u001b[1;31mNameError\u001b[0m                                 Traceback (most recent call last)",
      "\u001b[1;32m<ipython-input-81-b4eeee5d3e3f>\u001b[0m in \u001b[0;36m<module>\u001b[1;34m()\u001b[0m\n\u001b[0;32m      5\u001b[0m \u001b[1;33m\u001b[0m\u001b[0m\n\u001b[0;32m      6\u001b[0m \u001b[0mplt\u001b[0m\u001b[1;33m.\u001b[0m\u001b[0mstyle\u001b[0m\u001b[1;33m.\u001b[0m\u001b[0muse\u001b[0m\u001b[1;33m(\u001b[0m\u001b[1;34m'seaborn-paper'\u001b[0m\u001b[1;33m)\u001b[0m\u001b[1;33m\u001b[0m\u001b[0m\n\u001b[1;32m----> 7\u001b[1;33m \u001b[0mplt\u001b[0m\u001b[1;33m.\u001b[0m\u001b[0mplot\u001b[0m\u001b[1;33m(\u001b[0m\u001b[0msigma_parameters\u001b[0m\u001b[1;33m,\u001b[0m \u001b[0mlist\u001b[0m\u001b[1;33m(\u001b[0m\u001b[0mmap\u001b[0m\u001b[1;33m(\u001b[0m\u001b[1;32mlambda\u001b[0m \u001b[0mx\u001b[0m\u001b[1;33m:\u001b[0m \u001b[0mx\u001b[0m\u001b[1;33m*\u001b[0m\u001b[1;36m100\u001b[0m\u001b[1;33m,\u001b[0m \u001b[0mprecision_at_sigma\u001b[0m\u001b[1;33m)\u001b[0m\u001b[1;33m)\u001b[0m\u001b[1;33m,\u001b[0m \u001b[0mmarker\u001b[0m \u001b[1;33m=\u001b[0m \u001b[1;34m'o'\u001b[0m\u001b[1;33m,\u001b[0m \u001b[0mcolor\u001b[0m\u001b[1;33m=\u001b[0m\u001b[1;34m'g'\u001b[0m\u001b[1;33m,\u001b[0m \u001b[0mlabel\u001b[0m\u001b[1;33m=\u001b[0m\u001b[1;34mr'parametro $\\epsilon$'\u001b[0m\u001b[1;33m)\u001b[0m\u001b[1;33m\u001b[0m\u001b[0m\n\u001b[0m\u001b[0;32m      8\u001b[0m \u001b[1;31m#plt.xscale('log')\u001b[0m\u001b[1;33m\u001b[0m\u001b[1;33m\u001b[0m\u001b[0m\n\u001b[0;32m      9\u001b[0m \u001b[0mplt\u001b[0m\u001b[1;33m.\u001b[0m\u001b[0mxlabel\u001b[0m\u001b[1;33m(\u001b[0m\u001b[1;34mr'$\\epsilon$'\u001b[0m\u001b[1;33m)\u001b[0m\u001b[1;33m\u001b[0m\u001b[0m\n",
      "\u001b[1;31mNameError\u001b[0m: name 'sigma_parameters' is not defined"
     ]
    }
   ],
   "source": [
    "%matplotlib inline\n",
    "import matplotlib.pyplot as plt\n",
    "import seaborn as sns\n",
    "#from IPython.display import Image, display\n",
    "\n",
    "plt.style.use('seaborn-paper')\n",
    "plt.plot(sigma_parameters, list(map(lambda x: x*100, precision_at_sigma)), marker = 'o', color='g', label=r'parametro $\\epsilon$')\n",
    "#plt.xscale('log')\n",
    "plt.xlabel(r'$\\epsilon$')\n",
    "plt.ylabel('mP@100(%)')\n",
    "#plt.legend(bbox_to_anchor=(1.05, 1), loc=2, borderaxespad=0.)\n",
    "plt.title('20 Newsgroups (Weiss)')\n",
    "plt.rc('grid', linestyle=\":\", color='grey')\n",
    "plt.grid(True)\n",
    "plt.show()"
   ]
  },
  {
   "cell_type": "code",
   "execution_count": null,
   "metadata": {
    "collapsed": true
   },
   "outputs": [],
   "source": []
  },
  {
   "cell_type": "code",
   "execution_count": null,
   "metadata": {
    "collapsed": true
   },
   "outputs": [],
   "source": [
    "[0.07814265198659646, 0.08671613212063188, 0.08715653422690282, 0.08322163714696028, 0.0803350885591192]"
   ]
  },
  {
   "cell_type": "code",
   "execution_count": null,
   "metadata": {
    "collapsed": true
   },
   "outputs": [],
   "source": []
  },
  {
   "cell_type": "code",
   "execution_count": null,
   "metadata": {
    "collapsed": true
   },
   "outputs": [],
   "source": []
  },
  {
   "cell_type": "code",
   "execution_count": null,
   "metadata": {
    "collapsed": true
   },
   "outputs": [],
   "source": []
  },
  {
   "cell_type": "code",
   "execution_count": 14,
   "metadata": {},
   "outputs": [
    {
     "name": "stdout",
     "output_type": "stream",
     "text": [
      "001\n"
     ]
    }
   ],
   "source": [
    "print(str(0.01).replace('.', ''))"
   ]
  },
  {
   "cell_type": "code",
   "execution_count": null,
   "metadata": {
    "collapsed": true
   },
   "outputs": [],
   "source": [
    "import random\n",
    "import copy\n",
    "import math \n",
    "\n",
    "tiny_train_dataset = {'data': [], 'target': [], 'target_names': train_dataset['target_names']}\n",
    "\n",
    "random.seed(7)\n",
    "actual_num_samples = len(train_dataset['data'])\n",
    "print(actual_num_samples)\n",
    "\n",
    "for _ in range(0, 100):\n",
    "    selected_index = random.randint(0, actual_num_samples-1)\n",
    "        \n",
    "    selected_document = train_dataset['data'][selected_index]\n",
    "    selected_target =  train_dataset['target'][selected_index]\n",
    "    \n",
    "    tiny_train_dataset['data'].append(selected_document)\n",
    "    tiny_train_dataset['target'].append(selected_target)\n",
    "\n",
    "    del train_dataset['data'][selected_index]\n",
    "    del train_dataset['target'][selected_index]\n",
    "    \n",
    "    actual_num_samples -= 1\n",
    "    \n",
    "print(len(train_dataset['data']))\n",
    "print(len(train_dataset['target']))\n",
    "\n",
    "print(len(tiny_train_dataset['data']))\n",
    "print(len(tiny_train_dataset['target']))\n",
    "\n",
    "print(tiny_train_dataset['target'])"
   ]
  },
  {
   "cell_type": "code",
   "execution_count": null,
   "metadata": {
    "collapsed": true
   },
   "outputs": [],
   "source": [
    "\n",
    "tiny_train_dataset = train_dataset"
   ]
  },
  {
   "cell_type": "code",
   "execution_count": null,
   "metadata": {
    "collapsed": true
   },
   "outputs": [],
   "source": [
    "k = 100\n",
    "precisions = []\n",
    "\n",
    "for i in range(len(glove_em_test)):\n",
    "    example = np.asarray(glove_em_test[i])\n",
    "    #print(example.shape)\n",
    "    example = example.reshape((1, example.shape[0], example.shape[1]))\n",
    "    #print(example.shape)\n",
    "    #break\n",
    "    hash_code = predict_hash_code(example).reshape((1, len_hash))\n",
    "    #print(hash_code)\n",
    "    #print(tiny_test_dataset['target'][i])\n",
    "    #print('Precision')\n",
    "    #print('hash: {}'.format(hash_code));\n",
    "    #print('target: {}'.format(tiny_test_dataset['target'][i]))\n",
    "    precision = database.evaluate_P_K(hash_code, tiny_test_dataset['target'][i], k)\n",
    "    #print(precision)\n",
    "    #print('\\n')\n",
    "    precisions.append(precision)\n",
    "    \n",
    "#print(precisions)\n",
    "print(\"precision at {}\".format(k))\n",
    "print('Mean Precision')\n",
    "print(np.mean(precisions))"
   ]
  },
  {
   "cell_type": "code",
   "execution_count": null,
   "metadata": {
    "collapsed": true
   },
   "outputs": [],
   "source": []
  },
  {
   "cell_type": "code",
   "execution_count": null,
   "metadata": {
    "collapsed": true
   },
   "outputs": [],
   "source": []
  },
  {
   "cell_type": "code",
   "execution_count": 109,
   "metadata": {},
   "outputs": [
    {
     "data": {
      "image/png": "[encoded data removed]",
      "text/plain": [
       "<matplotlib.figure.Figure at 0x2052a4175f8>"
      ]
     },
     "metadata": {},
     "output_type": "display_data"
    }
   ],
   "source": [
    "ordenadas = [0.041, 0.0345, 0.045000000000000005, 0.044000000000000004, 0.05000000000000001]\n",
    "absisas = [0.02, 0.2, 2, 20, 200]\n",
    "error = [0.01, 0.01, 0.02, 0.01, 0.02]\n",
    "\n",
    "plt.style.use('default') #seaborn-paper\n",
    "plt.errorbar(absisas, ordenadas, error, capsize=4, capthick=0.8, ecolor='black', elinewidth=0.8, \n",
    "             marker = 'o', color='g', label=r'parametro $\\epsilon$')\n",
    "plt.xscale('log')\n",
    "plt.xlabel(r'$\\epsilon$')\n",
    "plt.ylabel('mP@100(%)')\n",
    "#plt.legend(bbox_to_anchor=(1.05, 1), loc=2, borderaxespad=0.)\n",
    "plt.title('20 Newsgroups (Weiss)')\n",
    "#plt.rc('grid', linestyle=\":\", color='grey')\n",
    "#plt.grid(True)\n",
    "\n",
    "for i in range(len(ordenadas)):\n",
    "    # Create a formatted string with three spaces, one newline\n",
    "    ann = r'{0:.2f}$\\pm${0:.2f}'.format(ordenadas[i], error[i])\n",
    "    plt.annotate(ann, xy=(absisas[i], ordenadas[i]))\n",
    "\n",
    "plt.show()\n"
   ]
  },
  {
   "cell_type": "markdown",
   "metadata": {
    "collapsed": true
   },
   "source": [
    "#### Wang"
   ]
  },
  {
   "cell_type": "code",
   "execution_count": null,
   "metadata": {},
   "outputs": [
    {
     "name": "stderr",
     "output_type": "stream",
     "text": [
      "C:\\Users\\david\\Anaconda3\\lib\\site-packages\\sklearn\\feature_extraction\\text.py:1059: FutureWarning: Conversion of the second argument of issubdtype from `float` to `np.floating` is deprecated. In future, it will be treated as `np.float64 == np.dtype(float).type`.\n",
      "  if hasattr(X, 'dtype') and np.issubdtype(X.dtype, np.float):\n"
     ]
    },
    {
     "name": "stdout",
     "output_type": "stream",
     "text": [
      "Calculated hash codes\n",
      "Not preexist W matrix\n",
      "Calculated using chinese_weiss method ...\n",
      "Time to compute: 731.5848241686821 min\n",
      "Nonzero elements count: 106142\n",
      "Ratio: 0.0009732775606467081\n",
      "Calculated D matrix\n",
      "Time to compute: 0.006510492165883382 min\n",
      "Time to compute: 17.310988636811576 min\n",
      "precision at 100\n",
      "Mean Precision\n",
      "0.5616179990426041\n",
      "Calculated hash codes\n",
      "Not preexist W matrix\n",
      "Calculated using chinese_weiss method ...\n"
     ]
    }
   ],
   "source": [
    "import random\n",
    "import copy\n",
    "import math \n",
    "\n",
    "sigma_parameters = [1, 2, 5, 10, 25]\n",
    "precision_at_sigma = []\n",
    "\n",
    "random.seed(7)\n",
    "\n",
    "for sigma_parameter in sigma_parameters:\n",
    "    hash_codes = binaryCodes(train_dataset, sigma=sigma_parameter, method = 'chinese_weiss')\n",
    "    binary_codes = hash_codes.binary_codes(hash_len = 32)\n",
    "\n",
    "    #evaluate.intra_cluster_distance(binary_codes, train_dataset)\n",
    "    #evaluate.inter_cluster_distance(binary_codes, train_dataset)\n",
    "\n",
    "    validation_sample = random.sample(range(len(train_dataset['data'])), math.ceil(len(train_dataset['data'])*0.2))\n",
    "\n",
    "    database = hashingDatabase()\n",
    "\n",
    "    validation_split = {'binary_code': [], 'target': []}\n",
    "\n",
    "    for index in range(len(train_dataset['data'])):\n",
    "        if index in validation_sample:\n",
    "            validation_split['binary_code'].append(binary_codes[index])\n",
    "            validation_split['target'].append(train_dataset['target'][index])\n",
    "        else:\n",
    "            database.add_element(binary_codes[index], train_dataset['target'][index])\n",
    "\n",
    "    k = 100    \n",
    "    precisions = []\n",
    "\n",
    "    for index in range(len(validation_split['binary_code'])):\n",
    "        precision = database.evaluate_P_K(validation_split['binary_code'][index], validation_split['target'][index], k)\n",
    "        precisions.append(precision)    \n",
    "\n",
    "    print(\"precision at {}\".format(k))\n",
    "    print('Mean Precision')\n",
    "    print(np.mean(precisions))\n",
    "    \n",
    "    precision_at_sigma.append(np.mean(precisions))\n",
    "    \n",
    "print(precision_at_sigma)"
   ]
  },
  {
   "cell_type": "code",
   "execution_count": null,
   "metadata": {
    "collapsed": true
   },
   "outputs": [],
   "source": []
  },
  {
   "cell_type": "code",
   "execution_count": null,
   "metadata": {
    "collapsed": true
   },
   "outputs": [],
   "source": []
  },
  {
   "cell_type": "code",
   "execution_count": null,
   "metadata": {
    "collapsed": true
   },
   "outputs": [],
   "source": []
  },
  {
   "cell_type": "code",
   "execution_count": null,
   "metadata": {
    "collapsed": true
   },
   "outputs": [],
   "source": []
  },
  {
   "cell_type": "code",
   "execution_count": null,
   "metadata": {
    "collapsed": true
   },
   "outputs": [],
   "source": []
  },
  {
   "cell_type": "code",
   "execution_count": 18,
   "metadata": {},
   "outputs": [
    {
     "data": {
      "image/png": "[encoded data removed]",
      "text/plain": [
       "<matplotlib.figure.Figure at 0x20527753438>"
      ]
     },
     "metadata": {},
     "output_type": "display_data"
    },
    {
     "data": {
      "image/png": "[encoded data removed]",
      "text/plain": [
       "<matplotlib.figure.Figure at 0x20526e7bb70>"
      ]
     },
     "metadata": {},
     "output_type": "display_data"
    }
   ],
   "source": [
    "import numpy as np\n",
    "import matplotlib.pyplot as plt\n",
    "\n",
    "plt.style.use('seaborn-paper')\n",
    "\n",
    "\n",
    "# example data\n",
    "x = np.arange(0.1, 4, 0.5)\n",
    "y = np.exp(-x)\n",
    "\n",
    "# example variable error bar values\n",
    "yerr = 0.1 + 0.2*np.sqrt(x)\n",
    "xerr = 0.1 + yerr\n",
    "\n",
    "# First illustrate basic pyplot interface, using defaults where possible.\n",
    "plt.figure()\n",
    "plt.errorbar(x, y, xerr=0.2, yerr=0.4, capsize=4, capthick=1)\n",
    "plt.title(\"Simplest errorbars, 0.2 in x, 0.4 in y\")\n",
    "\n",
    "# Now switch to a more OO interface to exercise more features.\n",
    "fig, axs = plt.subplots(nrows=2, ncols=2, sharex=True)\n",
    "ax = axs[0,0]\n",
    "ax.errorbar(x, y, yerr=yerr, fmt='o')\n",
    "ax.set_title('Vert. symmetric')\n",
    "\n",
    "# With 4 subplots, reduce the number of axis ticks to avoid crowding.\n",
    "ax.locator_params(nbins=4)\n",
    "\n",
    "ax = axs[0,1]\n",
    "ax.errorbar(x, y, xerr=xerr, fmt='o')\n",
    "ax.set_title('Hor. symmetric')\n",
    "\n",
    "ax = axs[1,0]\n",
    "ax.errorbar(x, y, yerr=[yerr, 2*yerr], xerr=[xerr, 2*xerr], fmt='--o')\n",
    "ax.set_title('H, V asymmetric')\n",
    "\n",
    "ax = axs[1,1]\n",
    "ax.set_yscale('log')\n",
    "# Here we have to be careful to keep all y values positive:\n",
    "ylower = np.maximum(1e-2, y - yerr)\n",
    "yerr_lower = y - ylower\n",
    "\n",
    "ax.errorbar(x, y, yerr=[yerr_lower, 2*yerr], xerr=xerr,\n",
    "            fmt='o', ecolor='g', capthick=2)\n",
    "ax.set_title('Mixed sym., log y')\n",
    "\n",
    "fig.suptitle('Variable errorbars')\n",
    "\n",
    "plt.show()"
   ]
  },
  {
   "cell_type": "code",
   "execution_count": 83,
   "metadata": {},
   "outputs": [
    {
     "ename": "NameError",
     "evalue": "name 'num' is not defined",
     "output_type": "error",
     "traceback": [
      "\u001b[1;31m---------------------------------------------------------------------------\u001b[0m",
      "\u001b[1;31mNameError\u001b[0m                                 Traceback (most recent call last)",
      "\u001b[1;32m<ipython-input-83-2a0453a1e395>\u001b[0m in \u001b[0;36m<module>\u001b[1;34m()\u001b[0m\n\u001b[0;32m     10\u001b[0m \u001b[0mplt\u001b[0m\u001b[1;33m.\u001b[0m\u001b[0merrorbar\u001b[0m\u001b[1;33m(\u001b[0m\u001b[0mx\u001b[0m\u001b[1;33m,\u001b[0m\u001b[0my\u001b[0m\u001b[1;33m,\u001b[0m\u001b[0mxerr\u001b[0m\u001b[1;33m=\u001b[0m\u001b[0mxerr\u001b[0m\u001b[1;33m,\u001b[0m\u001b[0myerr\u001b[0m\u001b[1;33m=\u001b[0m\u001b[0myerr\u001b[0m\u001b[1;33m,\u001b[0m\u001b[0mfmt\u001b[0m\u001b[1;33m=\u001b[0m\u001b[1;34m'.'\u001b[0m\u001b[1;33m,\u001b[0m \u001b[0mcolor\u001b[0m\u001b[1;33m=\u001b[0m\u001b[1;34m'red'\u001b[0m\u001b[1;33m,\u001b[0m \u001b[0melinewidth\u001b[0m\u001b[1;33m=\u001b[0m\u001b[1;36m1\u001b[0m\u001b[1;33m,\u001b[0m \u001b[0mcapsize\u001b[0m\u001b[1;33m=\u001b[0m\u001b[1;36m2\u001b[0m\u001b[1;33m)\u001b[0m\u001b[1;33m\u001b[0m\u001b[0m\n\u001b[0;32m     11\u001b[0m \u001b[1;33m\u001b[0m\u001b[0m\n\u001b[1;32m---> 12\u001b[1;33m \u001b[1;32mfor\u001b[0m \u001b[0mi\u001b[0m\u001b[1;33m,\u001b[0m\u001b[0mj\u001b[0m \u001b[1;32min\u001b[0m \u001b[0menumerate\u001b[0m\u001b[1;33m(\u001b[0m\u001b[0mnum\u001b[0m\u001b[1;33m)\u001b[0m\u001b[1;33m:\u001b[0m\u001b[1;33m\u001b[0m\u001b[0m\n\u001b[0m\u001b[0;32m     13\u001b[0m     \u001b[1;31m# Create a formatted string with three spaces, one newline\u001b[0m\u001b[1;33m\u001b[0m\u001b[1;33m\u001b[0m\u001b[0m\n\u001b[0;32m     14\u001b[0m     \u001b[0mann\u001b[0m \u001b[1;33m=\u001b[0m \u001b[1;34m'   {}\\n'\u001b[0m\u001b[1;33m.\u001b[0m\u001b[0mformat\u001b[0m\u001b[1;33m(\u001b[0m\u001b[0mj\u001b[0m\u001b[1;33m)\u001b[0m\u001b[1;33m\u001b[0m\u001b[0m\n",
      "\u001b[1;31mNameError\u001b[0m: name 'num' is not defined"
     ]
    },
    {
     "data": {
      "image/png": "[encoded data removed]",
      "text/plain": [
       "<matplotlib.figure.Figure at 0x2052a07e6d8>"
      ]
     },
     "metadata": {},
     "output_type": "display_data"
    }
   ],
   "source": [
    "import numpy as np\n",
    "import matplotlib.pyplot as plt\n",
    "\n",
    "#  Made up data\n",
    "x = np.array([ 312, 485, 100, 600, 200])\n",
    "y = np.array([ .6, .2, .1, 1.2, 1.3 ])\n",
    "xerr = x.max()/20\n",
    "yerr = y.max()/10\n",
    "\n",
    "plt.errorbar(x,y,xerr=xerr,yerr=yerr,fmt='.', color='red', elinewidth=1, capsize=2)\n",
    "\n",
    "for i,j in enumerate(num):\n",
    "    # Create a formatted string with three spaces, one newline\n",
    "    ann = '   {}\\n'.format(j)\n",
    "    plt.annotate(ann, xy=(x[i],y[i]))"
   ]
  },
  {
   "cell_type": "code",
   "execution_count": 97,
   "metadata": {},
   "outputs": [
    {
     "ename": "AttributeError",
     "evalue": "'str' object has no attribute 'values'",
     "output_type": "error",
     "traceback": [
      "\u001b[1;31m---------------------------------------------------------------------------\u001b[0m",
      "\u001b[1;31mAttributeError\u001b[0m                            Traceback (most recent call last)",
      "\u001b[1;32m<ipython-input-97-db22c3d14b5d>\u001b[0m in \u001b[0;36m<module>\u001b[1;34m()\u001b[0m\n\u001b[0;32m     17\u001b[0m \u001b[0mplt\u001b[0m\u001b[1;33m.\u001b[0m\u001b[0mylabel\u001b[0m\u001b[1;33m(\u001b[0m\u001b[1;34m\"Percentage Timewindows Attended\"\u001b[0m\u001b[1;33m)\u001b[0m\u001b[1;33m\u001b[0m\u001b[0m\n\u001b[0;32m     18\u001b[0m \u001b[0mplt\u001b[0m\u001b[1;33m.\u001b[0m\u001b[0mtitle\u001b[0m\u001b[1;33m(\u001b[0m\u001b[1;34m\"Test plot\"\u001b[0m\u001b[1;33m)\u001b[0m\u001b[1;33m\u001b[0m\u001b[0m\n\u001b[1;32m---> 19\u001b[1;33m \u001b[0madjust_text\u001b[0m\u001b[1;33m(\u001b[0m\u001b[0mtexts\u001b[0m\u001b[1;33m,\u001b[0m \u001b[0monly_move\u001b[0m\u001b[1;33m=\u001b[0m\u001b[1;34m'y'\u001b[0m\u001b[1;33m,\u001b[0m \u001b[0marrowprops\u001b[0m\u001b[1;33m=\u001b[0m\u001b[0mdict\u001b[0m\u001b[1;33m(\u001b[0m\u001b[0marrowstyle\u001b[0m\u001b[1;33m=\u001b[0m\u001b[1;34m\"->\"\u001b[0m\u001b[1;33m,\u001b[0m \u001b[0mcolor\u001b[0m\u001b[1;33m=\u001b[0m\u001b[1;34m'r'\u001b[0m\u001b[1;33m,\u001b[0m \u001b[0mlw\u001b[0m\u001b[1;33m=\u001b[0m\u001b[1;36m0.5\u001b[0m\u001b[1;33m)\u001b[0m\u001b[1;33m)\u001b[0m\u001b[1;33m\u001b[0m\u001b[0m\n\u001b[0m\u001b[0;32m     20\u001b[0m \u001b[0mplt\u001b[0m\u001b[1;33m.\u001b[0m\u001b[0mshow\u001b[0m\u001b[1;33m(\u001b[0m\u001b[1;33m)\u001b[0m\u001b[1;33m\u001b[0m\u001b[0m\n",
      "\u001b[1;32mC:\\Users\\david\\Anaconda3\\lib\\site-packages\\adjustText\\__init__.py\u001b[0m in \u001b[0;36madjust_text\u001b[1;34m(texts, x, y, add_objects, ax, expand_text, expand_points, expand_objects, expand_align, autoalign, va, ha, force_text, force_points, force_objects, lim, precision, only_move, text_from_text, text_from_points, save_steps, save_prefix, save_format, add_step_numbers, on_basemap, *args, **kwargs)\u001b[0m\n\u001b[0;32m    437\u001b[0m     \u001b[0msum_width\u001b[0m \u001b[1;33m=\u001b[0m \u001b[0mnp\u001b[0m\u001b[1;33m.\u001b[0m\u001b[0msum\u001b[0m\u001b[1;33m(\u001b[0m\u001b[0mlist\u001b[0m\u001b[1;33m(\u001b[0m\u001b[0mmap\u001b[0m\u001b[1;33m(\u001b[0m\u001b[1;32mlambda\u001b[0m \u001b[0mbbox\u001b[0m\u001b[1;33m:\u001b[0m \u001b[0mbbox\u001b[0m\u001b[1;33m.\u001b[0m\u001b[0mwidth\u001b[0m\u001b[1;33m,\u001b[0m \u001b[0mbboxes\u001b[0m\u001b[1;33m)\u001b[0m\u001b[1;33m)\u001b[0m\u001b[1;33m)\u001b[0m\u001b[1;33m\u001b[0m\u001b[0m\n\u001b[0;32m    438\u001b[0m     \u001b[0msum_height\u001b[0m \u001b[1;33m=\u001b[0m \u001b[0mnp\u001b[0m\u001b[1;33m.\u001b[0m\u001b[0msum\u001b[0m\u001b[1;33m(\u001b[0m\u001b[0mlist\u001b[0m\u001b[1;33m(\u001b[0m\u001b[0mmap\u001b[0m\u001b[1;33m(\u001b[0m\u001b[1;32mlambda\u001b[0m \u001b[0mbbox\u001b[0m\u001b[1;33m:\u001b[0m \u001b[0mbbox\u001b[0m\u001b[1;33m.\u001b[0m\u001b[0mheight\u001b[0m\u001b[1;33m,\u001b[0m \u001b[0mbboxes\u001b[0m\u001b[1;33m)\u001b[0m\u001b[1;33m)\u001b[0m\u001b[1;33m)\u001b[0m\u001b[1;33m\u001b[0m\u001b[0m\n\u001b[1;32m--> 439\u001b[1;33m     \u001b[1;32mif\u001b[0m \u001b[1;32mnot\u001b[0m \u001b[0many\u001b[0m\u001b[1;33m(\u001b[0m\u001b[0mlist\u001b[0m\u001b[1;33m(\u001b[0m\u001b[0mmap\u001b[0m\u001b[1;33m(\u001b[0m\u001b[1;32mlambda\u001b[0m \u001b[0mval\u001b[0m\u001b[1;33m:\u001b[0m \u001b[1;34m'x'\u001b[0m \u001b[1;32min\u001b[0m \u001b[0mval\u001b[0m\u001b[1;33m,\u001b[0m \u001b[0monly_move\u001b[0m\u001b[1;33m.\u001b[0m\u001b[0mvalues\u001b[0m\u001b[1;33m(\u001b[0m\u001b[1;33m)\u001b[0m\u001b[1;33m)\u001b[0m\u001b[1;33m)\u001b[0m\u001b[1;33m)\u001b[0m\u001b[1;33m:\u001b[0m\u001b[1;33m\u001b[0m\u001b[0m\n\u001b[0m\u001b[0;32m    440\u001b[0m         \u001b[0mprecision_x\u001b[0m \u001b[1;33m=\u001b[0m \u001b[0mnp\u001b[0m\u001b[1;33m.\u001b[0m\u001b[0minf\u001b[0m\u001b[1;33m\u001b[0m\u001b[0m\n\u001b[0;32m    441\u001b[0m     \u001b[1;32melse\u001b[0m\u001b[1;33m:\u001b[0m\u001b[1;33m\u001b[0m\u001b[0m\n",
      "\u001b[1;31mAttributeError\u001b[0m: 'str' object has no attribute 'values'"
     ]
    },
    {
     "data": {
      "image/png": "[encoded data removed]",
      "text/plain": [
       "<matplotlib.figure.Figure at 0x2052a3e8dd8>"
      ]
     },
     "metadata": {},
     "output_type": "display_data"
    }
   ],
   "source": [
    "import matplotlib.pyplot as plt\n",
    "from adjustText import adjust_text\n",
    "import numpy as np\n",
    "together = [(0, 1.0, 0.4), (25, 1.0127692669427917, 0.41), (50, 1.016404709797609, 0.41), (75, 1.1043426359673716, 0.42), (100, 1.1610446924342996, 0.44), (125, 1.1685687930691457, 0.43), (150, 1.3486407784550272, 0.45), (250, 1.4013999168008104, 0.45)]\n",
    "together.sort()\n",
    "\n",
    "text = [x for (x,y,z) in together]\n",
    "eucs = [y for (x,y,z) in together]\n",
    "covers = [z for (x,y,z) in together]\n",
    "\n",
    "p1 = plt.plot(eucs,covers,color=\"black\", alpha=0.5)\n",
    "texts = []\n",
    "for x, y, s in zip(eucs, covers, text):\n",
    "    texts.append(plt.text(x, y, s))\n",
    "\n",
    "plt.xlabel(\"Proportional Euclidean Distance\")\n",
    "plt.ylabel(\"Percentage Timewindows Attended\")\n",
    "plt.title(\"Test plot\")\n",
    "adjust_text(texts, only_move='y', arrowprops=dict(arrowstyle=\"->\", color='r', lw=0.5))\n",
    "plt.show()"
   ]
  },
  {
   "cell_type": "code",
   "execution_count": null,
   "metadata": {
    "collapsed": true
   },
   "outputs": [],
   "source": []
  }
 ],
 "metadata": {
  "kernelspec": {
   "display_name": "Python 3",
   "language": "python",
   "name": "python3"
  },
  "language_info": {
   "codemirror_mode": {
    "name": "ipython",
    "version": 3
   },
   "file_extension": ".py",
   "mimetype": "text/x-python",
   "name": "python",
   "nbconvert_exporter": "python",
   "pygments_lexer": "ipython3",
   "version": "3.6.6"
  }
 },
 "nbformat": 4,
 "nbformat_minor": 2
}
