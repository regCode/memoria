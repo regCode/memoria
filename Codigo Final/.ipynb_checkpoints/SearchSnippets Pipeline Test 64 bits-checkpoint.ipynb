{
 "cells": [
  {
   "cell_type": "code",
   "execution_count": null,
   "metadata": {
    "collapsed": true
   },
   "outputs": [],
   "source": []
  },
  {
   "cell_type": "code",
   "execution_count": 1,
   "metadata": {
    "collapsed": true
   },
   "outputs": [],
   "source": [
    "############################################################################################################################"
   ]
  },
  {
   "cell_type": "markdown",
   "metadata": {},
   "source": [
    "### Test con las modificaciones propuestas por el profesor"
   ]
  },
  {
   "cell_type": "code",
   "execution_count": 1,
   "metadata": {
    "collapsed": true
   },
   "outputs": [],
   "source": [
    "import re\n",
    "\n",
    "class Dataset:\n",
    "    \n",
    "    path_train = \"./20NewsGroup/20ng-train-stemmed.txt\"\n",
    "    path_test = \"./20NewsGroup/20ng-test-stemmed.txt\"\n",
    "    \n",
    "    target_names = [\n",
    "        \"alt.atheism\", \n",
    "        \"comp.graphics\",\n",
    "        \"comp.os.ms-windows.misc\",\n",
    "        \"comp.sys.ibm.pc.hardware\", \n",
    "        \"comp.sys.mac.hardware\",\n",
    "        \"comp.windows.x\",\n",
    "        \"misc.forsale\",\n",
    "        \"rec.autos\",\n",
    "        \"rec.motorcycles\",\n",
    "        \"rec.sport.baseball\",\n",
    "        \"rec.sport.hockey\",\n",
    "        \"sci.crypt\",\n",
    "        \"sci.electronics\",\n",
    "        \"sci.med\",\n",
    "        \"sci.space\",\n",
    "        \"soc.religion.christian\",\n",
    "        \"talk.politics.guns\",\n",
    "        \"talk.politics.mideast\",\n",
    "        \"talk.politics.misc\",\n",
    "        \"talk.religion.misc\"\n",
    "    ]\n",
    "    \n",
    "    def clean_str(self, string):\n",
    "        \"\"\"\n",
    "        Tokenization/string cleaning for all datasets except for SST.\n",
    "        Original taken from https://github.com/yoonkim/CNN_sentence/blob/master/process_data.py\n",
    "        \"\"\"\n",
    "        string = re.sub(r\"[^A-Za-z0-9(),!?\\'\\`]\", \" \", string)\n",
    "        string = re.sub(r\"\\'s\", \" \\'s\", string)\n",
    "        string = re.sub(r\"\\'ve\", \" \\'ve\", string)\n",
    "        string = re.sub(r\"n\\'t\", \" n\\'t\", string)\n",
    "        string = re.sub(r\"\\'re\", \" \\'re\", string)\n",
    "        string = re.sub(r\"\\'d\", \" \\'d\", string)\n",
    "        string = re.sub(r\"\\'ll\", \" \\'ll\", string)\n",
    "        string = re.sub(r\",\", \" , \", string)\n",
    "        string = re.sub(r\"!\", \" ! \", string)\n",
    "        string = re.sub(r\"\\(\", \" \\( \", string)\n",
    "        string = re.sub(r\"\\)\", \" \\) \", string)\n",
    "        string = re.sub(r\"\\?\", \" \\? \", string)\n",
    "        string = re.sub(r\"\\s{2,}\", \" \", string)\n",
    "\n",
    "        return string.strip().lower()\n",
    "    \n",
    "    def read_20newsgroups_file(self, path_test):\n",
    "        data = []\n",
    "        target = []\n",
    "        \n",
    "        with open(path_test) as file:\n",
    "            for index, line in enumerate(file):\n",
    "                tokens_count = len(line.split())\n",
    "\n",
    "                if tokens_count > 1 and tokens_count <= 301:\n",
    "                    category, text = line.split(None, 1)\n",
    "                    data.append(self.clean_str(text))\n",
    "                    target.append(self.target_names.index(category))\n",
    "                \n",
    "        return data, target\n",
    "        \n",
    "    \n",
    "    def fetch_20newsgroups(self, subset = \"train\"):\n",
    "        dataset = {'data': None,  'target': None , 'target_names': self.target_names}\n",
    "    \n",
    "        if subset == 'train':\n",
    "            dataset['data'], dataset['target'] = self.read_20newsgroups_file(self.path_train)\n",
    "        elif subset == 'test':\n",
    "            dataset['data'], dataset['target'] = self.read_20newsgroups_file(self.path_test)\n",
    "        elif subset == 'all':\n",
    "            data_train, target_train = self.read_20newsgroups_file(self.path_train)\n",
    "            data_test, target_test = self.read_20newsgroups_file(self.path_test)\n",
    "            \n",
    "            dataset['data'], dataset['target'] = data_train + data_test, target_train + target_test\n",
    "        \n",
    "        return dataset"
   ]
  },
  {
   "cell_type": "code",
   "execution_count": 2,
   "metadata": {},
   "outputs": [
    {
     "name": "stdout",
     "output_type": "stream",
     "text": [
      "Dataset structure:\n",
      "dict_keys(['data', 'target', 'target_names'])\n",
      "\n",
      "\n",
      "Dataset example:\n",
      "univers violat separ church state dmn kepler unh edu king becom philosoph philosoph becom king write recent ra order and resist care appar post religi flyer entitl soul scroll thought religion spiritu and matter soul insid bathroom stall door school univers hampshir sort newslett assembl hall director campu pose question spiritu each issu and solicit respons includ issu pretti vagu assum put christian care not mention jesu bibl heard defend doesn support religion thi state univers and strong support separ church and state enrag can thi sound scream for parodi give copi your friendli neighbourhood subgeniu preacher luck run mental mincer and hand you back outrag offens and gut bustingli funni parodi you can past origin can stool scroll thought religion spiritu and matter colon you can us thi text wipe mathew\n",
      "\n",
      "\n",
      "Train dataset:\n",
      "Set size: 10443\n",
      "\n",
      "\n",
      "Test dataset:\n",
      "Set size: 6972\n",
      "\n",
      "\n"
     ]
    }
   ],
   "source": [
    "dataset = Dataset()\n",
    "print(\"Dataset structure:\")\n",
    "train_dataset = dataset.fetch_20newsgroups(subset = 'train')\n",
    "print(train_dataset.keys())\n",
    "print(\"\\n\")\n",
    "print(\"Dataset example:\")\n",
    "print(train_dataset['data'][0])\n",
    "print(\"\\n\")\n",
    "print(\"Train dataset:\")\n",
    "print(\"Set size: {}\".format(len(train_dataset['data'])))\n",
    "print(\"\\n\")\n",
    "\n",
    "print(\"Test dataset:\")\n",
    "test_dataset = dataset.fetch_20newsgroups(subset = 'test')\n",
    "print(\"Set size: {}\".format(len(test_dataset['data'])))\n",
    "print(\"\\n\")"
   ]
  },
  {
   "cell_type": "code",
   "execution_count": 3,
   "metadata": {
    "scrolled": false
   },
   "outputs": [
    {
     "name": "stdout",
     "output_type": "stream",
     "text": [
      "Set size: 70\n"
     ]
    }
   ],
   "source": [
    "train_size = 70\n",
    "\n",
    "tiny_train_dataset = {'data': None, 'target': None, 'target_names': None}\n",
    "tiny_train_dataset['data'] = train_dataset['data'][:train_size]\n",
    "tiny_train_dataset['target'] = train_dataset['target'][:train_size]\n",
    "tiny_train_dataset['target_names'] = train_dataset['target_names']\n",
    "\n",
    "print(\"Set size: {}\".format(len(tiny_train_dataset['data'])))\n",
    "\n",
    "tiny_train_dataset = train_dataset\n",
    "#print(\"Set size: {}\".format(len(tiny_train_dataset['data'])))\n",
    "\n",
    "#for i in range(len(tiny_train_dataset['data'])):\n",
    "#    print(len(tiny_train_dataset['data'][i]))\n",
    "#    print(tiny_train_dataset['data'][i])"
   ]
  },
  {
   "cell_type": "code",
   "execution_count": 4,
   "metadata": {},
   "outputs": [
    {
     "name": "stdout",
     "output_type": "stream",
     "text": [
      "Set size: 70\n"
     ]
    }
   ],
   "source": [
    "test_size = 70\n",
    "\n",
    "tiny_test_dataset = {'data': None, 'target': None, 'target_names': None}\n",
    "tiny_test_dataset['data'] = test_dataset['data'][:test_size]\n",
    "tiny_test_dataset['target'] = test_dataset['target'][:test_size]\n",
    "tiny_test_dataset['target_names'] = test_dataset['target_names']\n",
    "\n",
    "print(\"Set size: {}\".format(len(tiny_test_dataset['data'])))\n",
    "\n",
    "tiny_test_dataset = test_dataset\n",
    "#print(\"Set size: {}\".format(len(tiny_test_dataset['data'])))"
   ]
  },
  {
   "cell_type": "code",
   "execution_count": 5,
   "metadata": {},
   "outputs": [
    {
     "name": "stderr",
     "output_type": "stream",
     "text": [
      "C:\\Users\\david\\Anaconda3\\envs\\py36\\lib\\site-packages\\h5py\\__init__.py:72: UserWarning: h5py is running against HDF5 1.10.2 when it was built against 1.10.3, this may cause problems\n",
      "  '{0}.{1}.{2}'.format(*version.hdf5_built_version_tuple)\n"
     ]
    }
   ],
   "source": [
    "from sklearn.feature_extraction.text import TfidfVectorizer\n",
    "from sklearn.metrics.pairwise import euclidean_distances\n",
    "from pprint import pprint\n",
    "import numpy as np\n",
    "import threading\n",
    "import math as mt\n",
    "import multiprocessing\n",
    "import time\n",
    "import h5py\n",
    "\n",
    "class binaryCodes:\n",
    "    \n",
    "    vectorizer = TfidfVectorizer()\n",
    "    \n",
    "    def __init__(self, dataset, sigma = 2, method = 'weiss', k_neighbors = 7, c_coeff = 1, \n",
    "                 a_equal_coeff = 1, b_unequal_coeff = 0.1):\n",
    "        self.tf_idf_features_matrix = self.tf_idf(dataset['data'])\n",
    "        self.distance_matrix = self.euclidean_distance(self.tf_idf_features_matrix)\n",
    "        self.labels = dataset['target']\n",
    "        self.sigma = sigma\n",
    "        self.method = method\n",
    "        self.k_neighbors = k_neighbors\n",
    "        self.c_coeff = c_coeff\n",
    "        self.a_equal_coeff = a_equal_coeff\n",
    "        self.b_unequal_coeff = b_unequal_coeff\n",
    "        \n",
    "    def tf_idf(self, data):\n",
    "        return self.vectorizer.fit_transform(data)\n",
    "    \n",
    "    def euclidean_distance(self, tf_idf_features):\n",
    "        return euclidean_distances(tf_idf_features, tf_idf_features)\n",
    "    \n",
    "    def parallel_operation(self, row_interval, w):\n",
    "        for row in range(row_interval[0], row_interval[1]):\n",
    "            for column in range(row, w.shape[1]):\n",
    "                \n",
    "                if self.method == 'weiss':\n",
    "                    value = np.exp(-self.distance_matrix[row][column]**2/self.sigma**2)\n",
    "                    \n",
    "                elif self.method == 'chinese_weiss':\n",
    "                  \n",
    "                    row_neighbors = self.distance_matrix[row].argsort()[1:self.k_neighbors+1]\n",
    "                    column_neighbors = self.distance_matrix[column].argsort()[1:self.k_neighbors+1]\n",
    "                    \n",
    "                    if row in column_neighbors or column in row_neighbors:\n",
    "                        value = self.c_coeff*np.exp(-self.distance_matrix[row][column]**2/(2*self.sigma**2))\n",
    "                    else:\n",
    "                        value = 0\n",
    "                        \n",
    "                elif self.method == 'chinese_weiss_supervised':\n",
    "                    \n",
    "                    row_neighbors = self.distance_matrix[row].argsort()[1:self.k_neighbors+1]\n",
    "                    column_neighbors = self.distance_matrix[column].argsort()[1:self.k_neighbors+1]\n",
    "                    \n",
    "                    if row in column_neighbors or column in row_neighbors:\n",
    "                        if self.labels[row] == self.labels[column]:\n",
    "                            value = self.a_equal_coeff*np.exp(-self.distance_matrix[row][column]**2/(2*self.sigma**2))\n",
    "                        else:\n",
    "                            value = self.b_unequal_coeff*np.exp(-self.distance_matrix[row][column]**2/(2*self.sigma**2))\n",
    "                    else:\n",
    "                        value = 0\n",
    "                    \n",
    "                w[row, column] = value\n",
    "                \n",
    "                if row != column:\n",
    "                    w[column, row] = value\n",
    "        \n",
    "    def parallel_operation2(self, row_interval, w_matrix, d):\n",
    "        for row in range(row_interval[0], row_interval[1]):\n",
    "            sum_row = np.sum(w_matrix[row])\n",
    "            d[row, row] = sum_row\n",
    "                \n",
    "    def w_matrix(self):\n",
    "        \n",
    "        data_size, _ = self.tf_idf_features_matrix.shape\n",
    "        \n",
    "        try:\n",
    "            with h5py.File('w_matrix-{}_{}_{}_{}_{}_{}_{}.hdf5'.format(data_size, self.method, self.sigma, self.c_coeff, \n",
    "                                                          self.a_equal_coeff, self.b_unequal_coeff, self.k_neighbors), 'r') as f:\n",
    "                w = f['w_matrix'].value\n",
    "                elapsed_time = f['time'].value\n",
    "                print(\"Preexist W matrix\")\n",
    "                print(\"Time to compute: {} min\".format(elapsed_time/60))\n",
    "                \n",
    "        except:\n",
    "            print(\"Not preexist W matrix\")\n",
    "            print(\"Calculated using {} method ...\".format(self.method))\n",
    "            \n",
    "            start_time = time.time()\n",
    "            \n",
    "            w = np.zeros((data_size, data_size))\n",
    "\n",
    "            cores_count = multiprocessing.cpu_count()\n",
    "            bounds = list(range(mt.floor(data_size/cores_count), \n",
    "                                data_size-data_size%cores_count+1, mt.floor(data_size/cores_count)))\n",
    "            \n",
    "            bounds[-1] += data_size%cores_count\n",
    "\n",
    "            threads = list()\n",
    "\n",
    "            lower_bound = 0\n",
    "\n",
    "            for index, upper_bound in enumerate(bounds):\n",
    "                #print(\"({}, {})\".format(lower_bound, upper_bound))\n",
    "                threads.append(threading.Thread(target = self.parallel_operation, args=([lower_bound, upper_bound], w)))\n",
    "                lower_bound = upper_bound\n",
    "\n",
    "            for thread in threads:\n",
    "                thread.start()\n",
    "\n",
    "            for thread in threads:\n",
    "                thread.join()\n",
    "\n",
    "            elapsed_time = time.time() - start_time\n",
    "           \n",
    "            print(\"Time to compute: {} min\".format(elapsed_time/60))\n",
    "\n",
    "            with h5py.File('w_matrix-{}_{}_{}_{}_{}_{}_{}.hdf5'.format(data_size, self.method, self.sigma, self.c_coeff, \n",
    "                                                          self.a_equal_coeff, self.b_unequal_coeff, self.k_neighbors), 'w') as f:\n",
    "                f.create_dataset('w_matrix', data = w)\n",
    "                f.create_dataset('time', data = elapsed_time)\n",
    "\n",
    "        print(\"Nonzero elements count: {}\".format(np.count_nonzero(w)))\n",
    "        print(\"Ratio: {}\".format(np.count_nonzero(w)/data_size**2))\n",
    "                \n",
    "        return w\n",
    "    \n",
    "    def d_matrix(self, w_matrix):\n",
    "        \n",
    "        print(\"Calculated D matrix\")\n",
    "        \n",
    "        data_size, _ = self.tf_idf_features_matrix.shape\n",
    "        \n",
    "        start_time = time.time()\n",
    "        d = np.zeros((data_size, data_size))\n",
    "\n",
    "        cores_count = multiprocessing.cpu_count()\n",
    "        bounds = list(range(mt.floor(data_size/cores_count), \n",
    "                            data_size-data_size%cores_count+1, mt.floor(data_size/cores_count)))\n",
    "\n",
    "        bounds[-1] += data_size%cores_count\n",
    "\n",
    "        threads = list()\n",
    "\n",
    "        lower_bound = 0\n",
    "\n",
    "        for index, upper_bound in enumerate(bounds):\n",
    "            #print(\"({}, {})\".format(lower_bound, upper_bound))\n",
    "            threads.append(threading.Thread(target = self.parallel_operation2, args=([lower_bound, upper_bound], w_matrix, d)))\n",
    "            lower_bound = upper_bound\n",
    "            \n",
    "        for thread in threads:\n",
    "            thread.start()\n",
    "\n",
    "        for thread in threads:\n",
    "            thread.join()\n",
    "\n",
    "        elapsed_time = time.time() - start_time\n",
    "        \n",
    "        print(\"Time to compute: {} min\".format(elapsed_time/60))\n",
    "\n",
    "        return d\n",
    "    \n",
    "    def binary_codes(self, hash_len = 64):\n",
    "        \n",
    "        data_size, _ = self.tf_idf_features_matrix.shape\n",
    "        \n",
    "        try:\n",
    "            with h5py.File('hash_codes-{}_{}_{}_{}_{}_{}_{}_{}.hdf5'.format(data_size, hash_len, self.method, self.sigma, self.c_coeff, \n",
    "                                                          self.a_equal_coeff, self.b_unequal_coeff, self.k_neighbors), 'r') as f:\n",
    "                eigen_values = f['eigen_values'].value\n",
    "                eigen_vectors = f['eigen_vectors'].value\n",
    "                hash_codes = f['hash_codes'].value\n",
    "                elapsed_time = f['time'].value\n",
    "                \n",
    "                print(\"Preexist hash codes\")\n",
    "                print(\"Time to compute: {} min\".format(elapsed_time/60))\n",
    "                \n",
    "        except:\n",
    "        \n",
    "            print(\"Calculated hash codes\")\n",
    "        \n",
    "            w_matrix = self.w_matrix()\n",
    "            d_matrix = self.d_matrix(w_matrix)\n",
    "\n",
    "            #print(w_matrix)\n",
    "            #print(\"\\n\")\n",
    "            #print(d_matrix)\n",
    "            #print(\"\\n\")\n",
    "\n",
    "            start_time = time.time()\n",
    "\n",
    "            sub_martix = d_matrix-w_matrix\n",
    "            eigen_values, eigen_vectors = np.linalg.eig(sub_martix)\n",
    "\n",
    "            #print(sub_martix)\n",
    "            #print(\"\\n\")\n",
    "            #print(eigen_values)\n",
    "            #print(\"\\n\")\n",
    "            #print(eigen_vectors)\n",
    "            #print(\"\\n\")\n",
    "\n",
    "            eigen_values = np.delete(eigen_values, 0)\n",
    "            eigen_vectors = np.delete(eigen_vectors, 0, 1)\n",
    "\n",
    "            #print(eigen_values)\n",
    "            #print(\"\\n\")\n",
    "            #print(eigen_vectors)\n",
    "            #print(\"\\n\")\n",
    "\n",
    "            min_eigen_values = np.argsort(eigen_values)\n",
    "            #print(min_eigen_values)\n",
    "\n",
    "            count = 0\n",
    "            hash_codes = list()\n",
    "\n",
    "            for i in range(hash_len):\n",
    "                min_eigen_values[count]\n",
    "                #print(eigen_values[min_eigen_values[count]])\n",
    "                #print(eigen_vectors[:, min_eigen_values[count]])\n",
    "                hash_codes.append(eigen_vectors[:, min_eigen_values[count]])\n",
    "                #print(\"\\n\")\n",
    "                count += 1\n",
    "\n",
    "            hash_codes = np.asarray(hash_codes).transpose()\n",
    "            #print(hash_codes)\n",
    "            #print(\"\\n\")\n",
    "\n",
    "            threshold = lambda x: 1 if x>=0 else 0 \n",
    "            vfunc = np.vectorize(threshold)\n",
    "\n",
    "            hash_codes = vfunc(hash_codes)\n",
    "\n",
    "            #print(hash_codes)\n",
    "            #print(\"\\n\")\n",
    "\n",
    "            elapsed_time = time.time() - start_time\n",
    "\n",
    "            print(\"Time to compute: {} min\".format(elapsed_time/60))\n",
    "\n",
    "            with h5py.File('hash_codes-{}_{}_{}_{}_{}_{}_{}_{}.hdf5'.format(data_size, hash_len, self.method, self.sigma, self.c_coeff, \n",
    "                                                        self.a_equal_coeff, self.b_unequal_coeff, self.k_neighbors), 'w') as f:\n",
    "                f.create_dataset('eigen_values', data = eigen_values)\n",
    "                f.create_dataset('eigen_vectors', data = eigen_vectors)\n",
    "                f.create_dataset('hash_codes', data = hash_codes)\n",
    "                f.create_dataset('time', data = elapsed_time)\n",
    "        \n",
    "        return hash_codes"
   ]
  },
  {
   "cell_type": "code",
   "execution_count": 6,
   "metadata": {
    "collapsed": true
   },
   "outputs": [],
   "source": [
    "%matplotlib inline\n",
    "\n",
    "from nltk.stem.porter import PorterStemmer\n",
    "from nltk import FreqDist\n",
    "import pandas as pd\n",
    "import csv\n",
    "\n",
    "class prepare_input:\n",
    "    \n",
    "    def __init__(self, glove_data_file = \"glove.6B.50d.txt\", steamming = False):\n",
    "        self.glove_data_file = glove_data_file\n",
    "        self.glove_vocab = dict()\n",
    "        self.steamming = steamming\n",
    "    \n",
    "    def load_glove_embedding(self):\n",
    "        if len(self.glove_vocab) != 0:\n",
    "            print('Glove is already loaded')\n",
    "            return\n",
    "\n",
    "        stemmer = PorterStemmer()\n",
    "        \n",
    "        with open(self.glove_data_file, encoding=\"utf8\") as file:\n",
    "            for line in file:\n",
    "                split_line = line.split()\n",
    "                word = split_line[0]\n",
    "                embedding = list(float(val) for val in split_line[1:])\n",
    "                if self.steamming:\n",
    "                    stemmed_word = stemmer.stem(word)\n",
    "                    #print('word: {} stemmed word: {}'.format(word, stemmed_word))\n",
    "                    if stemmed_word in self.glove_vocab.keys():\n",
    "                        #print(\"Collision Problem:\")\n",
    "                        #print(word)\n",
    "                        #print(stemmed_word)\n",
    "                        #print('previous vector:')\n",
    "                        #print(self.glove_vocab[stemmed_word])\n",
    "                        #print('new vector:')\n",
    "                        #print(embedding)\n",
    "                        continue\n",
    "                    else:\n",
    "                        self.glove_vocab[stemmed_word] = embedding\n",
    "                else:    \n",
    "                    self.glove_vocab[word] = embedding\n",
    "        \n",
    "    def to_glove_embedding(self, dataset):\n",
    "        \n",
    "        start_time = time.time()\n",
    "        \n",
    "        if len(self.glove_vocab) == 0:\n",
    "            print('The embedding is not loaded yet')\n",
    "            return \n",
    "\n",
    "        embedded_data = list()\n",
    "        \n",
    "        features = pd.read_table(\"glove.6B.50d.txt\", sep=\" \", index_col=0, header=None, quoting=csv.QUOTE_NONE)\n",
    "        features_means = features.describe().loc['mean'].values\n",
    "        features_std = features.describe().loc['std'].values\n",
    "        \n",
    "        missing_words = dict()\n",
    "        tokens = list()\n",
    "        missing_tokens = list()\n",
    "        \n",
    "        for document in dataset['data']:\n",
    "            embedded_document = list()\n",
    "            sentence = document.split()\n",
    "            \n",
    "            for word in sentence:\n",
    "                tokens.append(word)\n",
    "                if word in self.glove_vocab.keys():\n",
    "                    embedded_document.append(self.glove_vocab[word])\n",
    "                else:\n",
    "                    missing_tokens.append(word)\n",
    "                    if word not in missing_words.keys():\n",
    "                        \n",
    "                        generated_vector = []\n",
    "                        \n",
    "                        for i in range(len(features_means)):\n",
    "                            normal_dist = np.random.normal(features_means[i], features_std[i], 10000)\n",
    "                            selected_element = np.random.choice(normal_dist)\n",
    "                            generated_vector.append(selected_element)\n",
    "                        \n",
    "                        missing_words[word] = generated_vector\n",
    "                        \n",
    "                    embedded_document.append(missing_words[word])\n",
    "                    \n",
    "            embedded_data.append(embedded_document)\n",
    "            \n",
    "        elapsed_time = time.time() - start_time\n",
    "        \n",
    "        count_tokens = len(tokens)\n",
    "        count_words = len(list(set(tokens)))\n",
    "        count_missing_tokens = len(missing_tokens)\n",
    "        count_missing_words = len(missing_words)\n",
    "        \n",
    "        print(\"Time to compute: {} min\".format(elapsed_time/60))\n",
    "        print(\"\\n\")\n",
    "        print(\"Number of tokens: {}\".format(count_tokens))\n",
    "        print(\"Vocabulary size: {}\".format(count_words))\n",
    "        print(\"Missing tokes: {}\".format(count_missing_tokens))\n",
    "        print(\"Missing words: {}\".format(count_missing_words))\n",
    "        print(\"Token coverage: {} or {}%\".format(count_tokens-count_missing_tokens, \n",
    "                                                 100*(count_tokens-count_missing_tokens)/count_tokens))\n",
    "        print(\"Vocabulary coverage: {} or {}%\".format(count_words-count_missing_words, \n",
    "                                                      100*(count_words-count_missing_words)/count_words))\n",
    "    \n",
    "        freqDis = FreqDist(tokens)\n",
    "        freqDis.plot(30, title='Word Frequency')\n",
    "        \n",
    "        freqDis = FreqDist(missing_tokens)\n",
    "        freqDis.plot(30, title='Missing Word Frequency')\n",
    "\n",
    "        print('\\nVocabulary: {}'.format(len(self.glove_vocab)))\n",
    "        print('\\nMissing Word: {}'.format(len(missing_words)))\n",
    "        \n",
    "        self.glove_vocab = {**self.glove_vocab, **missing_words}\n",
    "        \n",
    "        print('\\nCombinated Vocabulary: {}'.format(len(self.glove_vocab)))\n",
    "        \n",
    "        return embedded_data\n",
    "    \n",
    "    def add_padding(self, embedded_dataset, padding_symbol = 100.0):\n",
    "        document_sizes = list(len(document) for document in embedded_dataset)\n",
    "        max_document_size = max(document_sizes)\n",
    "        \n",
    "        for index in range(len(document_sizes)):\n",
    "            diference = max_document_size - len(embedded_dataset[index])\n",
    "            for _ in range(diference):\n",
    "                padding_vector = [padding_symbol] * len(embedded_dataset[index][0])\n",
    "                embedded_dataset[index].append(padding_vector)\n",
    "        \n",
    "        return embedded_dataset\n",
    "    \n",
    "    def encode_hash(self, hash_code):\n",
    "        encode_hash_code = list()\n",
    "        for bit in hash_code:\n",
    "            if bit == 0:\n",
    "                encode_hash_code.append([1, 0])\n",
    "            elif bit == 1:\n",
    "                encode_hash_code.append([0, 1])\n",
    "            else:\n",
    "                encode_hash_code.append([0, 0])\n",
    "        return np.asarray(encode_hash_code)\n",
    "    \n",
    "    def encode_hashes(self, hash_codes):\n",
    "        encoded_hashes = []\n",
    "        for hash_code in hash_codes:\n",
    "            encoded_hashes.append(self.encode_hash(hash_code))\n",
    "        return np.asarray(encoded_hashes)\n",
    "  \n",
    "    def decode_hash(self, encode_hash):\n",
    "        hash_code = list()\n",
    "        for bit in encode_hash:\n",
    "            if np.array_equal(bit, np.array([0,0])):\n",
    "                hash_code.append(2) \n",
    "            else:\n",
    "                hash_code.append(np.argmax(bit)) \n",
    "        return np.asarray(hash_code)\n",
    "    \n",
    "    def decode_hashes(self, hash_codes):\n",
    "        encoded_hashes = []\n",
    "        for hash_code in hash_codes:\n",
    "            encoded_hashes.append(self.decode_hash(hash_code))\n",
    "        return np.asarray(encoded_hashes)\n",
    "    \n",
    "    def shift_hash_code(self, hash_code):\n",
    "        y_shift_temp = [2]\n",
    "        for i in range(len(hash_code) - 1):\n",
    "            y_shift_temp.append(hash_code[i])\n",
    "        return np.asarray(y_shift_temp)\n",
    "    \n",
    "    def shift_hash_codes(self, hash_codes):\n",
    "        encoded_hashes = []\n",
    "        for hash_code in hash_codes:\n",
    "            encoded_hashes.append(self.shift_hash_code(hash_code))\n",
    "        return np.asarray(encoded_hashes)"
   ]
  },
  {
   "cell_type": "code",
   "execution_count": 7,
   "metadata": {
    "scrolled": false
   },
   "outputs": [
    {
     "name": "stdout",
     "output_type": "stream",
     "text": [
      "Original\n",
      "array([[1, 1, 0, 1, 0],\n",
      "       [0, 1, 1, 1, 0],\n",
      "       [0, 0, 0, 1, 1]])\n",
      "(3, 5)\n",
      "\n",
      "Shifted\n",
      "array([[2, 1, 1, 0, 1],\n",
      "       [2, 0, 1, 1, 1],\n",
      "       [2, 0, 0, 0, 1]])\n",
      "(3, 5)\n",
      "\n",
      "Encode\n",
      "array([[[0, 0],\n",
      "        [0, 1],\n",
      "        [0, 1],\n",
      "        [1, 0],\n",
      "        [0, 1]],\n",
      "\n",
      "       [[0, 0],\n",
      "        [1, 0],\n",
      "        [0, 1],\n",
      "        [0, 1],\n",
      "        [0, 1]],\n",
      "\n",
      "       [[0, 0],\n",
      "        [1, 0],\n",
      "        [1, 0],\n",
      "        [1, 0],\n",
      "        [0, 1]]])\n",
      "(3, 5, 2)\n",
      "\n",
      "Decode_hashes\n",
      "array([[2, 1, 1, 0, 1],\n",
      "       [2, 0, 1, 1, 1],\n",
      "       [2, 0, 0, 0, 1]], dtype=int64)\n",
      "(3, 5)\n",
      "\n",
      "Encode_original_hashes\n",
      "array([[[0, 1],\n",
      "        [0, 1],\n",
      "        [1, 0],\n",
      "        [0, 1],\n",
      "        [1, 0]],\n",
      "\n",
      "       [[1, 0],\n",
      "        [0, 1],\n",
      "        [0, 1],\n",
      "        [0, 1],\n",
      "        [1, 0]],\n",
      "\n",
      "       [[1, 0],\n",
      "        [1, 0],\n",
      "        [1, 0],\n",
      "        [0, 1],\n",
      "        [0, 1]]])\n",
      "(3, 5, 2)\n",
      "\n",
      "Decode_original_hashes\n",
      "array([[1, 1, 0, 1, 0],\n",
      "       [0, 1, 1, 1, 0],\n",
      "       [0, 0, 0, 1, 1]], dtype=int64)\n",
      "(3, 5)\n"
     ]
    }
   ],
   "source": [
    "prepare = prepare_input(steamming = True)\n",
    "\n",
    "print('Original')\n",
    "testCode = np.array([[1, 1, 0, 1, 0], [0, 1, 1, 1, 0], [0, 0, 0, 1, 1]])\n",
    "pprint(testCode)\n",
    "pprint(testCode.shape)\n",
    "\n",
    "print('\\nShifted')\n",
    "shiftTestCode = prepare.shift_hash_codes(testCode)\n",
    "pprint(shiftTestCode)\n",
    "pprint(shiftTestCode.shape)\n",
    "\n",
    "print('\\nEncode')\n",
    "encodeTestCode = prepare.encode_hashes(shiftTestCode)\n",
    "pprint(encodeTestCode)\n",
    "pprint(encodeTestCode.shape)\n",
    "\n",
    "print('\\nDecode_hashes')\n",
    "decodeTestCode = prepare.decode_hashes(encodeTestCode)\n",
    "pprint(decodeTestCode)\n",
    "pprint(decodeTestCode.shape)\n",
    "\n",
    "print('\\nEncode_original_hashes')\n",
    "encodeTestCode = prepare.encode_hashes(testCode)\n",
    "pprint(encodeTestCode)\n",
    "pprint(encodeTestCode.shape)\n",
    "\n",
    "print('\\nDecode_original_hashes')\n",
    "decodeTestCode = prepare.decode_hashes(encodeTestCode)\n",
    "pprint(decodeTestCode)\n",
    "pprint(decodeTestCode.shape)"
   ]
  },
  {
   "cell_type": "code",
   "execution_count": null,
   "metadata": {
    "collapsed": true
   },
   "outputs": [],
   "source": []
  },
  {
   "cell_type": "code",
   "execution_count": 8,
   "metadata": {
    "scrolled": false
   },
   "outputs": [
    {
     "name": "stdout",
     "output_type": "stream",
     "text": [
      "Time to compute: 5.431404821077982 min\n",
      "\n",
      "\n",
      "Number of tokens: 984277\n",
      "Vocabulary size: 41877\n",
      "Missing tokes: 46290\n",
      "Missing words: 14134\n",
      "Token coverage: 937987 or 95.29705560528184%\n",
      "Vocabulary coverage: 27743 or 66.2487761778542%\n"
     ]
    },
    {
     "data": {
      "image/png": "[encoded data removed]",
      "text/plain": [
       "<Figure size 432x288 with 1 Axes>"
      ]
     },
     "metadata": {
      "needs_background": "light"
     },
     "output_type": "display_data"
    },
    {
     "data": {
      "image/png": "[encoded data removed]",
      "text/plain": [
       "<Figure size 432x288 with 1 Axes>"
      ]
     },
     "metadata": {
      "needs_background": "light"
     },
     "output_type": "display_data"
    },
    {
     "name": "stdout",
     "output_type": "stream",
     "text": [
      "\n",
      "Vocabulary: 332470\n",
      "\n",
      "Missing Word: 14134\n",
      "\n",
      "Combinated Vocabulary: 346604\n"
     ]
    }
   ],
   "source": [
    "prepare = prepare_input(steamming = True)\n",
    "prepare.load_glove_embedding()\n",
    "glove_em_before_padding = prepare.to_glove_embedding(tiny_train_dataset)"
   ]
  },
  {
   "cell_type": "code",
   "execution_count": 9,
   "metadata": {},
   "outputs": [
    {
     "name": "stdout",
     "output_type": "stream",
     "text": [
      "(10443, 300, 50)\n"
     ]
    }
   ],
   "source": [
    "glove_em = prepare.add_padding(glove_em_before_padding)\n",
    "glove_em = np.asarray(glove_em)\n",
    "print(glove_em.shape)"
   ]
  },
  {
   "cell_type": "code",
   "execution_count": 10,
   "metadata": {
    "scrolled": false
   },
   "outputs": [
    {
     "name": "stdout",
     "output_type": "stream",
     "text": [
      "10443\n",
      "Preexist hash codes\n",
      "Time to compute: 18.593010409673056 min\n",
      "array([[1, 0, 1, ..., 1, 1, 1],\n",
      "       [1, 0, 1, ..., 1, 1, 1],\n",
      "       [1, 0, 1, ..., 1, 1, 1],\n",
      "       ...,\n",
      "       [1, 0, 1, ..., 1, 1, 1],\n",
      "       [1, 0, 1, ..., 1, 1, 1],\n",
      "       [1, 0, 1, ..., 1, 0, 1]])\n",
      "\n",
      "\n",
      "10443\n",
      "\n",
      "\n",
      "10443\n",
      "\n",
      "\n",
      "10443\n",
      "\n",
      "\n"
     ]
    }
   ],
   "source": [
    "print(len(tiny_train_dataset['data']))\n",
    "\n",
    "hash_codes2 = binaryCodes(tiny_train_dataset, method = 'weiss')\n",
    "\n",
    "binary_codes = hash_codes2.binary_codes(hash_len = 64)\n",
    "\n",
    "pprint(binary_codes)\n",
    "#print(len(binary_codes))\n",
    "print(\"\\n\")\n",
    "\n",
    "shifted_codes = prepare.shift_hash_codes(binary_codes)\n",
    "#pprint(shifted_codes)\n",
    "print(len(shifted_codes))\n",
    "print(\"\\n\")\n",
    "\n",
    "encoded_hash_codes = prepare.encode_hashes(binary_codes)\n",
    "#pprint(encoded_hash_codes)\n",
    "print(len(encoded_hash_codes))\n",
    "print(\"\\n\")\n",
    "\n",
    "encoded_shited_hash_codes = prepare.encode_hashes(shifted_codes)\n",
    "#pprint(encoded_shited_hash_codes)\n",
    "print(len(encoded_shited_hash_codes))\n",
    "print(\"\\n\")"
   ]
  },
  {
   "cell_type": "code",
   "execution_count": 11,
   "metadata": {},
   "outputs": [
    {
     "name": "stdout",
     "output_type": "stream",
     "text": [
      "(10443, 64)\n"
     ]
    }
   ],
   "source": [
    "pprint(binary_codes.shape)"
   ]
  },
  {
   "cell_type": "code",
   "execution_count": null,
   "metadata": {
    "collapsed": true
   },
   "outputs": [],
   "source": []
  },
  {
   "cell_type": "code",
   "execution_count": null,
   "metadata": {
    "collapsed": true
   },
   "outputs": [],
   "source": []
  },
  {
   "cell_type": "code",
   "execution_count": null,
   "metadata": {
    "collapsed": true
   },
   "outputs": [],
   "source": []
  },
  {
   "cell_type": "code",
   "execution_count": null,
   "metadata": {
    "collapsed": true
   },
   "outputs": [],
   "source": []
  },
  {
   "cell_type": "markdown",
   "metadata": {},
   "source": [
    "### More Layers"
   ]
  },
  {
   "cell_type": "code",
   "execution_count": 12,
   "metadata": {
    "scrolled": false
   },
   "outputs": [
    {
     "name": "stderr",
     "output_type": "stream",
     "text": [
      "Using TensorFlow backend.\n"
     ]
    },
    {
     "name": "stdout",
     "output_type": "stream",
     "text": [
      "num_features: 50\n",
      "hash_features: 2\n",
      "latent_dim: 256\n",
      "len_hash: 64\n",
      "num_samples: 10443\n",
      "max_lenght: 300\n",
      "\n",
      "\n",
      "(10443, 300, 50)\n",
      "(10443, 64, 2)\n",
      "(10443, 64, 2)\n",
      "\n",
      "conjunto de validacion: 2089\n",
      "\n",
      "(8354, 300, 50)\n",
      "(8354, 64, 2)\n",
      "(8354, 64, 2)\n",
      "(2089, 300, 50)\n",
      "(2089, 64, 2)\n",
      "(2089, 64, 2)\n",
      "\n",
      "\n",
      "Train on 8354 samples, validate on 2089 samples\n",
      "Epoch 1/56\n",
      "8354/8354 [==============================] - 382s 46ms/step - loss: 0.4087 - acc: 0.8055 - val_loss: 0.2232 - val_acc: 0.9424\n",
      "Epoch 2/56\n",
      "8354/8354 [==============================] - 403s 48ms/step - loss: 0.3368 - acc: 0.8553 - val_loss: 0.1990 - val_acc: 0.9501\n",
      "Epoch 3/56\n",
      "8354/8354 [==============================] - 387s 46ms/step - loss: 0.1897 - acc: 0.9483 - val_loss: 0.1646 - val_acc: 0.9599\n",
      "Epoch 4/56\n",
      "8354/8354 [==============================] - 405s 48ms/step - loss: 0.1577 - acc: 0.9615 - val_loss: 0.1726 - val_acc: 0.9588\n",
      "Epoch 5/56\n",
      "8354/8354 [==============================] - 406s 49ms/step - loss: 0.1546 - acc: 0.9618 - val_loss: 0.1546 - val_acc: 0.9608\n",
      "Epoch 6/56\n",
      "8354/8354 [==============================] - 394s 47ms/step - loss: 0.1524 - acc: 0.9619 - val_loss: 0.1569 - val_acc: 0.9608\n",
      "Epoch 7/56\n",
      "8354/8354 [==============================] - 411s 49ms/step - loss: 0.1524 - acc: 0.9611 - val_loss: 0.1653 - val_acc: 0.9528\n",
      "Epoch 8/56\n",
      "8354/8354 [==============================] - 410s 49ms/step - loss: 0.2138 - acc: 0.9298 - val_loss: 0.1760 - val_acc: 0.9549\n",
      "Epoch 9/56\n",
      "8354/8354 [==============================] - 414s 50ms/step - loss: 0.1585 - acc: 0.9614 - val_loss: 0.1648 - val_acc: 0.9602\n",
      "Epoch 10/56\n",
      "8354/8354 [==============================] - 415s 50ms/step - loss: 0.1536 - acc: 0.9618 - val_loss: 0.1572 - val_acc: 0.9606\n",
      "Epoch 00010: early stopping\n",
      "Time to compute: 90.36084631681442 min\n"
     ]
    },
    {
     "data": {
      "image/png": "[encoded data removed]",
      "text/plain": [
       "<Figure size 432x288 with 1 Axes>"
      ]
     },
     "metadata": {
      "needs_background": "light"
     },
     "output_type": "display_data"
    },
    {
     "data": {
      "image/png": "[encoded data removed]",
      "text/plain": [
       "<Figure size 432x288 with 1 Axes>"
      ]
     },
     "metadata": {
      "needs_background": "light"
     },
     "output_type": "display_data"
    },
    {
     "name": "stdout",
     "output_type": "stream",
     "text": [
      "finish training\n"
     ]
    }
   ],
   "source": [
    "%matplotlib inline\n",
    "\n",
    "from keras.models import Model\n",
    "from keras.layers import Input\n",
    "from keras.layers import LSTM\n",
    "from keras.layers import Dense\n",
    "from keras.layers import Masking\n",
    "from keras.callbacks import EarlyStopping, ModelCheckpoint\n",
    "import numpy as np\n",
    "from pprint import pprint\n",
    "from keras.utils.vis_utils import plot_model\n",
    "import matplotlib.pyplot as plt\n",
    "import time\n",
    "import math \n",
    "import random\n",
    "import copy \n",
    "\n",
    "\n",
    "num_features = glove_em.shape[2]\n",
    "hash_features = encoded_hash_codes.shape[2]\n",
    "latent_dim = 256\n",
    "len_hash = encoded_hash_codes.shape[1]\n",
    "num_samples = glove_em.shape[0]\n",
    "max_lenght = glove_em.shape[1]\n",
    "\n",
    "print(\"num_features: {}\".format(num_features))\n",
    "print(\"hash_features: {}\".format(hash_features))\n",
    "print(\"latent_dim: {}\".format(latent_dim))\n",
    "print(\"len_hash: {}\".format(len_hash))\n",
    "print(\"num_samples: {}\".format(num_samples))\n",
    "print(\"max_lenght: {}\".format(max_lenght))\n",
    "print(\"\\n\")\n",
    "\n",
    "# Training Model\n",
    "\n",
    "# Define encoder, an input sequence and process it.\n",
    "encoder_inputs = Input(shape=(None, num_features))\n",
    "encoder_inputs_mask = Masking(mask_value = 100.0)(encoder_inputs)\n",
    "encoder = LSTM(latent_dim, return_state=True)\n",
    "encoder_outputs, state_h, state_c = encoder(encoder_inputs_mask)\n",
    "\n",
    "encoder_states = [state_h, state_c]\n",
    "\n",
    "# Set up the decoder, using `encoder_states` as initial state.\n",
    "decoder_inputs = Input(shape=(None, hash_features))\n",
    "\n",
    "# We set up our decoder to return full output sequences,\n",
    "# and to return internal states as well. We don't use the\n",
    "# return states in the training model, but we will use them in inference.\n",
    "decoder_lstm = LSTM(latent_dim, return_sequences=True, return_state=True)\n",
    "decoder_outputs, _, _ = decoder_lstm(decoder_inputs, initial_state=encoder_states)\n",
    "decoder_dense = Dense(hash_features, activation='softmax')\n",
    "decoder_outputs = decoder_dense(decoder_outputs)\n",
    "\n",
    "# Define the model that will turn\n",
    "# `encoder_input_data` & `decoder_input_data` into `decoder_target_data`\n",
    "model = Model([encoder_inputs, decoder_inputs], decoder_outputs)\n",
    "model.compile(optimizer='adam', loss='categorical_crossentropy', metrics=['acc'])\n",
    "\n",
    "callbacks = [\n",
    "    EarlyStopping(monitor='val_loss', patience = 5, verbose = 1),\n",
    "    #ModelCheckpoint(filepath='best_model.h5', monitor='val_loss', save_best_only=True)\n",
    "]\n",
    "\n",
    "start_time = time.time()\n",
    "\n",
    "val_glove_em = []\n",
    "val_encoded_shited_hash_codes = []\n",
    "val_encoded_hash_codes = []\n",
    "\n",
    "print(glove_em.shape)\n",
    "print(encoded_shited_hash_codes.shape)\n",
    "print(encoded_hash_codes.shape)\n",
    "\n",
    "random.seed(7)\n",
    "\n",
    "print('\\nconjunto de validacion: {}\\n'.format(math.ceil(num_samples*0.2)))\n",
    "\n",
    "actual_num_samples = num_samples\n",
    "\n",
    "for _ in range(0, math.ceil(num_samples*0.2)):\n",
    "    selected_index = random.randint(0, actual_num_samples-1)\n",
    "    \n",
    "    #print(selected_index)\n",
    "    \n",
    "    selected_glove_em = copy.deepcopy(glove_em[selected_index])\n",
    "    selected_encoded_shited_hash_codes = copy.deepcopy(encoded_shited_hash_codes[selected_index])\n",
    "    selected_encoded_hash_codes = copy.deepcopy(encoded_hash_codes[selected_index])\n",
    "    \n",
    "    val_glove_em.append(selected_glove_em)\n",
    "    val_encoded_shited_hash_codes.append(selected_encoded_shited_hash_codes)\n",
    "    val_encoded_hash_codes.append(selected_encoded_hash_codes)\n",
    "    \n",
    "    glove_em = np.delete(glove_em, selected_index, 0)\n",
    "    encoded_shited_hash_codes = np.delete(encoded_shited_hash_codes, selected_index, 0)\n",
    "    encoded_hash_codes = np.delete(encoded_hash_codes, selected_index, 0)\n",
    "    \n",
    "    actual_num_samples -= 1\n",
    "    \n",
    "print(glove_em.shape)\n",
    "print(encoded_shited_hash_codes.shape)\n",
    "print(encoded_hash_codes.shape)\n",
    "        \n",
    "val_glove_em = np.asarray(val_glove_em).reshape((len(val_glove_em), glove_em.shape[1], glove_em.shape[2]))    \n",
    "val_encoded_shited_hash_codes = np.asarray(val_encoded_shited_hash_codes).reshape((len(val_encoded_shited_hash_codes), encoded_shited_hash_codes.shape[1], encoded_shited_hash_codes.shape[2]))\n",
    "val_encoded_hash_codes = np.asarray(val_encoded_hash_codes).reshape((len(val_encoded_hash_codes), encoded_hash_codes.shape[1], encoded_hash_codes.shape[2]))\n",
    "\n",
    "print(val_glove_em.shape)\n",
    "print(val_encoded_shited_hash_codes.shape)\n",
    "print(val_encoded_hash_codes.shape)\n",
    "print('\\n')\n",
    "\n",
    "history = model.fit(\n",
    "    [glove_em, encoded_shited_hash_codes], \n",
    "    encoded_hash_codes, \n",
    "    epochs = 56, \n",
    "    validation_data = ([val_glove_em, val_encoded_shited_hash_codes], val_encoded_hash_codes),\n",
    "    callbacks = callbacks\n",
    ")\n",
    "\n",
    "elapsed_time = time.time() - start_time\n",
    "print(\"Time to compute: {} min\".format(elapsed_time/60))\n",
    "\n",
    "# summarize history for accuracy\n",
    "plt.plot(history.history['acc'], label='train')\n",
    "plt.plot(history.history['val_acc'], label='validation')\n",
    "plt.title('model accuracy')\n",
    "plt.ylabel('accuracy')\n",
    "plt.xlabel('epoch')\n",
    "plt.legend(['train', 'validation'], loc='upper left')\n",
    "plt.show()\n",
    "\n",
    "# summarize history for loss\n",
    "plt.plot(history.history['loss'], label='train')\n",
    "plt.plot(history.history['val_loss'], label='validation')\n",
    "plt.title('model loss')\n",
    "plt.ylabel('loss')\n",
    "plt.xlabel('epoch')\n",
    "plt.legend(['train', 'validation'], loc='upper left')\n",
    "plt.show()\n",
    "\n",
    "print('finish training')"
   ]
  },
  {
   "cell_type": "code",
   "execution_count": 13,
   "metadata": {},
   "outputs": [
    {
     "name": "stdout",
     "output_type": "stream",
     "text": [
      "[[[0. 0.]]]\n"
     ]
    }
   ],
   "source": [
    "target_seq = np.zeros((1, 1, 2))\n",
    "print(target_seq)\n",
    "#target_seq[0, 0, 2] = 1"
   ]
  },
  {
   "cell_type": "code",
   "execution_count": 14,
   "metadata": {
    "scrolled": false
   },
   "outputs": [
    {
     "name": "stdout",
     "output_type": "stream",
     "text": [
      "Modelo de Inferencia\n"
     ]
    }
   ],
   "source": [
    "# Inference Model\n",
    "\n",
    "print('Modelo de Inferencia')\n",
    "# define encoder inference model\n",
    "encoder_model = Model(encoder_inputs, encoder_states)\n",
    "\n",
    "decoder_state_input_h = Input(shape=(latent_dim,))\n",
    "decoder_state_input_c = Input(shape=(latent_dim,))\n",
    "\n",
    "decoder_states_inputs = [decoder_state_input_h, decoder_state_input_c]\n",
    "decoder_outputs, state_h, state_c = decoder_lstm(decoder_inputs, initial_state=decoder_states_inputs)\n",
    "\n",
    "decoder_states = [state_h, state_c]\n",
    "decoder_outputs = decoder_dense(decoder_outputs)\n",
    "decoder_model = Model([decoder_inputs] + decoder_states_inputs, [decoder_outputs] + decoder_states)\n",
    "\n",
    "def predict_hash_code(input_seq):\n",
    "\n",
    "    # Encode the input as state vectors.\n",
    "    states_value = encoder_model.predict(input_seq)\n",
    "    \n",
    "    # Generate empty target sequence of length 1.\n",
    "    target_seq = np.zeros((1, 1, hash_features))\n",
    "    hash_code = []\n",
    "    \n",
    "    prepare = prepare_input()\n",
    "\n",
    "    for _ in range(len_hash):\n",
    "\n",
    "        output_tokens, h, c = decoder_model.predict([target_seq] + states_value)\n",
    "        #pprint(output_tokens)\n",
    "        \n",
    "        decoded_hash = prepare.decode_hash(output_tokens[0])\n",
    "        #pprint(decoded_hash)\n",
    "        \n",
    "        hash_code.append(decoded_hash[0]);\n",
    "        \n",
    "        selected_bit = np.argmax(output_tokens[0])        \n",
    "        target_seq = np.zeros((1, 1, hash_features))\n",
    "        target_seq[0, 0, selected_bit] = 1\n",
    "        states_value = [h, c]\n",
    "    \n",
    "        #print(target_seq)\n",
    "        \n",
    "    return np.asarray(hash_code)"
   ]
  },
  {
   "cell_type": "code",
   "execution_count": 15,
   "metadata": {
    "scrolled": false
   },
   "outputs": [
    {
     "name": "stdout",
     "output_type": "stream",
     "text": [
      "[1 0 1 0 0 1 1 1 0 1 0 0 0 1 0 0 0 0 0 1 0 1 1 1 1 1 0 0 0 0 1 0 1 0 0 1 0\n",
      " 1 1 0 1 0 0 1 0 1 1 1 1 0 1 1 0 0 1 1 0 0 1 1 1 1 1 1]\n",
      "\n",
      "\n",
      "[1 0 1 0 0 1 1 1 0 1 0 1 0 1 0 0 0 0 0 1 0 1 1 1 1 1 0 0 0 0 1 0 1 0 0 1 0\n",
      " 1 1 0 1 0 0 1 0 1 1 1 1 0 1 1 0 0 1 1 0 0 1 1 1 1 1 1]\n"
     ]
    }
   ],
   "source": [
    "test_example = glove_em[2].reshape((1, glove_em.shape[1], glove_em.shape[2]))\n",
    "print(binary_codes[2])\n",
    "print('\\n')\n",
    "print(predict_hash_code(test_example))"
   ]
  },
  {
   "cell_type": "code",
   "execution_count": 66,
   "metadata": {
    "collapsed": true
   },
   "outputs": [],
   "source": [
    "from sklearn.neighbors import DistanceMetric\n",
    "\n",
    "class hashingDatabase:\n",
    "    \n",
    "    def __init__(self):\n",
    "        self.database = []\n",
    "        self.labels = []\n",
    "    \n",
    "    def add_element(self, element, label):\n",
    "        self.database.append(element)\n",
    "        self.labels.append(label)\n",
    "        \n",
    "    def find_neighbours_position(self, element):\n",
    "        distance_metric = DistanceMetric.get_metric('hamming')\n",
    "        distance_vector = distance_metric.pairwise(element, self.database)\n",
    "        return np.argsort(distance_vector)\n",
    "    \n",
    "    def evaluate_P_K(self, element, label, k = None):\n",
    "        neighbours_position = self.find_neighbours_position(element)[0][:k]\n",
    "        matched = 0\n",
    "        #print(neighbours_position)\n",
    "        for neighbour_position in neighbours_position:\n",
    "            #print('neighbor label: {}'.format(self.labels[neighbour_position]))\n",
    "            if self.labels[neighbour_position] == label:\n",
    "                matched += 1\n",
    "        #print('precision {}'.format(matched/k))        \n",
    "        return matched/k"
   ]
  },
  {
   "cell_type": "code",
   "execution_count": 67,
   "metadata": {
    "scrolled": false
   },
   "outputs": [
    {
     "name": "stdout",
     "output_type": "stream",
     "text": [
      "10443\n",
      "10443\n"
     ]
    }
   ],
   "source": [
    "database = hashingDatabase()\n",
    "\n",
    "#print(len(glove_em_before_padding))\n",
    "for i in range(len(glove_em_before_padding)):\n",
    "    #print(len(glove_em_before_padding[i]))\n",
    "    #print(i)\n",
    "    element = np.asarray(glove_em_before_padding[i])\n",
    "    #print(element.shape)\n",
    "    element = element.reshape((1, element.shape[0], element.shape[1]))\n",
    "    #print(element.shape)\n",
    "    #break\n",
    "    hash_code = predict_hash_code(element)\n",
    "    database.add_element(hash_code, tiny_train_dataset['target'][i])\n",
    "    \n",
    "print(len(database.database))\n",
    "print(len(database.labels))"
   ]
  },
  {
   "cell_type": "code",
   "execution_count": 15,
   "metadata": {},
   "outputs": [
    {
     "name": "stdout",
     "output_type": "stream",
     "text": [
      "Time to compute: 1.942947793006897 min\n",
      "\n",
      "\n",
      "Number of tokens: 655402\n",
      "Vocabulary size: 33552\n",
      "Missing tokes: 11211\n",
      "Missing words: 6531\n",
      "Token coverage: 644191 or 98.2894467822802%\n",
      "Vocabulary coverage: 27021 or 80.53469241773963%\n"
     ]
    },
    {
     "data": {
      "image/png": "[encoded data removed]",
      "text/plain": [
       "<Figure size 432x288 with 1 Axes>"
      ]
     },
     "metadata": {
      "needs_background": "light"
     },
     "output_type": "display_data"
    },
    {
     "data": {
      "image/png": "[encoded data removed]",
      "text/plain": [
       "<Figure size 432x288 with 1 Axes>"
      ]
     },
     "metadata": {
      "needs_background": "light"
     },
     "output_type": "display_data"
    },
    {
     "name": "stdout",
     "output_type": "stream",
     "text": [
      "\n",
      "Vocabulary: 346604\n",
      "\n",
      "Missing Word: 6531\n",
      "\n",
      "Combinated Vocabulary: 353135\n"
     ]
    }
   ],
   "source": [
    "glove_em_test = prepare.to_glove_embedding(tiny_test_dataset)"
   ]
  },
  {
   "cell_type": "code",
   "execution_count": 16,
   "metadata": {
    "scrolled": true
   },
   "outputs": [
    {
     "name": "stdout",
     "output_type": "stream",
     "text": [
      "precision at 1\n",
      "Mean Precision\n",
      "0.12349397590361445\n"
     ]
    }
   ],
   "source": [
    "k = 1\n",
    "precisions = []\n",
    "\n",
    "for i in range(len(glove_em_test)):\n",
    "    example = np.asarray(glove_em_test[i])\n",
    "    #print(example.shape)\n",
    "    example = example.reshape((1, example.shape[0], example.shape[1]))\n",
    "    #print(example.shape)\n",
    "    #break\n",
    "    hash_code = predict_hash_code(example).reshape((1, len_hash))\n",
    "    #print(hash_code)\n",
    "    #print(tiny_test_dataset['target'][i])\n",
    "    #print('Precision')\n",
    "    #print('hash: {}'.format(hash_code));\n",
    "    #print('target: {}'.format(tiny_test_dataset['target'][i]))\n",
    "    precision = database.evaluate_P_K(hash_code, tiny_test_dataset['target'][i], k)\n",
    "    #print(precision)\n",
    "    #print('\\n')\n",
    "    precisions.append(precision)\n",
    "    \n",
    "print(\"precision at {}\".format(k))\n",
    "print('Mean Precision')\n",
    "print(np.mean(precisions))\n",
    "    "
   ]
  },
  {
   "cell_type": "code",
   "execution_count": 17,
   "metadata": {
    "scrolled": true
   },
   "outputs": [
    {
     "name": "stdout",
     "output_type": "stream",
     "text": [
      "precision at 5\n",
      "Mean Precision\n",
      "0.14070567986230637\n"
     ]
    }
   ],
   "source": [
    "k = 5\n",
    "precisions = []\n",
    "\n",
    "for i in range(len(glove_em_test)):\n",
    "    example = np.asarray(glove_em_test[i])\n",
    "    #print(example.shape)\n",
    "    example = example.reshape((1, example.shape[0], example.shape[1]))\n",
    "    #print(example.shape)\n",
    "    #break\n",
    "    hash_code = predict_hash_code(example).reshape((1, len_hash))\n",
    "    #print(hash_code)\n",
    "    #print(tiny_test_dataset['target'][i])\n",
    "    #print('Precision')\n",
    "    #print('hash: {}'.format(hash_code));\n",
    "    #print('target: {}'.format(tiny_test_dataset['target'][i]))\n",
    "    precision = database.evaluate_P_K(hash_code, tiny_test_dataset['target'][i], k)\n",
    "    #print(precision)\n",
    "    #print('\\n')\n",
    "    precisions.append(precision)\n",
    "    \n",
    "#print(precisions)\n",
    "print(\"precision at {}\".format(k))\n",
    "print('Mean Precision')\n",
    "print(np.mean(precisions))\n",
    "    "
   ]
  },
  {
   "cell_type": "code",
   "execution_count": 18,
   "metadata": {},
   "outputs": [
    {
     "name": "stdout",
     "output_type": "stream",
     "text": [
      "precision at 10\n",
      "Mean Precision\n",
      "0.13990246701090076\n"
     ]
    }
   ],
   "source": [
    "k = 10\n",
    "precisions = []\n",
    "\n",
    "for i in range(len(glove_em_test)):\n",
    "    example = np.asarray(glove_em_test[i])\n",
    "    #print(example.shape)\n",
    "    example = example.reshape((1, example.shape[0], example.shape[1]))\n",
    "    #print(example.shape)\n",
    "    #break\n",
    "    hash_code = predict_hash_code(example).reshape((1, len_hash))\n",
    "    #print(hash_code)\n",
    "    #print(tiny_test_dataset['target'][i])\n",
    "    #print('Precision')\n",
    "    #print('hash: {}'.format(hash_code));\n",
    "    #print('target: {}'.format(tiny_test_dataset['target'][i]))\n",
    "    precision = database.evaluate_P_K(hash_code, tiny_test_dataset['target'][i], k)\n",
    "    #print(precision)\n",
    "    #print('\\n')\n",
    "    precisions.append(precision)\n",
    "    \n",
    "#print(precisions)\n",
    "print(\"precision at {}\".format(k))\n",
    "print('Mean Precision')\n",
    "print(np.mean(precisions))"
   ]
  },
  {
   "cell_type": "code",
   "execution_count": 19,
   "metadata": {},
   "outputs": [
    {
     "name": "stdout",
     "output_type": "stream",
     "text": [
      "precision at 15\n",
      "Mean Precision\n",
      "0.14076305220883534\n"
     ]
    }
   ],
   "source": [
    "k = 15\n",
    "precisions = []\n",
    "\n",
    "for i in range(len(glove_em_test)):\n",
    "    example = np.asarray(glove_em_test[i])\n",
    "    #print(example.shape)\n",
    "    example = example.reshape((1, example.shape[0], example.shape[1]))\n",
    "    #print(example.shape)\n",
    "    #break\n",
    "    hash_code = predict_hash_code(example).reshape((1, len_hash))\n",
    "    #print(hash_code)\n",
    "    #print(tiny_test_dataset['target'][i])\n",
    "    #print('Precision')\n",
    "    #print('hash: {}'.format(hash_code));\n",
    "    #print('target: {}'.format(tiny_test_dataset['target'][i]))\n",
    "    precision = database.evaluate_P_K(hash_code, tiny_test_dataset['target'][i], k)\n",
    "    #print(precision)\n",
    "    #print('\\n')\n",
    "    precisions.append(precision)\n",
    "    \n",
    "#print(precisions)\n",
    "print(\"precision at {}\".format(k))\n",
    "print('Mean Precision')\n",
    "print(np.mean(precisions))"
   ]
  },
  {
   "cell_type": "code",
   "execution_count": 20,
   "metadata": {},
   "outputs": [
    {
     "name": "stdout",
     "output_type": "stream",
     "text": [
      "precision at 20\n",
      "Mean Precision\n",
      "0.14163080895008606\n"
     ]
    }
   ],
   "source": [
    "k = 20\n",
    "precisions = []\n",
    "\n",
    "for i in range(len(glove_em_test)):\n",
    "    example = np.asarray(glove_em_test[i])\n",
    "    #print(example.shape)\n",
    "    example = example.reshape((1, example.shape[0], example.shape[1]))\n",
    "    #print(example.shape)\n",
    "    #break\n",
    "    hash_code = predict_hash_code(example).reshape((1, len_hash))\n",
    "    #print(hash_code)\n",
    "    #print(tiny_test_dataset['target'][i])\n",
    "    #print('Precision')\n",
    "    #print('hash: {}'.format(hash_code));\n",
    "    #print('target: {}'.format(tiny_test_dataset['target'][i]))\n",
    "    precision = database.evaluate_P_K(hash_code, tiny_test_dataset['target'][i], k)\n",
    "    #print(precision)\n",
    "    #print('\\n')\n",
    "    precisions.append(precision)\n",
    "    \n",
    "#print(precisions)\n",
    "print(\"precision at {}\".format(k))\n",
    "print('Mean Precision')\n",
    "print(np.mean(precisions))"
   ]
  },
  {
   "cell_type": "code",
   "execution_count": 21,
   "metadata": {},
   "outputs": [
    {
     "name": "stdout",
     "output_type": "stream",
     "text": [
      "precision at 50\n",
      "Mean Precision\n",
      "0.13550487664945496\n"
     ]
    }
   ],
   "source": [
    "k = 50\n",
    "precisions = []\n",
    "\n",
    "for i in range(len(glove_em_test)):\n",
    "    example = np.asarray(glove_em_test[i])\n",
    "    #print(example.shape)\n",
    "    example = example.reshape((1, example.shape[0], example.shape[1]))\n",
    "    #print(example.shape)\n",
    "    #break\n",
    "    hash_code = predict_hash_code(example).reshape((1, len_hash))\n",
    "    #print(hash_code)\n",
    "    #print(tiny_test_dataset['target'][i])\n",
    "    #print('Precision')\n",
    "    #print('hash: {}'.format(hash_code));\n",
    "    #print('target: {}'.format(tiny_test_dataset['target'][i]))\n",
    "    precision = database.evaluate_P_K(hash_code, tiny_test_dataset['target'][i], k)\n",
    "    #print(precision)\n",
    "    #print('\\n')\n",
    "    precisions.append(precision)\n",
    "    \n",
    "#print(precisions)\n",
    "print(\"precision at {}\".format(k))\n",
    "print('Mean Precision')\n",
    "print(np.mean(precisions))"
   ]
  },
  {
   "cell_type": "code",
   "execution_count": 22,
   "metadata": {},
   "outputs": [
    {
     "name": "stdout",
     "output_type": "stream",
     "text": [
      "precision at 100\n",
      "Mean Precision\n",
      "0.1251592082616179\n"
     ]
    }
   ],
   "source": [
    "k = 100\n",
    "precisions = []\n",
    "\n",
    "for i in range(len(glove_em_test)):\n",
    "    example = np.asarray(glove_em_test[i])\n",
    "    #print(example.shape)\n",
    "    example = example.reshape((1, example.shape[0], example.shape[1]))\n",
    "    #print(example.shape)\n",
    "    #break\n",
    "    hash_code = predict_hash_code(example).reshape((1, len_hash))\n",
    "    #print(hash_code)\n",
    "    #print(tiny_test_dataset['target'][i])\n",
    "    #print('Precision')\n",
    "    #print('hash: {}'.format(hash_code));\n",
    "    #print('target: {}'.format(tiny_test_dataset['target'][i]))\n",
    "    precision = database.evaluate_P_K(hash_code, tiny_test_dataset['target'][i], k)\n",
    "    #print(precision)\n",
    "    #print('\\n')\n",
    "    precisions.append(precision)\n",
    "    \n",
    "#print(precisions)\n",
    "print(\"precision at {}\".format(k))\n",
    "print('Mean Precision')\n",
    "print(np.mean(precisions))"
   ]
  },
  {
   "cell_type": "code",
   "execution_count": 23,
   "metadata": {},
   "outputs": [
    {
     "name": "stdout",
     "output_type": "stream",
     "text": [
      "precision at 150\n",
      "Mean Precision\n",
      "0.1215758271179958\n"
     ]
    }
   ],
   "source": [
    "k = 150\n",
    "precisions = []\n",
    "\n",
    "for i in range(len(glove_em_test)):\n",
    "    example = np.asarray(glove_em_test[i])\n",
    "    #print(example.shape)\n",
    "    example = example.reshape((1, example.shape[0], example.shape[1]))\n",
    "    #print(example.shape)\n",
    "    #break\n",
    "    hash_code = predict_hash_code(example).reshape((1, len_hash))\n",
    "    #print(hash_code)\n",
    "    #print(tiny_test_dataset['target'][i])\n",
    "    #print('Precision')\n",
    "    #print('hash: {}'.format(hash_code));\n",
    "    #print('target: {}'.format(tiny_test_dataset['target'][i]))\n",
    "    precision = database.evaluate_P_K(hash_code, tiny_test_dataset['target'][i], k)\n",
    "    #print(precision)\n",
    "    #print('\\n')\n",
    "    precisions.append(precision)\n",
    "    \n",
    "#print(precisions)\n",
    "print(\"precision at {}\".format(k))\n",
    "print('Mean Precision')\n",
    "print(np.mean(precisions))"
   ]
  },
  {
   "cell_type": "code",
   "execution_count": 24,
   "metadata": {},
   "outputs": [
    {
     "name": "stdout",
     "output_type": "stream",
     "text": [
      "precision at 200\n",
      "Mean Precision\n",
      "0.115837636259323\n"
     ]
    }
   ],
   "source": [
    "k = 200\n",
    "precisions = []\n",
    "\n",
    "for i in range(len(glove_em_test)):\n",
    "    example = np.asarray(glove_em_test[i])\n",
    "    #print(example.shape)\n",
    "    example = example.reshape((1, example.shape[0], example.shape[1]))\n",
    "    #print(example.shape)\n",
    "    #break\n",
    "    hash_code = predict_hash_code(example).reshape((1, len_hash))\n",
    "    #print(hash_code)\n",
    "    #print(tiny_test_dataset['target'][i])\n",
    "    #print('Precision')\n",
    "    #print('hash: {}'.format(hash_code));\n",
    "    #print('target: {}'.format(tiny_test_dataset['target'][i]))\n",
    "    precision = database.evaluate_P_K(hash_code, tiny_test_dataset['target'][i], k)\n",
    "    #print(precision)\n",
    "    #print('\\n')\n",
    "    precisions.append(precision)\n",
    "    \n",
    "#print(precisions)\n",
    "print(\"precision at {}\".format(k))\n",
    "print('Mean Precision')\n",
    "print(np.mean(precisions))"
   ]
  },
  {
   "cell_type": "code",
   "execution_count": null,
   "metadata": {
    "collapsed": true
   },
   "outputs": [],
   "source": []
  },
  {
   "cell_type": "code",
   "execution_count": null,
   "metadata": {
    "collapsed": true
   },
   "outputs": [],
   "source": []
  },
  {
   "cell_type": "code",
   "execution_count": null,
   "metadata": {
    "collapsed": true
   },
   "outputs": [],
   "source": []
  },
  {
   "cell_type": "code",
   "execution_count": null,
   "metadata": {
    "collapsed": true
   },
   "outputs": [],
   "source": []
  },
  {
   "cell_type": "code",
   "execution_count": null,
   "metadata": {
    "collapsed": true
   },
   "outputs": [],
   "source": []
  },
  {
   "cell_type": "code",
   "execution_count": null,
   "metadata": {
    "collapsed": true
   },
   "outputs": [],
   "source": []
  },
  {
   "cell_type": "code",
   "execution_count": 11,
   "metadata": {},
   "outputs": [
    {
     "data": {
      "text/plain": [
       "0"
      ]
     },
     "execution_count": 11,
     "metadata": {},
     "output_type": "execute_result"
    }
   ],
   "source": [
    "bit = np.array([7, 7])\n",
    "\n",
    "np.argmax(bit)"
   ]
  },
  {
   "cell_type": "code",
   "execution_count": null,
   "metadata": {
    "collapsed": true
   },
   "outputs": [],
   "source": []
  }
 ],
 "metadata": {
  "kernelspec": {
   "display_name": "Python 3",
   "language": "python",
   "name": "python3"
  },
  "language_info": {
   "codemirror_mode": {
    "name": "ipython",
    "version": 3
   },
   "file_extension": ".py",
   "mimetype": "text/x-python",
   "name": "python",
   "nbconvert_exporter": "python",
   "pygments_lexer": "ipython3",
   "version": "3.6.6"
  }
 },
 "nbformat": 4,
 "nbformat_minor": 2
}
