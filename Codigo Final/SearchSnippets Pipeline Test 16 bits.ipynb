{
 "cells": [
  {
   "cell_type": "markdown",
   "metadata": {},
   "source": [
    "## Test del Pipeline bajo SearchSnippets 16 bits"
   ]
  },
  {
   "cell_type": "markdown",
   "metadata": {},
   "source": [
    "### Lectura de Dataset"
   ]
  },
  {
   "cell_type": "code",
   "execution_count": 1,
   "metadata": {},
   "outputs": [],
   "source": [
    "import re\n",
    "\n",
    "class Dataset:\n",
    "    \n",
    "    def clean_str(self, string):\n",
    "        \"\"\"\n",
    "        Tokenization/string cleaning for all datasets except for SST.\n",
    "        Original taken from https://github.com/yoonkim/CNN_sentence/blob/master/process_data.py\n",
    "        \"\"\"\n",
    "        string = re.sub(r\"[^A-Za-z0-9(),!?\\'\\`]\", \" \", string)\n",
    "        string = re.sub(r\"\\'s\", \" \\'s\", string)\n",
    "        string = re.sub(r\"\\'ve\", \" \\'ve\", string)\n",
    "        string = re.sub(r\"n\\'t\", \" n\\'t\", string)\n",
    "        string = re.sub(r\"\\'re\", \" \\'re\", string)\n",
    "        string = re.sub(r\"\\'d\", \" \\'d\", string)\n",
    "        string = re.sub(r\"\\'ll\", \" \\'ll\", string)\n",
    "        string = re.sub(r\",\", \" , \", string)\n",
    "        string = re.sub(r\"!\", \" ! \", string)\n",
    "        string = re.sub(r\"\\(\", \" \\( \", string)\n",
    "        string = re.sub(r\"\\)\", \" \\) \", string)\n",
    "        string = re.sub(r\"\\?\", \" \\? \", string)\n",
    "        string = re.sub(r\"\\s{2,}\", \" \", string)\n",
    "\n",
    "        return string.strip().lower()\n",
    "    \n",
    "    #################################################################\n",
    "    ##################### 20 Newsgroups #############################\n",
    "    #################################################################\n",
    "    \n",
    "    path_train_20newsgroups = \"../20NewsGroup/20ng-train-stemmed.txt\"\n",
    "    path_test_20newsgroups = \"../20NewsGroup/20ng-test-stemmed.txt\"\n",
    "    \n",
    "    target_names_20newsgroups = [\n",
    "        \"alt.atheism\", \n",
    "        \"comp.graphics\",\n",
    "        \"comp.os.ms-windows.misc\",\n",
    "        \"comp.sys.ibm.pc.hardware\", \n",
    "        \"comp.sys.mac.hardware\",\n",
    "        \"comp.windows.x\",\n",
    "        \"misc.forsale\",\n",
    "        \"rec.autos\",\n",
    "        \"rec.motorcycles\",\n",
    "        \"rec.sport.baseball\",\n",
    "        \"rec.sport.hockey\",\n",
    "        \"sci.crypt\",\n",
    "        \"sci.electronics\",\n",
    "        \"sci.med\",\n",
    "        \"sci.space\",\n",
    "        \"soc.religion.christian\",\n",
    "        \"talk.politics.guns\",\n",
    "        \"talk.politics.mideast\",\n",
    "        \"talk.politics.misc\",\n",
    "        \"talk.religion.misc\"\n",
    "    ]\n",
    "    \n",
    "    def read_20newsgroups_file(self, path_test_20newsgroups):\n",
    "        data = []\n",
    "        target = []\n",
    "        \n",
    "        with open(path_test_20newsgroups) as file:\n",
    "            for index, line in enumerate(file):\n",
    "                tokens_count = len(line.split())\n",
    "\n",
    "                if tokens_count > 1 and tokens_count <= 301:\n",
    "                    category, text = line.split(None, 1)\n",
    "                    data.append(self.clean_str(text))\n",
    "                    target.append(self.target_names_20newsgroups.index(category))\n",
    "                \n",
    "        return data, target\n",
    "        \n",
    "    \n",
    "    def fetch_20newsgroups(self, subset = \"train\"):\n",
    "        dataset = {'data': None,  'target': None , 'target_names': self.target_names_20newsgroups}\n",
    "    \n",
    "        if subset == 'train':\n",
    "            dataset['data'], dataset['target'] = self.read_20newsgroups_file(self.path_train_20newsgroups)\n",
    "        elif subset == 'test':\n",
    "            dataset['data'], dataset['target'] = self.read_20newsgroups_file(self.path_test_20newsgroups)\n",
    "        elif subset == 'all':\n",
    "            data_train, target_train = self.read_20newsgroups_file(self.path_train_20newsgroups)\n",
    "            data_test, target_test = self.read_20newsgroups_file(self.path_test_20newsgroups)\n",
    "            \n",
    "            dataset['data'], dataset['target'] = data_train + data_test, target_train + target_test\n",
    "        \n",
    "        return dataset\n",
    "    \n",
    "    #################################################################\n",
    "    ##################### SearchSnippets ############################\n",
    "    #################################################################\n",
    "    \n",
    "    path_train_search_snippets = \"../SearchSnippets/train.txt\"\n",
    "    path_test_search_snippets = \"../SearchSnippets/test.txt\"\n",
    "    \n",
    "    target_names_search_snippets = [\n",
    "        \"business\",\n",
    "        \"computers\",\n",
    "        \"culture-arts-entertainment\",\n",
    "        \"education-science\",\n",
    "        \"engineering\",\n",
    "        \"health\",\n",
    "        \"politics-society\",\n",
    "        \"sports\"\n",
    "    ]\n",
    "    \n",
    "    def read_search_snippets_file(self, path_test_search_snippets):\n",
    "        data = []\n",
    "        target = []\n",
    "        \n",
    "        with open(path_test_search_snippets, encoding=\"utf8\") as file:\n",
    "            for index, line in enumerate(file):\n",
    "                tokens_count = len(line.split())\n",
    "               \n",
    "                if tokens_count > 1 and tokens_count <= 301:\n",
    "                    text, category = line.rsplit(None, 1)\n",
    "                    data.append(self.clean_str(text))\n",
    "                    target.append(self.target_names_search_snippets.index(category))\n",
    "                \n",
    "        return data, target\n",
    "        \n",
    "    \n",
    "    def fetch_search_snippets(self, subset = \"train\"):\n",
    "        dataset = {'data': None,  'target': None , 'target_names': self.target_names_search_snippets}\n",
    "    \n",
    "        if subset == 'train':\n",
    "            dataset['data'], dataset['target'] = self.read_search_snippets_file(self.path_train_search_snippets)\n",
    "        elif subset == 'test':\n",
    "            dataset['data'], dataset['target'] = self.read_search_snippets_file(self.path_test_search_snippets)\n",
    "        elif subset == 'all':\n",
    "            data_train, target_train = self.read_search_snippets_file(self.path_train_search_snippets)\n",
    "            data_test, target_test = self.read_search_snippets_file(self.path_test_search_snippets)\n",
    "            \n",
    "            dataset['data'], dataset['target'] = data_train + data_test, target_train + target_test\n",
    "        \n",
    "        return dataset"
   ]
  },
  {
   "cell_type": "markdown",
   "metadata": {},
   "source": [
    "#### Carga del Dataset SearchSnippets"
   ]
  },
  {
   "cell_type": "code",
   "execution_count": 2,
   "metadata": {},
   "outputs": [
    {
     "name": "stdout",
     "output_type": "stream",
     "text": [
      "Dataset structure:\n",
      "dict_keys(['target', 'data', 'target_names'])\n",
      "\n",
      "\n",
      "Dataset example:\n",
      "manufacture manufacturer directory directory china taiwan products manufacturers directory taiwan china products manufacturer direcory exporter directory supplier directory suppliers\n",
      "\n",
      "\n",
      "Train dataset:\n",
      "Set size: 10060\n",
      "\n",
      "\n",
      "Test dataset:\n",
      "Set size: 2280\n"
     ]
    }
   ],
   "source": [
    "dataset = Dataset()\n",
    "print(\"Dataset structure:\")\n",
    "train_dataset = dataset.fetch_search_snippets(subset = 'train')\n",
    "print(train_dataset.keys())\n",
    "print(\"\\n\")\n",
    "\n",
    "print(\"Dataset example:\")\n",
    "print(train_dataset['data'][0])\n",
    "print(\"\\n\")\n",
    "\n",
    "print(\"Train dataset:\")\n",
    "print(\"Set size: {}\".format(len(train_dataset['data'])))\n",
    "print(\"\\n\")\n",
    "\n",
    "print(\"Test dataset:\")\n",
    "test_dataset = dataset.fetch_search_snippets(subset = 'test')\n",
    "print(\"Set size: {}\".format(len(test_dataset['data'])))"
   ]
  },
  {
   "cell_type": "markdown",
   "metadata": {},
   "source": [
    "### Métodos de Preentrenamiento"
   ]
  },
  {
   "cell_type": "code",
   "execution_count": 3,
   "metadata": {},
   "outputs": [],
   "source": [
    "import warnings\n",
    "warnings.simplefilter(action='ignore', category=FutureWarning)\n",
    "from sklearn.feature_extraction.text import TfidfVectorizer\n",
    "from sklearn.metrics.pairwise import euclidean_distances\n",
    "from pprint import pprint\n",
    "import numpy as np\n",
    "import threading\n",
    "import math as mt\n",
    "import multiprocessing\n",
    "import time\n",
    "\n",
    "class binaryCodes:\n",
    "    \n",
    "    vectorizer = TfidfVectorizer()\n",
    "    \n",
    "    def __init__(self, dataset, sigma = 2, method = 'weiss', k_neighbors = 7, c_coeff = 1, \n",
    "                 a_equal_coeff = 1, b_unequal_coeff = 0.1):\n",
    "        self.tf_idf_features_matrix = self.tf_idf(dataset['data'])\n",
    "        self.distance_matrix = self.euclidean_distance(self.tf_idf_features_matrix)\n",
    "        self.labels = dataset['target']\n",
    "        self.sigma = sigma\n",
    "        self.method = method\n",
    "        self.k_neighbors = k_neighbors\n",
    "        self.c_coeff = c_coeff\n",
    "        self.a_equal_coeff = a_equal_coeff\n",
    "        self.b_unequal_coeff = b_unequal_coeff\n",
    "        \n",
    "    def tf_idf(self, data):\n",
    "        return self.vectorizer.fit_transform(data)\n",
    "    \n",
    "    def euclidean_distance(self, tf_idf_features):\n",
    "        return euclidean_distances(tf_idf_features, tf_idf_features)\n",
    "    \n",
    "    def parallel_operation(self, row_interval, w):\n",
    "        for row in range(row_interval[0], row_interval[1]):\n",
    "            for column in range(row, w.shape[1]):\n",
    "                \n",
    "                if self.method == 'weiss':\n",
    "                    value = np.exp(-self.distance_matrix[row][column]**2/self.sigma**2)\n",
    "                    \n",
    "                elif self.method == 'chinese_weiss':\n",
    "                  \n",
    "                    row_neighbors = self.distance_matrix[row].argsort()[1:self.k_neighbors+1]\n",
    "                    column_neighbors = self.distance_matrix[column].argsort()[1:self.k_neighbors+1]\n",
    "                    \n",
    "                    if row in column_neighbors or column in row_neighbors:\n",
    "                        value = self.c_coeff*np.exp(-self.distance_matrix[row][column]**2/(2*self.sigma**2))\n",
    "                    else:\n",
    "                        value = 0\n",
    "                        \n",
    "                elif self.method == 'chinese_weiss_supervised':\n",
    "                    \n",
    "                    row_neighbors = self.distance_matrix[row].argsort()[1:self.k_neighbors+1]\n",
    "                    column_neighbors = self.distance_matrix[column].argsort()[1:self.k_neighbors+1]\n",
    "                    \n",
    "                    if row in column_neighbors or column in row_neighbors:\n",
    "                        if self.labels[row] == self.labels[column]:\n",
    "                            value = self.a_equal_coeff*np.exp(-self.distance_matrix[row][column]**2/(2*self.sigma**2))\n",
    "                        else:\n",
    "                            value = self.b_unequal_coeff*np.exp(-self.distance_matrix[row][column]**2/(2*self.sigma**2))\n",
    "                    else:\n",
    "                        value = 0\n",
    "                    \n",
    "                w[row, column] = value\n",
    "                \n",
    "                if row != column:\n",
    "                    w[column, row] = value\n",
    "        \n",
    "    def parallel_operation2(self, row_interval, w_matrix, d):\n",
    "        for row in range(row_interval[0], row_interval[1]):\n",
    "            sum_row = np.sum(w_matrix[row])\n",
    "            d[row, row] = sum_row\n",
    "                \n",
    "    def w_matrix(self):\n",
    "        \n",
    "        print(\"Calculating W matrix using {} method ...\".format(self.method))\n",
    "        \n",
    "        data_size, _ = self.tf_idf_features_matrix.shape\n",
    "\n",
    "        start_time = time.time()\n",
    "\n",
    "        w = np.zeros((data_size, data_size))\n",
    "\n",
    "        cores_count = multiprocessing.cpu_count()\n",
    "        bounds = list(range(mt.floor(data_size/cores_count), \n",
    "                            data_size-data_size%cores_count+1, mt.floor(data_size/cores_count)))\n",
    "\n",
    "        bounds[-1] += data_size%cores_count\n",
    "\n",
    "        threads = list()\n",
    "\n",
    "        lower_bound = 0\n",
    "\n",
    "        for index, upper_bound in enumerate(bounds):\n",
    "            threads.append(threading.Thread(target = self.parallel_operation, args=([lower_bound, upper_bound], w)))\n",
    "            lower_bound = upper_bound\n",
    "\n",
    "        for thread in threads:\n",
    "            thread.start()\n",
    "\n",
    "        for thread in threads:\n",
    "            thread.join()\n",
    "\n",
    "        elapsed_time = time.time() - start_time\n",
    "\n",
    "        print(\"Time to compute: {} min\".format(elapsed_time/60))\n",
    "\n",
    "        print(\"Nonzero elements count: {}\".format(np.count_nonzero(w)))\n",
    "        print(\"Ratio: {}\".format(np.count_nonzero(w)/data_size**2))\n",
    "\n",
    "        return w\n",
    "    \n",
    "    def d_matrix(self, w_matrix):\n",
    "        \n",
    "        print(\"Calculating D matrix using {} method ...\".format(self.method))\n",
    "        \n",
    "        data_size, _ = self.tf_idf_features_matrix.shape\n",
    "        \n",
    "        start_time = time.time()\n",
    "        \n",
    "        d = np.zeros((data_size, data_size))\n",
    "\n",
    "        cores_count = multiprocessing.cpu_count()\n",
    "        bounds = list(range(mt.floor(data_size/cores_count), \n",
    "                            data_size-data_size%cores_count+1, mt.floor(data_size/cores_count)))\n",
    "\n",
    "        bounds[-1] += data_size%cores_count\n",
    "\n",
    "        threads = list()\n",
    "\n",
    "        lower_bound = 0\n",
    "\n",
    "        for index, upper_bound in enumerate(bounds):\n",
    "            threads.append(threading.Thread(target = self.parallel_operation2, \n",
    "                                            args=([lower_bound, upper_bound], w_matrix, d)))\n",
    "            lower_bound = upper_bound\n",
    "            \n",
    "        for thread in threads:\n",
    "            thread.start()\n",
    "\n",
    "        for thread in threads:\n",
    "            thread.join()\n",
    "\n",
    "        elapsed_time = time.time() - start_time\n",
    "        \n",
    "        print(\"Time to compute: {} min\".format(elapsed_time/60))\n",
    "\n",
    "        return d\n",
    "    \n",
    "    def binary_codes(self, hash_len = 64):\n",
    "        \n",
    "        data_size, _ = self.tf_idf_features_matrix.shape\n",
    "        sigma_str = str(self.sigma).replace('.', '')\n",
    "        c_coeff_str = str(self.c_coeff).replace('.', '')\n",
    "        a_equal_coeff_str = str(self.a_equal_coeff).replace('.', '')\n",
    "        b_unequal_coeff_str = str(self.b_unequal_coeff).replace('.', '')\n",
    "        \n",
    "        try:\n",
    "            hash_codes = np.load('hash_codes-{}_{}_{}_{}_{}_{}_{}_{}.npy'.format(data_size, hash_len, self.method, \n",
    "                                     sigma_str, c_coeff_str, a_equal_coeff_str, b_unequal_coeff_str, self.k_neighbors))    \n",
    "            \n",
    "            print(\"Using preexisting hash codes\")\n",
    "\n",
    "        except:\n",
    "        \n",
    "            print(\"Calculating hash codes\")\n",
    "        \n",
    "            w_matrix = self.w_matrix()\n",
    "            d_matrix = self.d_matrix(w_matrix)\n",
    "\n",
    "            global_start_time = time.time()\n",
    "\n",
    "            sub_martix = d_matrix-w_matrix\n",
    "            eigen_values, eigen_vectors = np.linalg.eig(sub_martix)\n",
    "\n",
    "            eigen_values = np.delete(eigen_values, 0)\n",
    "            eigen_vectors = np.delete(eigen_vectors, 0, 1)\n",
    "\n",
    "            min_eigen_values = np.argsort(eigen_values)\n",
    "           \n",
    "            count = 0\n",
    "            hash_codes = list()\n",
    "\n",
    "            for i in range(hash_len):\n",
    "                min_eigen_values[count]\n",
    "                hash_codes.append(eigen_vectors[:, min_eigen_values[count]])\n",
    "                count += 1\n",
    "\n",
    "            hash_codes = np.asarray(hash_codes).transpose()\n",
    "\n",
    "            threshold = lambda x: 1 if x>=0 else 0 \n",
    "            vfunc = np.vectorize(threshold)\n",
    "\n",
    "            hash_codes = vfunc(hash_codes)\n",
    "\n",
    "            elapsed_time = time.time() - global_start_time\n",
    "\n",
    "            print(\"\\n\")\n",
    "            print(\"Total Time: {} min\".format(elapsed_time/60))\n",
    "\n",
    "            np.save('hash_codes-{}_{}_{}_{}_{}_{}_{}_{}.npy'.format(data_size, hash_len, self.method, \n",
    "                        sigma_str, c_coeff_str, a_equal_coeff_str, b_unequal_coeff_str, self.k_neighbors), hash_codes)\n",
    "        \n",
    "        return hash_codes"
   ]
  },
  {
   "cell_type": "markdown",
   "metadata": {},
   "source": [
    "#### Weiss"
   ]
  },
  {
   "cell_type": "code",
   "execution_count": 4,
   "metadata": {},
   "outputs": [
    {
     "name": "stdout",
     "output_type": "stream",
     "text": [
      "Using preexisting hash codes\n"
     ]
    }
   ],
   "source": [
    "hash_codes = binaryCodes(train_dataset, sigma = 1, method = 'weiss')\n",
    "hash_codes = hash_codes.binary_codes(hash_len = 16)"
   ]
  },
  {
   "cell_type": "markdown",
   "metadata": {},
   "source": [
    "#### Wang"
   ]
  },
  {
   "cell_type": "code",
   "execution_count": 5,
   "metadata": {},
   "outputs": [
    {
     "name": "stdout",
     "output_type": "stream",
     "text": [
      "Using preexisting hash codes\n"
     ]
    }
   ],
   "source": [
    "hash_codes = binaryCodes(train_dataset, sigma = 1, k_neighbors = 7, c_coeff = 1, method = 'chinese_weiss')\n",
    "hash_codes = hash_codes.binary_codes(hash_len = 16)"
   ]
  },
  {
   "cell_type": "markdown",
   "metadata": {},
   "source": [
    "#### Wang Supervisado"
   ]
  },
  {
   "cell_type": "code",
   "execution_count": 6,
   "metadata": {},
   "outputs": [
    {
     "name": "stdout",
     "output_type": "stream",
     "text": [
      "Using preexisting hash codes\n"
     ]
    }
   ],
   "source": [
    "hash_codes = binaryCodes(train_dataset, sigma = 1, k_neighbors = 7, a_equal_coeff = 1, b_unequal_coeff = 0.1, \n",
    "                         method = 'chinese_weiss_supervised')\n",
    "hash_codes = hash_codes.binary_codes(hash_len = 16)"
   ]
  },
  {
   "cell_type": "markdown",
   "metadata": {},
   "source": [
    "### Word Embedding"
   ]
  },
  {
   "cell_type": "code",
   "execution_count": 7,
   "metadata": {},
   "outputs": [],
   "source": [
    "%matplotlib inline\n",
    "\n",
    "from nltk.stem.porter import PorterStemmer\n",
    "from nltk import FreqDist\n",
    "import pandas as pd\n",
    "import csv\n",
    "\n",
    "class prepare_input:\n",
    "    \n",
    "    def __init__(self, glove_data_file = \"../Glove/glove.6B.50d.txt\", steamming = False):\n",
    "        self.glove_data_file = glove_data_file\n",
    "        self.glove_vocab = dict()\n",
    "        self.steamming = steamming\n",
    "    \n",
    "    def load_glove_embedding(self):\n",
    "        if len(self.glove_vocab) != 0:\n",
    "            print('Glove is already loaded')\n",
    "            return\n",
    "\n",
    "        stemmer = PorterStemmer()\n",
    "        \n",
    "        with open(self.glove_data_file, encoding=\"utf8\") as file:\n",
    "            for line in file:\n",
    "                split_line = line.split()\n",
    "                word = split_line[0]\n",
    "                embedding = list(float(val) for val in split_line[1:])\n",
    "                if self.steamming:\n",
    "                    stemmed_word = stemmer.stem(word)\n",
    "                    #print('word: {} stemmed word: {}'.format(word, stemmed_word))\n",
    "                    if stemmed_word in self.glove_vocab.keys():\n",
    "                        #print(\"Collision Problem:\")\n",
    "                        #print(word)\n",
    "                        #print(stemmed_word)\n",
    "                        #print('previous vector:')\n",
    "                        #print(self.glove_vocab[stemmed_word])\n",
    "                        #print('new vector:')\n",
    "                        #print(embedding)\n",
    "                        continue\n",
    "                    else:\n",
    "                        self.glove_vocab[stemmed_word] = embedding\n",
    "                else:    \n",
    "                    self.glove_vocab[word] = embedding\n",
    "        \n",
    "    def to_glove_embedding(self, dataset):\n",
    "        \n",
    "        start_time = time.time()\n",
    "        \n",
    "        if len(self.glove_vocab) == 0:\n",
    "            print('The embedding is not loaded yet')\n",
    "            return \n",
    "\n",
    "        embedded_data = list()\n",
    "        \n",
    "        features = pd.read_table(self.glove_data_file, sep=\" \", index_col=0, header=None, quoting=csv.QUOTE_NONE)\n",
    "        features_means = features.describe().loc['mean'].values\n",
    "        features_std = features.describe().loc['std'].values\n",
    "        \n",
    "        missing_words = dict()\n",
    "        tokens = list()\n",
    "        missing_tokens = list()\n",
    "        \n",
    "        for document in dataset['data']:\n",
    "            embedded_document = list()\n",
    "            sentence = document.split()\n",
    "            \n",
    "            for word in sentence:\n",
    "                tokens.append(word)\n",
    "                if word in self.glove_vocab.keys():\n",
    "                    embedded_document.append(self.glove_vocab[word])\n",
    "                else:\n",
    "                    missing_tokens.append(word)\n",
    "                    if word not in missing_words.keys():\n",
    "                        \n",
    "                        generated_vector = []\n",
    "                        \n",
    "                        for i in range(len(features_means)):\n",
    "                            normal_dist = np.random.normal(features_means[i], features_std[i], 10000)\n",
    "                            selected_element = np.random.choice(normal_dist)\n",
    "                            generated_vector.append(selected_element)\n",
    "                        \n",
    "                        missing_words[word] = generated_vector\n",
    "                        \n",
    "                    embedded_document.append(missing_words[word])\n",
    "                    \n",
    "            embedded_data.append(embedded_document)\n",
    "            \n",
    "        elapsed_time = time.time() - start_time\n",
    "        \n",
    "        count_tokens = len(tokens)\n",
    "        count_words = len(list(set(tokens)))\n",
    "        count_missing_tokens = len(missing_tokens)\n",
    "        count_missing_words = len(missing_words)\n",
    "        \n",
    "        print(\"Time to compute: {} min\".format(elapsed_time/60))\n",
    "        print(\"\\n\")\n",
    "        print(\"Number of tokens: {}\".format(count_tokens))\n",
    "        print(\"Vocabulary size: {}\".format(count_words))\n",
    "        print(\"Missing tokes: {}\".format(count_missing_tokens))\n",
    "        print(\"Missing words: {}\".format(count_missing_words))\n",
    "        print(\"Token coverage: {} or {}%\".format(count_tokens-count_missing_tokens, \n",
    "                                                 100*(count_tokens-count_missing_tokens)/count_tokens))\n",
    "        print(\"Vocabulary coverage: {} or {}%\".format(count_words-count_missing_words, \n",
    "                                                      100*(count_words-count_missing_words)/count_words))\n",
    "    \n",
    "        freqDis = FreqDist(tokens)\n",
    "        freqDis.plot(30, title='Word Frequency')\n",
    "        \n",
    "        freqDis = FreqDist(missing_tokens)\n",
    "        freqDis.plot(30, title='Missing Word Frequency')\n",
    "\n",
    "        print('\\nVocabulary: {}'.format(len(self.glove_vocab)))\n",
    "        print('\\nMissing Word: {}'.format(len(missing_words)))\n",
    "        \n",
    "        self.glove_vocab = {**self.glove_vocab, **missing_words}\n",
    "        \n",
    "        print('\\nCombinated Vocabulary: {}'.format(len(self.glove_vocab)))\n",
    "        \n",
    "        return embedded_data\n",
    "    \n",
    "    def add_padding(self, embedded_dataset, padding_symbol = 100.0):\n",
    "        document_sizes = list(len(document) for document in embedded_dataset)\n",
    "        max_document_size = max(document_sizes)\n",
    "        \n",
    "        for index in range(len(document_sizes)):\n",
    "            diference = max_document_size - len(embedded_dataset[index])\n",
    "            for _ in range(diference):\n",
    "                padding_vector = [padding_symbol] * len(embedded_dataset[index][0])\n",
    "                embedded_dataset[index].append(padding_vector)\n",
    "        \n",
    "        return embedded_dataset\n",
    "    \n",
    "    def encode_hash(self, hash_code):\n",
    "        encode_hash_code = list()\n",
    "        for bit in hash_code:\n",
    "            if bit == 0:\n",
    "                encode_hash_code.append([1, 0])\n",
    "            elif bit == 1:\n",
    "                encode_hash_code.append([0, 1])\n",
    "            else:\n",
    "                encode_hash_code.append([0, 0])\n",
    "        return np.asarray(encode_hash_code)\n",
    "    \n",
    "    def encode_hashes(self, hash_codes):\n",
    "        encoded_hashes = []\n",
    "        for hash_code in hash_codes:\n",
    "            encoded_hashes.append(self.encode_hash(hash_code))\n",
    "        return np.asarray(encoded_hashes)\n",
    "  \n",
    "    def decode_hash(self, encode_hash):\n",
    "        hash_code = list()\n",
    "        for bit in encode_hash:\n",
    "            if np.array_equal(bit, np.array([0,0])):\n",
    "                hash_code.append(2) \n",
    "            else:\n",
    "                hash_code.append(np.argmax(bit)) \n",
    "        return np.asarray(hash_code)\n",
    "    \n",
    "    def decode_hashes(self, hash_codes):\n",
    "        encoded_hashes = []\n",
    "        for hash_code in hash_codes:\n",
    "            encoded_hashes.append(self.decode_hash(hash_code))\n",
    "        return np.asarray(encoded_hashes)\n",
    "    \n",
    "    def shift_hash_code(self, hash_code):\n",
    "        y_shift_temp = [2]\n",
    "        for i in range(len(hash_code) - 1):\n",
    "            y_shift_temp.append(hash_code[i])\n",
    "        return np.asarray(y_shift_temp)\n",
    "    \n",
    "    def shift_hash_codes(self, hash_codes):\n",
    "        encoded_hashes = []\n",
    "        for hash_code in hash_codes:\n",
    "            encoded_hashes.append(self.shift_hash_code(hash_code))\n",
    "        return np.asarray(encoded_hashes)"
   ]
  },
  {
   "cell_type": "markdown",
   "metadata": {},
   "source": [
    "#### Train"
   ]
  },
  {
   "cell_type": "code",
   "execution_count": 8,
   "metadata": {},
   "outputs": [
    {
     "name": "stdout",
     "output_type": "stream",
     "text": [
      "Time to compute: 2.529539529482524 min\n",
      "\n",
      "\n",
      "Number of tokens: 181889\n",
      "Vocabulary size: 25143\n",
      "Missing tokes: 10899\n",
      "Missing words: 6979\n",
      "Token coverage: 170990 or 94.00788392920957%\n",
      "Vocabulary coverage: 18164 or 72.24277134789007%\n"
     ]
    },
    {
     "data": {
      "image/png": "[encoded data removed]",
      "text/plain": [
       "<Figure size 432x288 with 1 Axes>"
      ]
     },
     "metadata": {
      "needs_background": "light"
     },
     "output_type": "display_data"
    },
    {
     "data": {
      "image/png": "[encoded data removed]",
      "text/plain": [
       "<Figure size 432x288 with 1 Axes>"
      ]
     },
     "metadata": {
      "needs_background": "light"
     },
     "output_type": "display_data"
    },
    {
     "name": "stdout",
     "output_type": "stream",
     "text": [
      "\n",
      "Vocabulary: 400000\n",
      "\n",
      "Missing Word: 6979\n",
      "\n",
      "Combinated Vocabulary: 406979\n",
      "Dimensiones del train embedding: (10060, 50, 50)\n"
     ]
    }
   ],
   "source": [
    "prepare = prepare_input(steamming = False)\n",
    "prepare.load_glove_embedding()\n",
    "glove_em_before_padding = prepare.to_glove_embedding(train_dataset)\n",
    "glove_em = prepare.add_padding(glove_em_before_padding)\n",
    "glove_em = np.asarray(glove_em)\n",
    "print(\"Dimensiones del train embedding: {}\".format(glove_em.shape))"
   ]
  },
  {
   "cell_type": "markdown",
   "metadata": {},
   "source": [
    "#### Validation Split"
   ]
  },
  {
   "cell_type": "code",
   "execution_count": 9,
   "metadata": {},
   "outputs": [],
   "source": [
    "validation_indexes = []"
   ]
  },
  {
   "cell_type": "code",
   "execution_count": 10,
   "metadata": {},
   "outputs": [
    {
     "name": "stdout",
     "output_type": "stream",
     "text": [
      "Conjunto de entrenamiento 10060\n",
      "Conjunto de validacion: 2012\n",
      "\n",
      "Dimensiones del test set (8048, 50, 50)\n",
      "Dimensiones del val set (2012, 50, 50)\n"
     ]
    }
   ],
   "source": [
    "import random\n",
    "import math\n",
    "import copy\n",
    "\n",
    "random.seed(7)\n",
    "\n",
    "val_glove_em = []\n",
    "num_samples = glove_em.shape[0]\n",
    "\n",
    "print('Conjunto de entrenamiento {}'.format(num_samples))\n",
    "print('Conjunto de validacion: {}\\n'.format(math.ceil(num_samples*0.2)))\n",
    "\n",
    "actual_num_samples = num_samples\n",
    "\n",
    "for _ in range(0, math.ceil(num_samples*0.2)):\n",
    "    selected_index = random.randint(0, actual_num_samples-1)\n",
    "    validation_indexes.append(selected_index)\n",
    "    \n",
    "    #print(selected_index)\n",
    "    \n",
    "    selected_glove_em = copy.deepcopy(glove_em[selected_index])\n",
    "    val_glove_em.append(selected_glove_em)\n",
    "    glove_em = np.delete(glove_em, selected_index, 0)    \n",
    "    actual_num_samples -= 1\n",
    "    \n",
    "val_glove_em = np.asarray(val_glove_em).reshape((len(val_glove_em), glove_em.shape[1], glove_em.shape[2]))    \n",
    "\n",
    "print('Dimensiones del test set {}'.format(glove_em.shape))\n",
    "print('Dimensiones del val set {}'.format(val_glove_em.shape))"
   ]
  },
  {
   "cell_type": "markdown",
   "metadata": {},
   "source": [
    "#### Test"
   ]
  },
  {
   "cell_type": "code",
   "execution_count": 11,
   "metadata": {
    "scrolled": false
   },
   "outputs": [
    {
     "name": "stdout",
     "output_type": "stream",
     "text": [
      "Time to compute: 0.6775940855344137 min\n",
      "\n",
      "\n",
      "Number of tokens: 41403\n",
      "Vocabulary size: 9874\n",
      "Missing tokes: 2217\n",
      "Missing words: 1694\n",
      "Token coverage: 39186 or 94.64531555684371%\n",
      "Vocabulary coverage: 8180 or 82.84383228681385%\n"
     ]
    },
    {
     "data": {
      "image/png": "[encoded data removed]",
      "text/plain": [
       "<Figure size 432x288 with 1 Axes>"
      ]
     },
     "metadata": {
      "needs_background": "light"
     },
     "output_type": "display_data"
    },
    {
     "data": {
      "image/png": "[encoded data removed]",
      "text/plain": [
       "<Figure size 432x288 with 1 Axes>"
      ]
     },
     "metadata": {
      "needs_background": "light"
     },
     "output_type": "display_data"
    },
    {
     "name": "stdout",
     "output_type": "stream",
     "text": [
      "\n",
      "Vocabulary: 406979\n",
      "\n",
      "Missing Word: 1694\n",
      "\n",
      "Combinated Vocabulary: 408673\n",
      "\n",
      "Dimensiones del test embedding: 2280\n"
     ]
    }
   ],
   "source": [
    "glove_em_test = prepare.to_glove_embedding(test_dataset)\n",
    "print(\"\\nDimensiones del test embedding: {}\".format(len(glove_em_test)))"
   ]
  },
  {
   "cell_type": "markdown",
   "metadata": {},
   "source": [
    "### Metricas de Evaluación"
   ]
  },
  {
   "cell_type": "code",
   "execution_count": 12,
   "metadata": {},
   "outputs": [],
   "source": [
    "from sklearn.neighbors import DistanceMetric\n",
    "\n",
    "class hashingDatabase:\n",
    "    \n",
    "    def __init__(self):\n",
    "        self.database = []\n",
    "        self.labels = []\n",
    "    \n",
    "    def add_element(self, element, label):\n",
    "        self.database.append(element)\n",
    "        self.labels.append(label)\n",
    "        \n",
    "    def find_neighbours_position(self, element):\n",
    "        distance_metric = DistanceMetric.get_metric('hamming')\n",
    "        distance_vector = distance_metric.pairwise(element, self.database)\n",
    "        return np.argsort(distance_vector)\n",
    "    \n",
    "    def evaluate_P_K(self, element, label, k = None):\n",
    "        neighbours_position = self.find_neighbours_position(element)[0][:k]\n",
    "        matched = 0\n",
    "        #print(neighbours_position)\n",
    "        for neighbour_position in neighbours_position:\n",
    "            #print('neighbor label: {}'.format(self.labels[neighbour_position]))\n",
    "            if self.labels[neighbour_position] == label:\n",
    "                matched += 1\n",
    "        #print('precision {}'.format(matched/k))        \n",
    "        return matched/k"
   ]
  },
  {
   "cell_type": "markdown",
   "metadata": {},
   "source": [
    "### Red Neuronal y Pruebas de Recuperación"
   ]
  },
  {
   "cell_type": "markdown",
   "metadata": {
    "collapsed": true
   },
   "source": [
    "En esta seccion se presentan la red neuronal entrenada utilizando los prehashes generados por los 3 diferentes metodos de preentrenamiento, asi como una medida de su rendimiento."
   ]
  },
  {
   "cell_type": "markdown",
   "metadata": {},
   "source": [
    "### Weiss"
   ]
  },
  {
   "cell_type": "markdown",
   "metadata": {},
   "source": [
    "#### Prehashes"
   ]
  },
  {
   "cell_type": "code",
   "execution_count": 13,
   "metadata": {
    "scrolled": false
   },
   "outputs": [
    {
     "name": "stdout",
     "output_type": "stream",
     "text": [
      "Using preexisting hash codes\n"
     ]
    }
   ],
   "source": [
    "hash_codes = binaryCodes(train_dataset, sigma = 1, method = 'weiss')\n",
    "\n",
    "binary_codes = hash_codes.binary_codes(hash_len = 16)\n",
    "\n",
    "#pprint(binary_codes[0])\n",
    "#print(len(binary_codes))\n",
    "#print(\"\\n\")\n",
    "\n",
    "shifted_codes = prepare.shift_hash_codes(binary_codes)\n",
    "#pprint(shifted_codes[0])\n",
    "#print(len(shifted_codes))\n",
    "#print(\"\\n\")\n",
    "\n",
    "encoded_hash_codes = prepare.encode_hashes(binary_codes)\n",
    "#pprint(encoded_hash_codes[0])\n",
    "#print(len(encoded_hash_codes))\n",
    "#print(\"\\n\")\n",
    "\n",
    "encoded_shited_hash_codes = prepare.encode_hashes(shifted_codes)\n",
    "#pprint(encoded_shited_hash_codes[0])\n",
    "#print(len(encoded_shited_hash_codes))\n",
    "#print(\"\\n\")"
   ]
  },
  {
   "cell_type": "code",
   "execution_count": 14,
   "metadata": {},
   "outputs": [
    {
     "name": "stdout",
     "output_type": "stream",
     "text": [
      "Dimensiones del shifted hash codes\n",
      "Dimensiones del hash codes\n",
      "Dimensiones del shifted hash codes (8048, 16, 2)\n",
      "Dimensiones del hash codes (8048, 16, 2)\n",
      "Dimensiones del validation shifted hash codes (2012, 16, 2)\n",
      "Dimensiones del validation hash codes (2012, 16, 2)\n",
      "\n",
      "\n"
     ]
    }
   ],
   "source": [
    "val_encoded_shited_hash_codes = []\n",
    "val_encoded_hash_codes = []\n",
    "\n",
    "print('Dimensiones del shifted hash codes'.format(encoded_shited_hash_codes.shape))\n",
    "print('Dimensiones del hash codes'.format(encoded_hash_codes.shape))\n",
    "\n",
    "for selected_index in validation_indexes:\n",
    "       \n",
    "    selected_encoded_shited_hash_codes = copy.deepcopy(encoded_shited_hash_codes[selected_index])\n",
    "    selected_encoded_hash_codes = copy.deepcopy(encoded_hash_codes[selected_index])\n",
    "    \n",
    "    val_encoded_shited_hash_codes.append(selected_encoded_shited_hash_codes)\n",
    "    val_encoded_hash_codes.append(selected_encoded_hash_codes)\n",
    "    \n",
    "    encoded_shited_hash_codes = np.delete(encoded_shited_hash_codes, selected_index, 0)\n",
    "    encoded_hash_codes = np.delete(encoded_hash_codes, selected_index, 0)\n",
    "\n",
    "val_encoded_shited_hash_codes = np.asarray(val_encoded_shited_hash_codes).reshape((len(val_encoded_shited_hash_codes), encoded_shited_hash_codes.shape[1], encoded_shited_hash_codes.shape[2]))\n",
    "val_encoded_hash_codes = np.asarray(val_encoded_hash_codes).reshape((len(val_encoded_hash_codes), encoded_hash_codes.shape[1], encoded_hash_codes.shape[2]))\n",
    "\n",
    "print('Dimensiones del shifted hash codes {}'.format(encoded_shited_hash_codes.shape))\n",
    "print('Dimensiones del hash codes {}'.format(encoded_hash_codes.shape))\n",
    "print('Dimensiones del validation shifted hash codes {}'.format(val_encoded_shited_hash_codes.shape))\n",
    "print('Dimensiones del validation hash codes {}'.format(val_encoded_hash_codes.shape))\n",
    "print('\\n')"
   ]
  },
  {
   "cell_type": "markdown",
   "metadata": {},
   "source": [
    "#### Red Neuronal"
   ]
  },
  {
   "cell_type": "code",
   "execution_count": 15,
   "metadata": {
    "scrolled": false
   },
   "outputs": [
    {
     "name": "stderr",
     "output_type": "stream",
     "text": [
      "Using TensorFlow backend.\n"
     ]
    },
    {
     "name": "stdout",
     "output_type": "stream",
     "text": [
      "num_features: 50\n",
      "hash_features: 2\n",
      "latent_dim: 256\n",
      "len_hash: 16\n",
      "num_samples: 8048\n",
      "max_lenght: 50\n",
      "\n",
      "\n",
      "WARNING:tensorflow:From /usr/local/lib/python3.5/dist-packages/tensorflow/python/framework/op_def_library.py:263: colocate_with (from tensorflow.python.framework.ops) is deprecated and will be removed in a future version.\n",
      "Instructions for updating:\n",
      "Colocations handled automatically by placer.\n",
      "WARNING:tensorflow:From /usr/local/lib/python3.5/dist-packages/tensorflow/python/ops/math_ops.py:3066: to_int32 (from tensorflow.python.ops.math_ops) is deprecated and will be removed in a future version.\n",
      "Instructions for updating:\n",
      "Use tf.cast instead.\n",
      "WARNING:tensorflow:From /usr/local/lib/python3.5/dist-packages/tensorflow/python/ops/math_grad.py:102: div (from tensorflow.python.ops.math_ops) is deprecated and will be removed in a future version.\n",
      "Instructions for updating:\n",
      "Deprecated in favor of operator or tf.math.divide.\n",
      "Train on 8048 samples, validate on 2012 samples\n",
      "Epoch 1/200\n",
      "8048/8048 [==============================] - 20s 3ms/step - loss: 0.1614 - acc: 0.9291 - val_loss: 0.0368 - val_acc: 0.9935\n",
      "Epoch 2/200\n",
      "8048/8048 [==============================] - 20s 2ms/step - loss: 0.0362 - acc: 0.9931 - val_loss: 0.0356 - val_acc: 0.9936\n",
      "Epoch 3/200\n",
      "8048/8048 [==============================] - 20s 2ms/step - loss: 0.0338 - acc: 0.9932 - val_loss: 0.0327 - val_acc: 0.9936\n",
      "Epoch 4/200\n",
      "8048/8048 [==============================] - 19s 2ms/step - loss: 0.0308 - acc: 0.9932 - val_loss: 0.0301 - val_acc: 0.9935\n",
      "Epoch 5/200\n",
      "8048/8048 [==============================] - 19s 2ms/step - loss: 0.0291 - acc: 0.9932 - val_loss: 0.0297 - val_acc: 0.9934\n",
      "Epoch 6/200\n",
      "8048/8048 [==============================] - 19s 2ms/step - loss: 0.0260 - acc: 0.9935 - val_loss: 0.0283 - val_acc: 0.9938\n",
      "Epoch 7/200\n",
      "8048/8048 [==============================] - 19s 2ms/step - loss: 0.0246 - acc: 0.9937 - val_loss: 0.0295 - val_acc: 0.9937\n",
      "Epoch 8/200\n",
      "8048/8048 [==============================] - 19s 2ms/step - loss: 0.0224 - acc: 0.9941 - val_loss: 0.0284 - val_acc: 0.9930\n",
      "Epoch 9/200\n",
      "8048/8048 [==============================] - 19s 2ms/step - loss: 0.0204 - acc: 0.9946 - val_loss: 0.0273 - val_acc: 0.9937\n",
      "Epoch 10/200\n",
      "8048/8048 [==============================] - 20s 3ms/step - loss: 0.0191 - acc: 0.9948 - val_loss: 0.0257 - val_acc: 0.9938\n",
      "Epoch 11/200\n",
      "8048/8048 [==============================] - 20s 2ms/step - loss: 0.0172 - acc: 0.9951 - val_loss: 0.0279 - val_acc: 0.9941\n",
      "Epoch 12/200\n",
      "8048/8048 [==============================] - 19s 2ms/step - loss: 0.0152 - acc: 0.9958 - val_loss: 0.0278 - val_acc: 0.9942\n",
      "Epoch 13/200\n",
      "8048/8048 [==============================] - 20s 2ms/step - loss: 0.0136 - acc: 0.9960 - val_loss: 0.0267 - val_acc: 0.9936\n",
      "Epoch 14/200\n",
      "8048/8048 [==============================] - 20s 2ms/step - loss: 0.0118 - acc: 0.9966 - val_loss: 0.0280 - val_acc: 0.9936\n",
      "Epoch 15/200\n",
      "8048/8048 [==============================] - 20s 2ms/step - loss: 0.0102 - acc: 0.9970 - val_loss: 0.0287 - val_acc: 0.9938\n",
      "Epoch 00015: early stopping\n",
      "Time to compute: 4.9529966592788695 min\n"
     ]
    },
    {
     "data": {
      "image/png": "[encoded data removed]",
      "text/plain": [
       "<Figure size 432x288 with 1 Axes>"
      ]
     },
     "metadata": {
      "needs_background": "light"
     },
     "output_type": "display_data"
    },
    {
     "data": {
      "image/png": "[encoded data removed]",
      "text/plain": [
       "<Figure size 432x288 with 1 Axes>"
      ]
     },
     "metadata": {
      "needs_background": "light"
     },
     "output_type": "display_data"
    },
    {
     "name": "stdout",
     "output_type": "stream",
     "text": [
      "finish training\n"
     ]
    }
   ],
   "source": [
    "%matplotlib inline\n",
    "\n",
    "from keras.models import Model\n",
    "from keras.layers import Input\n",
    "from keras.layers import LSTM\n",
    "from keras.layers import Dense\n",
    "from keras.layers import Masking\n",
    "from keras.callbacks import EarlyStopping, ModelCheckpoint\n",
    "import numpy as np\n",
    "from pprint import pprint\n",
    "from keras.utils.vis_utils import plot_model\n",
    "import matplotlib.pyplot as plt\n",
    "import time\n",
    "import math \n",
    "import random\n",
    "import copy \n",
    "\n",
    "\n",
    "num_features = glove_em.shape[2]\n",
    "hash_features = encoded_hash_codes.shape[2]\n",
    "latent_dim = 256\n",
    "len_hash = encoded_hash_codes.shape[1]\n",
    "num_samples = glove_em.shape[0]\n",
    "max_lenght = glove_em.shape[1]\n",
    "\n",
    "print(\"num_features: {}\".format(num_features))\n",
    "print(\"hash_features: {}\".format(hash_features))\n",
    "print(\"latent_dim: {}\".format(latent_dim))\n",
    "print(\"len_hash: {}\".format(len_hash))\n",
    "print(\"num_samples: {}\".format(num_samples))\n",
    "print(\"max_lenght: {}\".format(max_lenght))\n",
    "print(\"\\n\")\n",
    "\n",
    "# Training Model\n",
    "\n",
    "# Define encoder, an input sequence and process it.\n",
    "encoder_inputs = Input(shape=(None, num_features))\n",
    "encoder_inputs_mask = Masking(mask_value = 100.0)(encoder_inputs)\n",
    "encoder = LSTM(latent_dim, return_state=True)\n",
    "encoder_outputs, state_h, state_c = encoder(encoder_inputs_mask)\n",
    "\n",
    "encoder_states = [state_h, state_c]\n",
    "\n",
    "# Set up the decoder, using `encoder_states` as initial state.\n",
    "decoder_inputs = Input(shape=(None, hash_features))\n",
    "\n",
    "# We set up our decoder to return full output sequences,\n",
    "# and to return internal states as well. We don't use the\n",
    "# return states in the training model, but we will use them in inference.\n",
    "decoder_lstm = LSTM(latent_dim, return_sequences=True, return_state=True)\n",
    "decoder_outputs, _, _ = decoder_lstm(decoder_inputs, initial_state=encoder_states)\n",
    "decoder_dense = Dense(hash_features, activation='softmax')\n",
    "decoder_outputs = decoder_dense(decoder_outputs)\n",
    "\n",
    "# Define the model that will turn\n",
    "# `encoder_input_data` & `decoder_input_data` into `decoder_target_data`\n",
    "model = Model([encoder_inputs, decoder_inputs], decoder_outputs)\n",
    "model.compile(optimizer='adam', loss='categorical_crossentropy', metrics=['acc'])\n",
    "\n",
    "callbacks = [\n",
    "    EarlyStopping(monitor='val_loss', patience = 5, verbose = 1),\n",
    "    #ModelCheckpoint(filepath='best_model.h5', monitor='val_loss', save_best_only=True)\n",
    "]\n",
    "\n",
    "start_time = time.time()\n",
    "\n",
    "history = model.fit(\n",
    "    [glove_em, encoded_shited_hash_codes], \n",
    "    encoded_hash_codes, \n",
    "    epochs = 200, \n",
    "    validation_data = ([val_glove_em, val_encoded_shited_hash_codes], val_encoded_hash_codes),\n",
    "    callbacks = callbacks\n",
    ")\n",
    "\n",
    "elapsed_time = time.time() - start_time\n",
    "print(\"Time to compute: {} min\".format(elapsed_time/60))\n",
    "\n",
    "# summarize history for accuracy\n",
    "plt.plot(history.history['acc'], label='train')\n",
    "plt.plot(history.history['val_acc'], label='validation')\n",
    "plt.title('model accuracy')\n",
    "plt.ylabel('accuracy')\n",
    "plt.xlabel('epoch')\n",
    "plt.legend(['train', 'validation'], loc='upper left')\n",
    "plt.show()\n",
    "\n",
    "# summarize history for loss\n",
    "plt.plot(history.history['loss'], label='train')\n",
    "plt.plot(history.history['val_loss'], label='validation')\n",
    "plt.title('model loss')\n",
    "plt.ylabel('loss')\n",
    "plt.xlabel('epoch')\n",
    "plt.legend(['train', 'validation'], loc='upper left')\n",
    "plt.show()\n",
    "\n",
    "print('finish training')"
   ]
  },
  {
   "cell_type": "code",
   "execution_count": 16,
   "metadata": {},
   "outputs": [
    {
     "name": "stdout",
     "output_type": "stream",
     "text": [
      "Modelo de Inferencia\n"
     ]
    }
   ],
   "source": [
    "# Inference Model\n",
    "\n",
    "print('Modelo de Inferencia')\n",
    "# define encoder inference model\n",
    "encoder_model = Model(encoder_inputs, encoder_states)\n",
    "\n",
    "decoder_state_input_h = Input(shape=(latent_dim,))\n",
    "decoder_state_input_c = Input(shape=(latent_dim,))\n",
    "\n",
    "decoder_states_inputs = [decoder_state_input_h, decoder_state_input_c]\n",
    "decoder_outputs, state_h, state_c = decoder_lstm(decoder_inputs, initial_state=decoder_states_inputs)\n",
    "\n",
    "decoder_states = [state_h, state_c]\n",
    "decoder_outputs = decoder_dense(decoder_outputs)\n",
    "decoder_model = Model([decoder_inputs] + decoder_states_inputs, [decoder_outputs] + decoder_states)\n",
    "\n",
    "def predict_hash_code(input_seq):\n",
    "\n",
    "    # Encode the input as state vectors.\n",
    "    states_value = encoder_model.predict(input_seq)\n",
    "    \n",
    "    # Generate empty target sequence of length 1.\n",
    "    target_seq = np.zeros((1, 1, hash_features))\n",
    "    hash_code = []\n",
    "    \n",
    "    prepare = prepare_input()\n",
    "\n",
    "    for _ in range(len_hash):\n",
    "\n",
    "        output_tokens, h, c = decoder_model.predict([target_seq] + states_value)\n",
    "        #pprint(output_tokens)\n",
    "        \n",
    "        decoded_hash = prepare.decode_hash(output_tokens[0])\n",
    "        #pprint(decoded_hash)\n",
    "        \n",
    "        hash_code.append(decoded_hash[0]);\n",
    "        \n",
    "        selected_bit = np.argmax(output_tokens[0])        \n",
    "        target_seq = np.zeros((1, 1, hash_features))\n",
    "        target_seq[0, 0, selected_bit] = 1\n",
    "        states_value = [h, c]\n",
    "    \n",
    "        #print(target_seq)\n",
    "        \n",
    "    return np.asarray(hash_code)"
   ]
  },
  {
   "cell_type": "code",
   "execution_count": 17,
   "metadata": {},
   "outputs": [
    {
     "name": "stdout",
     "output_type": "stream",
     "text": [
      "10060\n",
      "10060\n"
     ]
    }
   ],
   "source": [
    "database = hashingDatabase()\n",
    "\n",
    "#print(len(glove_em_before_padding))\n",
    "for i in range(len(glove_em_before_padding)):\n",
    "    #print(len(glove_em_before_padding[i]))\n",
    "    #print(i)\n",
    "    element = np.asarray(glove_em_before_padding[i])\n",
    "    #print(element.shape)\n",
    "    element = element.reshape((1, element.shape[0], element.shape[1]))\n",
    "    #print(element.shape)\n",
    "    #break\n",
    "    hash_code = predict_hash_code(element)\n",
    "    database.add_element(hash_code, train_dataset['target'][i])\n",
    "    \n",
    "print(len(database.database))\n",
    "print(len(database.labels))"
   ]
  },
  {
   "cell_type": "code",
   "execution_count": 18,
   "metadata": {},
   "outputs": [
    {
     "name": "stdout",
     "output_type": "stream",
     "text": [
      "precision at 1 equals to 0.14692982456140352\n",
      "precision at 5 equals to 0.16017543859649122\n",
      "precision at 10 equals to 0.1621929824561404\n",
      "precision at 15 equals to 0.1639766081871345\n",
      "precision at 20 equals to 0.163859649122807\n",
      "precision at 50 equals to 0.1573859649122807\n",
      "precision at 100 equals to 0.14822368421052634\n",
      "precision at 150 equals to 0.14442690058479532\n",
      "precision at 200 equals to 0.11919517543859648\n"
     ]
    }
   ],
   "source": [
    "k_values = [1, 5, 10, 15, 20, 50, 100, 150, 200]\n",
    "\n",
    "for k in k_values:\n",
    "    precisions = []\n",
    "    for i in range(len(glove_em_test)):\n",
    "        example = np.asarray(glove_em_test[i])\n",
    "        #print(example.shape)\n",
    "        example = example.reshape((1, example.shape[0], example.shape[1]))\n",
    "        #print(example.shape)\n",
    "        #break\n",
    "        hash_code = predict_hash_code(example).reshape((1, len_hash))\n",
    "        #print(hash_code)\n",
    "        #print(tiny_test_dataset['target'][i])\n",
    "        #print('Precision')\n",
    "        #print('hash: {}'.format(hash_code));\n",
    "        #print('target: {}'.format(tiny_test_dataset['target'][i]))\n",
    "        precision = database.evaluate_P_K(hash_code, test_dataset['target'][i], k)\n",
    "        #print(precision)\n",
    "        #print('\\n')\n",
    "        precisions.append(precision)\n",
    "\n",
    "    print(\"precision at {} equals to {}\".format(k, np.mean(precisions)))"
   ]
  },
  {
   "cell_type": "markdown",
   "metadata": {},
   "source": [
    "### Wang"
   ]
  },
  {
   "cell_type": "markdown",
   "metadata": {},
   "source": [
    "#### Prehashes"
   ]
  },
  {
   "cell_type": "code",
   "execution_count": 19,
   "metadata": {
    "scrolled": false
   },
   "outputs": [
    {
     "name": "stdout",
     "output_type": "stream",
     "text": [
      "Using preexisting hash codes\n"
     ]
    }
   ],
   "source": [
    "hash_codes = binaryCodes(train_dataset, sigma = 1, k_neighbors = 7, c_coeff = 1, method = 'chinese_weiss')\n",
    "\n",
    "binary_codes = hash_codes.binary_codes(hash_len = 16)\n",
    "\n",
    "#pprint(binary_codes[0])\n",
    "#print(len(binary_codes))\n",
    "#print(\"\\n\")\n",
    "\n",
    "shifted_codes = prepare.shift_hash_codes(binary_codes)\n",
    "#pprint(shifted_codes[0])\n",
    "#print(len(shifted_codes))\n",
    "#print(\"\\n\")\n",
    "\n",
    "encoded_hash_codes = prepare.encode_hashes(binary_codes)\n",
    "#pprint(encoded_hash_codes[0])\n",
    "#print(len(encoded_hash_codes))\n",
    "#print(\"\\n\")\n",
    "\n",
    "encoded_shited_hash_codes = prepare.encode_hashes(shifted_codes)\n",
    "#pprint(encoded_shited_hash_codes[0])\n",
    "#print(len(encoded_shited_hash_codes))\n",
    "#print(\"\\n\")"
   ]
  },
  {
   "cell_type": "code",
   "execution_count": 20,
   "metadata": {},
   "outputs": [
    {
     "name": "stdout",
     "output_type": "stream",
     "text": [
      "Dimensiones del shifted hash codes\n",
      "Dimensiones del hash codes\n",
      "Dimensiones del shifted hash codes (8048, 16, 2)\n",
      "Dimensiones del hash codes (8048, 16, 2)\n",
      "Dimensiones del validation shifted hash codes (2012, 16, 2)\n",
      "Dimensiones del validation hash codes (2012, 16, 2)\n",
      "\n",
      "\n"
     ]
    }
   ],
   "source": [
    "val_encoded_shited_hash_codes = []\n",
    "val_encoded_hash_codes = []\n",
    "\n",
    "print('Dimensiones del shifted hash codes'.format(encoded_shited_hash_codes.shape))\n",
    "print('Dimensiones del hash codes'.format(encoded_hash_codes.shape))\n",
    "\n",
    "for selected_index in validation_indexes:\n",
    "       \n",
    "    selected_encoded_shited_hash_codes = copy.deepcopy(encoded_shited_hash_codes[selected_index])\n",
    "    selected_encoded_hash_codes = copy.deepcopy(encoded_hash_codes[selected_index])\n",
    "    \n",
    "    val_encoded_shited_hash_codes.append(selected_encoded_shited_hash_codes)\n",
    "    val_encoded_hash_codes.append(selected_encoded_hash_codes)\n",
    "    \n",
    "    encoded_shited_hash_codes = np.delete(encoded_shited_hash_codes, selected_index, 0)\n",
    "    encoded_hash_codes = np.delete(encoded_hash_codes, selected_index, 0)\n",
    "\n",
    "val_encoded_shited_hash_codes = np.asarray(val_encoded_shited_hash_codes).reshape((len(val_encoded_shited_hash_codes), encoded_shited_hash_codes.shape[1], encoded_shited_hash_codes.shape[2]))\n",
    "val_encoded_hash_codes = np.asarray(val_encoded_hash_codes).reshape((len(val_encoded_hash_codes), encoded_hash_codes.shape[1], encoded_hash_codes.shape[2]))\n",
    "\n",
    "print('Dimensiones del shifted hash codes {}'.format(encoded_shited_hash_codes.shape))\n",
    "print('Dimensiones del hash codes {}'.format(encoded_hash_codes.shape))\n",
    "print('Dimensiones del validation shifted hash codes {}'.format(val_encoded_shited_hash_codes.shape))\n",
    "print('Dimensiones del validation hash codes {}'.format(val_encoded_hash_codes.shape))\n",
    "print('\\n')"
   ]
  },
  {
   "cell_type": "markdown",
   "metadata": {},
   "source": [
    "#### Red Neuronal"
   ]
  },
  {
   "cell_type": "code",
   "execution_count": 21,
   "metadata": {
    "scrolled": false
   },
   "outputs": [
    {
     "name": "stdout",
     "output_type": "stream",
     "text": [
      "num_features: 50\n",
      "hash_features: 2\n",
      "latent_dim: 256\n",
      "len_hash: 16\n",
      "num_samples: 8048\n",
      "max_lenght: 50\n",
      "\n",
      "\n",
      "Train on 8048 samples, validate on 2012 samples\n",
      "Epoch 1/200\n",
      "8048/8048 [==============================] - 20s 3ms/step - loss: 0.4930 - acc: 0.7394 - val_loss: 0.4097 - val_acc: 0.8166\n",
      "Epoch 2/200\n",
      "8048/8048 [==============================] - 20s 2ms/step - loss: 0.3693 - acc: 0.8352 - val_loss: 0.3522 - val_acc: 0.8444\n",
      "Epoch 3/200\n",
      "8048/8048 [==============================] - 20s 2ms/step - loss: 0.3280 - acc: 0.8565 - val_loss: 0.3301 - val_acc: 0.8569\n",
      "Epoch 4/200\n",
      "8048/8048 [==============================] - 20s 2ms/step - loss: 0.2953 - acc: 0.8735 - val_loss: 0.2921 - val_acc: 0.8767\n",
      "Epoch 5/200\n",
      "8048/8048 [==============================] - 19s 2ms/step - loss: 0.2670 - acc: 0.8863 - val_loss: 0.2807 - val_acc: 0.8818\n",
      "Epoch 6/200\n",
      "8048/8048 [==============================] - 19s 2ms/step - loss: 0.2423 - acc: 0.8987 - val_loss: 0.2607 - val_acc: 0.8917\n",
      "Epoch 7/200\n",
      "8048/8048 [==============================] - 20s 2ms/step - loss: 0.2196 - acc: 0.9090 - val_loss: 0.2522 - val_acc: 0.8955\n",
      "Epoch 8/200\n",
      "8048/8048 [==============================] - 20s 2ms/step - loss: 0.1990 - acc: 0.9183 - val_loss: 0.2446 - val_acc: 0.9012\n",
      "Epoch 9/200\n",
      "8048/8048 [==============================] - 19s 2ms/step - loss: 0.1789 - acc: 0.9270 - val_loss: 0.2369 - val_acc: 0.9044\n",
      "Epoch 10/200\n",
      "8048/8048 [==============================] - 20s 2ms/step - loss: 0.1579 - acc: 0.9372 - val_loss: 0.2401 - val_acc: 0.9073\n",
      "Epoch 11/200\n",
      "8048/8048 [==============================] - 19s 2ms/step - loss: 0.1411 - acc: 0.9447 - val_loss: 0.2484 - val_acc: 0.9089\n",
      "Epoch 12/200\n",
      "8048/8048 [==============================] - 19s 2ms/step - loss: 0.1232 - acc: 0.9519 - val_loss: 0.2504 - val_acc: 0.9088\n",
      "Epoch 13/200\n",
      "8048/8048 [==============================] - 20s 2ms/step - loss: 0.1071 - acc: 0.9585 - val_loss: 0.2586 - val_acc: 0.9110\n",
      "Epoch 14/200\n",
      "8048/8048 [==============================] - 20s 2ms/step - loss: 0.0926 - acc: 0.9647 - val_loss: 0.2672 - val_acc: 0.9106\n",
      "Epoch 00014: early stopping\n",
      "Time to compute: 4.6060994108517965 min\n"
     ]
    },
    {
     "data": {
      "image/png": "[encoded data removed]",
      "text/plain": [
       "<Figure size 432x288 with 1 Axes>"
      ]
     },
     "metadata": {
      "needs_background": "light"
     },
     "output_type": "display_data"
    },
    {
     "data": {
      "image/png": "[encoded data removed]",
      "text/plain": [
       "<Figure size 432x288 with 1 Axes>"
      ]
     },
     "metadata": {
      "needs_background": "light"
     },
     "output_type": "display_data"
    },
    {
     "name": "stdout",
     "output_type": "stream",
     "text": [
      "finish training\n"
     ]
    }
   ],
   "source": [
    "%matplotlib inline\n",
    "\n",
    "from keras.models import Model\n",
    "from keras.layers import Input\n",
    "from keras.layers import LSTM\n",
    "from keras.layers import Dense\n",
    "from keras.layers import Masking\n",
    "from keras.callbacks import EarlyStopping, ModelCheckpoint\n",
    "import numpy as np\n",
    "from pprint import pprint\n",
    "from keras.utils.vis_utils import plot_model\n",
    "import matplotlib.pyplot as plt\n",
    "import time\n",
    "import math \n",
    "import random\n",
    "import copy \n",
    "\n",
    "\n",
    "num_features = glove_em.shape[2]\n",
    "hash_features = encoded_hash_codes.shape[2]\n",
    "latent_dim = 256\n",
    "len_hash = encoded_hash_codes.shape[1]\n",
    "num_samples = glove_em.shape[0]\n",
    "max_lenght = glove_em.shape[1]\n",
    "\n",
    "print(\"num_features: {}\".format(num_features))\n",
    "print(\"hash_features: {}\".format(hash_features))\n",
    "print(\"latent_dim: {}\".format(latent_dim))\n",
    "print(\"len_hash: {}\".format(len_hash))\n",
    "print(\"num_samples: {}\".format(num_samples))\n",
    "print(\"max_lenght: {}\".format(max_lenght))\n",
    "print(\"\\n\")\n",
    "\n",
    "# Training Model\n",
    "\n",
    "# Define encoder, an input sequence and process it.\n",
    "encoder_inputs = Input(shape=(None, num_features))\n",
    "encoder_inputs_mask = Masking(mask_value = 100.0)(encoder_inputs)\n",
    "encoder = LSTM(latent_dim, return_state=True)\n",
    "encoder_outputs, state_h, state_c = encoder(encoder_inputs_mask)\n",
    "\n",
    "encoder_states = [state_h, state_c]\n",
    "\n",
    "# Set up the decoder, using `encoder_states` as initial state.\n",
    "decoder_inputs = Input(shape=(None, hash_features))\n",
    "\n",
    "# We set up our decoder to return full output sequences,\n",
    "# and to return internal states as well. We don't use the\n",
    "# return states in the training model, but we will use them in inference.\n",
    "decoder_lstm = LSTM(latent_dim, return_sequences=True, return_state=True)\n",
    "decoder_outputs, _, _ = decoder_lstm(decoder_inputs, initial_state=encoder_states)\n",
    "decoder_dense = Dense(hash_features, activation='softmax')\n",
    "decoder_outputs = decoder_dense(decoder_outputs)\n",
    "\n",
    "# Define the model that will turn\n",
    "# `encoder_input_data` & `decoder_input_data` into `decoder_target_data`\n",
    "model = Model([encoder_inputs, decoder_inputs], decoder_outputs)\n",
    "model.compile(optimizer='adam', loss='categorical_crossentropy', metrics=['acc'])\n",
    "\n",
    "callbacks = [\n",
    "    EarlyStopping(monitor='val_loss', patience = 5, verbose = 1),\n",
    "    #ModelCheckpoint(filepath='best_model.h5', monitor='val_loss', save_best_only=True)\n",
    "]\n",
    "\n",
    "start_time = time.time()\n",
    "\n",
    "history = model.fit(\n",
    "    [glove_em, encoded_shited_hash_codes], \n",
    "    encoded_hash_codes, \n",
    "    epochs = 200, \n",
    "    validation_data = ([val_glove_em, val_encoded_shited_hash_codes], val_encoded_hash_codes),\n",
    "    callbacks = callbacks\n",
    ")\n",
    "\n",
    "elapsed_time = time.time() - start_time\n",
    "print(\"Time to compute: {} min\".format(elapsed_time/60))\n",
    "\n",
    "# summarize history for accuracy\n",
    "plt.plot(history.history['acc'], label='train')\n",
    "plt.plot(history.history['val_acc'], label='validation')\n",
    "plt.title('model accuracy')\n",
    "plt.ylabel('accuracy')\n",
    "plt.xlabel('epoch')\n",
    "plt.legend(['train', 'validation'], loc='upper left')\n",
    "plt.show()\n",
    "\n",
    "# summarize history for loss\n",
    "plt.plot(history.history['loss'], label='train')\n",
    "plt.plot(history.history['val_loss'], label='validation')\n",
    "plt.title('model loss')\n",
    "plt.ylabel('loss')\n",
    "plt.xlabel('epoch')\n",
    "plt.legend(['train', 'validation'], loc='upper left')\n",
    "plt.show()\n",
    "\n",
    "print('finish training')"
   ]
  },
  {
   "cell_type": "code",
   "execution_count": 22,
   "metadata": {},
   "outputs": [
    {
     "name": "stdout",
     "output_type": "stream",
     "text": [
      "Modelo de Inferencia\n"
     ]
    }
   ],
   "source": [
    "# Inference Model\n",
    "\n",
    "print('Modelo de Inferencia')\n",
    "# define encoder inference model\n",
    "encoder_model = Model(encoder_inputs, encoder_states)\n",
    "\n",
    "decoder_state_input_h = Input(shape=(latent_dim,))\n",
    "decoder_state_input_c = Input(shape=(latent_dim,))\n",
    "\n",
    "decoder_states_inputs = [decoder_state_input_h, decoder_state_input_c]\n",
    "decoder_outputs, state_h, state_c = decoder_lstm(decoder_inputs, initial_state=decoder_states_inputs)\n",
    "\n",
    "decoder_states = [state_h, state_c]\n",
    "decoder_outputs = decoder_dense(decoder_outputs)\n",
    "decoder_model = Model([decoder_inputs] + decoder_states_inputs, [decoder_outputs] + decoder_states)\n",
    "\n",
    "def predict_hash_code(input_seq):\n",
    "\n",
    "    # Encode the input as state vectors.\n",
    "    states_value = encoder_model.predict(input_seq)\n",
    "    \n",
    "    # Generate empty target sequence of length 1.\n",
    "    target_seq = np.zeros((1, 1, hash_features))\n",
    "    hash_code = []\n",
    "    \n",
    "    prepare = prepare_input()\n",
    "\n",
    "    for _ in range(len_hash):\n",
    "\n",
    "        output_tokens, h, c = decoder_model.predict([target_seq] + states_value)\n",
    "        #pprint(output_tokens)\n",
    "        \n",
    "        decoded_hash = prepare.decode_hash(output_tokens[0])\n",
    "        #pprint(decoded_hash)\n",
    "        \n",
    "        hash_code.append(decoded_hash[0]);\n",
    "        \n",
    "        selected_bit = np.argmax(output_tokens[0])        \n",
    "        target_seq = np.zeros((1, 1, hash_features))\n",
    "        target_seq[0, 0, selected_bit] = 1\n",
    "        states_value = [h, c]\n",
    "    \n",
    "        #print(target_seq)\n",
    "        \n",
    "    return np.asarray(hash_code)"
   ]
  },
  {
   "cell_type": "code",
   "execution_count": 23,
   "metadata": {},
   "outputs": [
    {
     "name": "stdout",
     "output_type": "stream",
     "text": [
      "10060\n",
      "10060\n"
     ]
    }
   ],
   "source": [
    "database = hashingDatabase()\n",
    "\n",
    "#print(len(glove_em_before_padding))\n",
    "for i in range(len(glove_em_before_padding)):\n",
    "    #print(len(glove_em_before_padding[i]))\n",
    "    #print(i)\n",
    "    element = np.asarray(glove_em_before_padding[i])\n",
    "    #print(element.shape)\n",
    "    element = element.reshape((1, element.shape[0], element.shape[1]))\n",
    "    #print(element.shape)\n",
    "    #break\n",
    "    hash_code = predict_hash_code(element)\n",
    "    database.add_element(hash_code, train_dataset['target'][i])\n",
    "    \n",
    "print(len(database.database))\n",
    "print(len(database.labels))"
   ]
  },
  {
   "cell_type": "code",
   "execution_count": 24,
   "metadata": {
    "scrolled": true
   },
   "outputs": [
    {
     "name": "stdout",
     "output_type": "stream",
     "text": [
      "precision at 1 equals to 0.6381578947368421\n",
      "precision at 5 equals to 0.6147368421052632\n",
      "precision at 10 equals to 0.5994298245614035\n",
      "precision at 15 equals to 0.5935087719298245\n",
      "precision at 20 equals to 0.5936622807017544\n",
      "precision at 50 equals to 0.5881491228070176\n",
      "precision at 100 equals to 0.5738859649122807\n",
      "precision at 150 equals to 0.5624122807017544\n",
      "precision at 200 equals to 0.5549912280701755\n"
     ]
    }
   ],
   "source": [
    "k_values = [1, 5, 10, 15, 20, 50, 100, 150, 200]\n",
    "\n",
    "for k in k_values:\n",
    "    precisions = []\n",
    "    for i in range(len(glove_em_test)):\n",
    "        example = np.asarray(glove_em_test[i])\n",
    "        #print(example.shape)\n",
    "        example = example.reshape((1, example.shape[0], example.shape[1]))\n",
    "        #print(example.shape)\n",
    "        #break\n",
    "        hash_code = predict_hash_code(example).reshape((1, len_hash))\n",
    "        #print(hash_code)\n",
    "        #print(tiny_test_dataset['target'][i])\n",
    "        #print('Precision')\n",
    "        #print('hash: {}'.format(hash_code));\n",
    "        #print('target: {}'.format(tiny_test_dataset['target'][i]))\n",
    "        precision = database.evaluate_P_K(hash_code, test_dataset['target'][i], k)\n",
    "        #print(precision)\n",
    "        #print('\\n')\n",
    "        precisions.append(precision)\n",
    "\n",
    "    print(\"precision at {} equals to {}\".format(k, np.mean(precisions)))"
   ]
  },
  {
   "cell_type": "code",
   "execution_count": null,
   "metadata": {},
   "outputs": [],
   "source": []
  },
  {
   "cell_type": "code",
   "execution_count": null,
   "metadata": {},
   "outputs": [],
   "source": []
  },
  {
   "cell_type": "markdown",
   "metadata": {
    "collapsed": true
   },
   "source": [
    "### Wang Supervised"
   ]
  },
  {
   "cell_type": "markdown",
   "metadata": {},
   "source": [
    "#### Prehashes"
   ]
  },
  {
   "cell_type": "code",
   "execution_count": 25,
   "metadata": {
    "scrolled": false
   },
   "outputs": [
    {
     "name": "stdout",
     "output_type": "stream",
     "text": [
      "Using preexisting hash codes\n"
     ]
    }
   ],
   "source": [
    "hash_codes = binaryCodes(train_dataset, sigma = 1, k_neighbors = 7, a_equal_coeff = 1, b_unequal_coeff = 0.1, \n",
    "                         method = 'chinese_weiss_supervised')\n",
    "\n",
    "binary_codes = hash_codes.binary_codes(hash_len = 16)\n",
    "\n",
    "#pprint(binary_codes[0])\n",
    "#print(len(binary_codes))\n",
    "#print(\"\\n\")\n",
    "\n",
    "shifted_codes = prepare.shift_hash_codes(binary_codes)\n",
    "#pprint(shifted_codes[0])\n",
    "#print(len(shifted_codes))\n",
    "#print(\"\\n\")\n",
    "\n",
    "encoded_hash_codes = prepare.encode_hashes(binary_codes)\n",
    "#pprint(encoded_hash_codes[0])\n",
    "#print(len(encoded_hash_codes))\n",
    "#print(\"\\n\")\n",
    "\n",
    "encoded_shited_hash_codes = prepare.encode_hashes(shifted_codes)\n",
    "#pprint(encoded_shited_hash_codes[0])\n",
    "#print(len(encoded_shited_hash_codes))\n",
    "#print(\"\\n\")"
   ]
  },
  {
   "cell_type": "code",
   "execution_count": 26,
   "metadata": {},
   "outputs": [
    {
     "name": "stdout",
     "output_type": "stream",
     "text": [
      "Dimensiones del shifted hash codes\n",
      "Dimensiones del hash codes\n",
      "Dimensiones del shifted hash codes (8048, 16, 2)\n",
      "Dimensiones del hash codes (8048, 16, 2)\n",
      "Dimensiones del validation shifted hash codes (2012, 16, 2)\n",
      "Dimensiones del validation hash codes (2012, 16, 2)\n",
      "\n",
      "\n"
     ]
    }
   ],
   "source": [
    "val_encoded_shited_hash_codes = []\n",
    "val_encoded_hash_codes = []\n",
    "\n",
    "print('Dimensiones del shifted hash codes'.format(encoded_shited_hash_codes.shape))\n",
    "print('Dimensiones del hash codes'.format(encoded_hash_codes.shape))\n",
    "\n",
    "for selected_index in validation_indexes:\n",
    "       \n",
    "    selected_encoded_shited_hash_codes = copy.deepcopy(encoded_shited_hash_codes[selected_index])\n",
    "    selected_encoded_hash_codes = copy.deepcopy(encoded_hash_codes[selected_index])\n",
    "    \n",
    "    val_encoded_shited_hash_codes.append(selected_encoded_shited_hash_codes)\n",
    "    val_encoded_hash_codes.append(selected_encoded_hash_codes)\n",
    "    \n",
    "    encoded_shited_hash_codes = np.delete(encoded_shited_hash_codes, selected_index, 0)\n",
    "    encoded_hash_codes = np.delete(encoded_hash_codes, selected_index, 0)\n",
    "\n",
    "val_encoded_shited_hash_codes = np.asarray(val_encoded_shited_hash_codes).reshape((len(val_encoded_shited_hash_codes), encoded_shited_hash_codes.shape[1], encoded_shited_hash_codes.shape[2]))\n",
    "val_encoded_hash_codes = np.asarray(val_encoded_hash_codes).reshape((len(val_encoded_hash_codes), encoded_hash_codes.shape[1], encoded_hash_codes.shape[2]))\n",
    "\n",
    "print('Dimensiones del shifted hash codes {}'.format(encoded_shited_hash_codes.shape))\n",
    "print('Dimensiones del hash codes {}'.format(encoded_hash_codes.shape))\n",
    "print('Dimensiones del validation shifted hash codes {}'.format(val_encoded_shited_hash_codes.shape))\n",
    "print('Dimensiones del validation hash codes {}'.format(val_encoded_hash_codes.shape))\n",
    "print('\\n')"
   ]
  },
  {
   "cell_type": "markdown",
   "metadata": {},
   "source": [
    "#### Red Neuronal"
   ]
  },
  {
   "cell_type": "code",
   "execution_count": 27,
   "metadata": {
    "scrolled": false
   },
   "outputs": [
    {
     "name": "stdout",
     "output_type": "stream",
     "text": [
      "num_features: 50\n",
      "hash_features: 2\n",
      "latent_dim: 256\n",
      "len_hash: 16\n",
      "num_samples: 8048\n",
      "max_lenght: 50\n",
      "\n",
      "\n",
      "Train on 8048 samples, validate on 2012 samples\n",
      "Epoch 1/200\n",
      "8048/8048 [==============================] - 21s 3ms/step - loss: 0.4532 - acc: 0.7662 - val_loss: 0.3257 - val_acc: 0.8564\n",
      "Epoch 2/200\n",
      "8048/8048 [==============================] - 19s 2ms/step - loss: 0.2423 - acc: 0.9017 - val_loss: 0.1928 - val_acc: 0.9236\n",
      "Epoch 3/200\n",
      "8048/8048 [==============================] - 19s 2ms/step - loss: 0.1750 - acc: 0.9318 - val_loss: 0.1550 - val_acc: 0.9386\n",
      "Epoch 4/200\n",
      "8048/8048 [==============================] - 19s 2ms/step - loss: 0.1447 - acc: 0.9435 - val_loss: 0.1417 - val_acc: 0.9451\n",
      "Epoch 5/200\n",
      "8048/8048 [==============================] - 20s 2ms/step - loss: 0.1258 - acc: 0.9518 - val_loss: 0.1293 - val_acc: 0.9501\n",
      "Epoch 6/200\n",
      "8048/8048 [==============================] - 19s 2ms/step - loss: 0.1125 - acc: 0.9562 - val_loss: 0.1237 - val_acc: 0.9510\n",
      "Epoch 7/200\n",
      "8048/8048 [==============================] - 19s 2ms/step - loss: 0.1016 - acc: 0.9608 - val_loss: 0.1172 - val_acc: 0.9545\n",
      "Epoch 8/200\n",
      "8048/8048 [==============================] - 19s 2ms/step - loss: 0.0907 - acc: 0.9650 - val_loss: 0.1107 - val_acc: 0.9582\n",
      "Epoch 9/200\n",
      "8048/8048 [==============================] - 20s 2ms/step - loss: 0.0819 - acc: 0.9693 - val_loss: 0.1098 - val_acc: 0.9590\n",
      "Epoch 10/200\n",
      "8048/8048 [==============================] - 19s 2ms/step - loss: 0.0732 - acc: 0.9726 - val_loss: 0.1099 - val_acc: 0.9583\n",
      "Epoch 11/200\n",
      "8048/8048 [==============================] - 19s 2ms/step - loss: 0.0658 - acc: 0.9759 - val_loss: 0.1195 - val_acc: 0.9568\n",
      "Epoch 12/200\n",
      "8048/8048 [==============================] - 19s 2ms/step - loss: 0.0606 - acc: 0.9780 - val_loss: 0.1125 - val_acc: 0.9592\n",
      "Epoch 13/200\n",
      "8048/8048 [==============================] - 19s 2ms/step - loss: 0.0523 - acc: 0.9811 - val_loss: 0.1183 - val_acc: 0.9585\n",
      "Epoch 14/200\n",
      "8048/8048 [==============================] - 19s 2ms/step - loss: 0.0480 - acc: 0.9823 - val_loss: 0.1159 - val_acc: 0.9598\n",
      "Epoch 00014: early stopping\n",
      "Time to compute: 4.516510017712911 min\n"
     ]
    },
    {
     "data": {
      "image/png": "[encoded data removed]",
      "text/plain": [
       "<Figure size 432x288 with 1 Axes>"
      ]
     },
     "metadata": {
      "needs_background": "light"
     },
     "output_type": "display_data"
    },
    {
     "data": {
      "image/png": "[encoded data removed]",
      "text/plain": [
       "<Figure size 432x288 with 1 Axes>"
      ]
     },
     "metadata": {
      "needs_background": "light"
     },
     "output_type": "display_data"
    },
    {
     "name": "stdout",
     "output_type": "stream",
     "text": [
      "finish training\n"
     ]
    }
   ],
   "source": [
    "%matplotlib inline\n",
    "\n",
    "from keras.models import Model\n",
    "from keras.layers import Input\n",
    "from keras.layers import LSTM\n",
    "from keras.layers import Dense\n",
    "from keras.layers import Masking\n",
    "from keras.callbacks import EarlyStopping, ModelCheckpoint\n",
    "import numpy as np\n",
    "from pprint import pprint\n",
    "from keras.utils.vis_utils import plot_model\n",
    "import matplotlib.pyplot as plt\n",
    "import time\n",
    "import math \n",
    "import random\n",
    "import copy \n",
    "\n",
    "\n",
    "num_features = glove_em.shape[2]\n",
    "hash_features = encoded_hash_codes.shape[2]\n",
    "latent_dim = 256\n",
    "len_hash = encoded_hash_codes.shape[1]\n",
    "num_samples = glove_em.shape[0]\n",
    "max_lenght = glove_em.shape[1]\n",
    "\n",
    "print(\"num_features: {}\".format(num_features))\n",
    "print(\"hash_features: {}\".format(hash_features))\n",
    "print(\"latent_dim: {}\".format(latent_dim))\n",
    "print(\"len_hash: {}\".format(len_hash))\n",
    "print(\"num_samples: {}\".format(num_samples))\n",
    "print(\"max_lenght: {}\".format(max_lenght))\n",
    "print(\"\\n\")\n",
    "\n",
    "# Training Model\n",
    "\n",
    "# Define encoder, an input sequence and process it.\n",
    "encoder_inputs = Input(shape=(None, num_features))\n",
    "encoder_inputs_mask = Masking(mask_value = 100.0)(encoder_inputs)\n",
    "encoder = LSTM(latent_dim, return_state=True)\n",
    "encoder_outputs, state_h, state_c = encoder(encoder_inputs_mask)\n",
    "\n",
    "encoder_states = [state_h, state_c]\n",
    "\n",
    "# Set up the decoder, using `encoder_states` as initial state.\n",
    "decoder_inputs = Input(shape=(None, hash_features))\n",
    "\n",
    "# We set up our decoder to return full output sequences,\n",
    "# and to return internal states as well. We don't use the\n",
    "# return states in the training model, but we will use them in inference.\n",
    "decoder_lstm = LSTM(latent_dim, return_sequences=True, return_state=True)\n",
    "decoder_outputs, _, _ = decoder_lstm(decoder_inputs, initial_state=encoder_states)\n",
    "decoder_dense = Dense(hash_features, activation='softmax')\n",
    "decoder_outputs = decoder_dense(decoder_outputs)\n",
    "\n",
    "# Define the model that will turn\n",
    "# `encoder_input_data` & `decoder_input_data` into `decoder_target_data`\n",
    "model = Model([encoder_inputs, decoder_inputs], decoder_outputs)\n",
    "model.compile(optimizer='adam', loss='categorical_crossentropy', metrics=['acc'])\n",
    "\n",
    "callbacks = [\n",
    "    EarlyStopping(monitor='val_loss', patience = 5, verbose = 1),\n",
    "    #ModelCheckpoint(filepath='best_model.h5', monitor='val_loss', save_best_only=True)\n",
    "]\n",
    "\n",
    "start_time = time.time()\n",
    "\n",
    "history = model.fit(\n",
    "    [glove_em, encoded_shited_hash_codes], \n",
    "    encoded_hash_codes, \n",
    "    epochs = 200, \n",
    "    validation_data = ([val_glove_em, val_encoded_shited_hash_codes], val_encoded_hash_codes),\n",
    "    callbacks = callbacks\n",
    ")\n",
    "\n",
    "elapsed_time = time.time() - start_time\n",
    "print(\"Time to compute: {} min\".format(elapsed_time/60))\n",
    "\n",
    "# summarize history for accuracy\n",
    "plt.plot(history.history['acc'], label='train')\n",
    "plt.plot(history.history['val_acc'], label='validation')\n",
    "plt.title('model accuracy')\n",
    "plt.ylabel('accuracy')\n",
    "plt.xlabel('epoch')\n",
    "plt.legend(['train', 'validation'], loc='upper left')\n",
    "plt.show()\n",
    "\n",
    "# summarize history for loss\n",
    "plt.plot(history.history['loss'], label='train')\n",
    "plt.plot(history.history['val_loss'], label='validation')\n",
    "plt.title('model loss')\n",
    "plt.ylabel('loss')\n",
    "plt.xlabel('epoch')\n",
    "plt.legend(['train', 'validation'], loc='upper left')\n",
    "plt.show()\n",
    "\n",
    "print('finish training')"
   ]
  },
  {
   "cell_type": "code",
   "execution_count": 28,
   "metadata": {},
   "outputs": [
    {
     "name": "stdout",
     "output_type": "stream",
     "text": [
      "Modelo de Inferencia\n"
     ]
    }
   ],
   "source": [
    "# Inference Model\n",
    "\n",
    "print('Modelo de Inferencia')\n",
    "# define encoder inference model\n",
    "encoder_model = Model(encoder_inputs, encoder_states)\n",
    "\n",
    "decoder_state_input_h = Input(shape=(latent_dim,))\n",
    "decoder_state_input_c = Input(shape=(latent_dim,))\n",
    "\n",
    "decoder_states_inputs = [decoder_state_input_h, decoder_state_input_c]\n",
    "decoder_outputs, state_h, state_c = decoder_lstm(decoder_inputs, initial_state=decoder_states_inputs)\n",
    "\n",
    "decoder_states = [state_h, state_c]\n",
    "decoder_outputs = decoder_dense(decoder_outputs)\n",
    "decoder_model = Model([decoder_inputs] + decoder_states_inputs, [decoder_outputs] + decoder_states)\n",
    "\n",
    "def predict_hash_code(input_seq):\n",
    "\n",
    "    # Encode the input as state vectors.\n",
    "    states_value = encoder_model.predict(input_seq)\n",
    "    \n",
    "    # Generate empty target sequence of length 1.\n",
    "    target_seq = np.zeros((1, 1, hash_features))\n",
    "    hash_code = []\n",
    "    \n",
    "    prepare = prepare_input()\n",
    "\n",
    "    for _ in range(len_hash):\n",
    "\n",
    "        output_tokens, h, c = decoder_model.predict([target_seq] + states_value)\n",
    "        #pprint(output_tokens)\n",
    "        \n",
    "        decoded_hash = prepare.decode_hash(output_tokens[0])\n",
    "        #pprint(decoded_hash)\n",
    "        \n",
    "        hash_code.append(decoded_hash[0]);\n",
    "        \n",
    "        selected_bit = np.argmax(output_tokens[0])        \n",
    "        target_seq = np.zeros((1, 1, hash_features))\n",
    "        target_seq[0, 0, selected_bit] = 1\n",
    "        states_value = [h, c]\n",
    "    \n",
    "        #print(target_seq)\n",
    "        \n",
    "    return np.asarray(hash_code)"
   ]
  },
  {
   "cell_type": "code",
   "execution_count": 29,
   "metadata": {},
   "outputs": [
    {
     "name": "stdout",
     "output_type": "stream",
     "text": [
      "10060\n",
      "10060\n"
     ]
    }
   ],
   "source": [
    "database = hashingDatabase()\n",
    "\n",
    "#print(len(glove_em_before_padding))\n",
    "for i in range(len(glove_em_before_padding)):\n",
    "    #print(len(glove_em_before_padding[i]))\n",
    "    #print(i)\n",
    "    element = np.asarray(glove_em_before_padding[i])\n",
    "    #print(element.shape)\n",
    "    element = element.reshape((1, element.shape[0], element.shape[1]))\n",
    "    #print(element.shape)\n",
    "    #break\n",
    "    hash_code = predict_hash_code(element)\n",
    "    database.add_element(hash_code, train_dataset['target'][i])\n",
    "    \n",
    "print(len(database.database))\n",
    "print(len(database.labels))"
   ]
  },
  {
   "cell_type": "code",
   "execution_count": 30,
   "metadata": {
    "scrolled": true
   },
   "outputs": [
    {
     "name": "stdout",
     "output_type": "stream",
     "text": [
      "precision at 1 equals to 0.775438596491228\n",
      "precision at 5 equals to 0.780438596491228\n",
      "precision at 10 equals to 0.7867982456140351\n",
      "precision at 15 equals to 0.793859649122807\n",
      "precision at 20 equals to 0.7910526315789475\n",
      "precision at 50 equals to 0.7854561403508773\n",
      "precision at 100 equals to 0.7765482456140351\n",
      "precision at 150 equals to 0.7768245614035088\n",
      "precision at 200 equals to 0.7754166666666665\n"
     ]
    }
   ],
   "source": [
    "k_values = [1, 5, 10, 15, 20, 50, 100, 150, 200]\n",
    "\n",
    "for k in k_values:\n",
    "    precisions = []\n",
    "    for i in range(len(glove_em_test)):\n",
    "        example = np.asarray(glove_em_test[i])\n",
    "        #print(example.shape)\n",
    "        example = example.reshape((1, example.shape[0], example.shape[1]))\n",
    "        #print(example.shape)\n",
    "        #break\n",
    "        hash_code = predict_hash_code(example).reshape((1, len_hash))\n",
    "        #print(hash_code)\n",
    "        #print(tiny_test_dataset['target'][i])\n",
    "        #print('Precision')\n",
    "        #print('hash: {}'.format(hash_code));\n",
    "        #print('target: {}'.format(tiny_test_dataset['target'][i]))\n",
    "        precision = database.evaluate_P_K(hash_code, test_dataset['target'][i], k)\n",
    "        #print(precision)\n",
    "        #print('\\n')\n",
    "        precisions.append(precision)\n",
    "\n",
    "    print(\"precision at {} equals to {}\".format(k, np.mean(precisions)))"
   ]
  },
  {
   "cell_type": "code",
   "execution_count": null,
   "metadata": {},
   "outputs": [],
   "source": []
  },
  {
   "cell_type": "code",
   "execution_count": null,
   "metadata": {},
   "outputs": [],
   "source": []
  },
  {
   "cell_type": "code",
   "execution_count": null,
   "metadata": {},
   "outputs": [],
   "source": [
    "############################################################################################################################"
   ]
  },
  {
   "cell_type": "markdown",
   "metadata": {},
   "source": [
    "### Test con las modificaciones propuestas por el profesor"
   ]
  },
  {
   "cell_type": "code",
   "execution_count": null,
   "metadata": {},
   "outputs": [],
   "source": []
  },
  {
   "cell_type": "code",
   "execution_count": null,
   "metadata": {},
   "outputs": [],
   "source": []
  },
  {
   "cell_type": "code",
   "execution_count": null,
   "metadata": {
    "scrolled": false
   },
   "outputs": [],
   "source": []
  },
  {
   "cell_type": "code",
   "execution_count": null,
   "metadata": {},
   "outputs": [],
   "source": []
  },
  {
   "cell_type": "code",
   "execution_count": null,
   "metadata": {},
   "outputs": [],
   "source": []
  },
  {
   "cell_type": "code",
   "execution_count": 6,
   "metadata": {
    "collapsed": true
   },
   "outputs": [],
   "source": []
  },
  {
   "cell_type": "code",
   "execution_count": null,
   "metadata": {
    "scrolled": false
   },
   "outputs": [],
   "source": []
  },
  {
   "cell_type": "code",
   "execution_count": null,
   "metadata": {
    "collapsed": true
   },
   "outputs": [],
   "source": []
  },
  {
   "cell_type": "code",
   "execution_count": null,
   "metadata": {
    "scrolled": false
   },
   "outputs": [],
   "source": []
  },
  {
   "cell_type": "code",
   "execution_count": null,
   "metadata": {},
   "outputs": [],
   "source": []
  },
  {
   "cell_type": "code",
   "execution_count": null,
   "metadata": {
    "scrolled": false
   },
   "outputs": [],
   "source": []
  },
  {
   "cell_type": "code",
   "execution_count": null,
   "metadata": {},
   "outputs": [],
   "source": []
  },
  {
   "cell_type": "code",
   "execution_count": null,
   "metadata": {
    "collapsed": true
   },
   "outputs": [],
   "source": []
  },
  {
   "cell_type": "code",
   "execution_count": null,
   "metadata": {
    "collapsed": true
   },
   "outputs": [],
   "source": []
  },
  {
   "cell_type": "code",
   "execution_count": null,
   "metadata": {
    "collapsed": true
   },
   "outputs": [],
   "source": []
  },
  {
   "cell_type": "code",
   "execution_count": null,
   "metadata": {
    "collapsed": true
   },
   "outputs": [],
   "source": []
  },
  {
   "cell_type": "markdown",
   "metadata": {},
   "source": [
    "### More Layers"
   ]
  },
  {
   "cell_type": "code",
   "execution_count": null,
   "metadata": {
    "scrolled": false
   },
   "outputs": [],
   "source": []
  },
  {
   "cell_type": "code",
   "execution_count": null,
   "metadata": {},
   "outputs": [],
   "source": []
  },
  {
   "cell_type": "code",
   "execution_count": null,
   "metadata": {
    "scrolled": false
   },
   "outputs": [],
   "source": []
  },
  {
   "cell_type": "code",
   "execution_count": null,
   "metadata": {
    "scrolled": false
   },
   "outputs": [],
   "source": []
  },
  {
   "cell_type": "code",
   "execution_count": 66,
   "metadata": {
    "collapsed": true
   },
   "outputs": [],
   "source": []
  },
  {
   "cell_type": "code",
   "execution_count": null,
   "metadata": {
    "scrolled": false
   },
   "outputs": [],
   "source": []
  },
  {
   "cell_type": "code",
   "execution_count": null,
   "metadata": {},
   "outputs": [],
   "source": []
  },
  {
   "cell_type": "code",
   "execution_count": null,
   "metadata": {
    "scrolled": true
   },
   "outputs": [],
   "source": [
    "\n",
    "    "
   ]
  },
  {
   "cell_type": "code",
   "execution_count": null,
   "metadata": {
    "scrolled": true
   },
   "outputs": [],
   "source": []
  },
  {
   "cell_type": "code",
   "execution_count": null,
   "metadata": {},
   "outputs": [],
   "source": []
  },
  {
   "cell_type": "code",
   "execution_count": null,
   "metadata": {},
   "outputs": [],
   "source": []
  },
  {
   "cell_type": "code",
   "execution_count": null,
   "metadata": {},
   "outputs": [],
   "source": []
  },
  {
   "cell_type": "code",
   "execution_count": null,
   "metadata": {},
   "outputs": [],
   "source": []
  },
  {
   "cell_type": "code",
   "execution_count": null,
   "metadata": {},
   "outputs": [],
   "source": []
  },
  {
   "cell_type": "code",
   "execution_count": null,
   "metadata": {},
   "outputs": [],
   "source": []
  },
  {
   "cell_type": "code",
   "execution_count": null,
   "metadata": {},
   "outputs": [],
   "source": []
  },
  {
   "cell_type": "code",
   "execution_count": null,
   "metadata": {
    "collapsed": true
   },
   "outputs": [],
   "source": []
  },
  {
   "cell_type": "code",
   "execution_count": null,
   "metadata": {
    "collapsed": true
   },
   "outputs": [],
   "source": []
  },
  {
   "cell_type": "code",
   "execution_count": null,
   "metadata": {
    "collapsed": true
   },
   "outputs": [],
   "source": []
  },
  {
   "cell_type": "code",
   "execution_count": null,
   "metadata": {
    "collapsed": true
   },
   "outputs": [],
   "source": []
  },
  {
   "cell_type": "code",
   "execution_count": null,
   "metadata": {
    "collapsed": true
   },
   "outputs": [],
   "source": []
  },
  {
   "cell_type": "code",
   "execution_count": null,
   "metadata": {
    "collapsed": true
   },
   "outputs": [],
   "source": []
  },
  {
   "cell_type": "code",
   "execution_count": null,
   "metadata": {},
   "outputs": [],
   "source": []
  },
  {
   "cell_type": "code",
   "execution_count": null,
   "metadata": {
    "collapsed": true
   },
   "outputs": [],
   "source": []
  }
 ],
 "metadata": {
  "kernelspec": {
   "display_name": "Python 3",
   "language": "python",
   "name": "python3"
  },
  "language_info": {
   "codemirror_mode": {
    "name": "ipython",
    "version": 3
   },
   "file_extension": ".py",
   "mimetype": "text/x-python",
   "name": "python",
   "nbconvert_exporter": "python",
   "pygments_lexer": "ipython3",
   "version": "3.6.6"
  }
 },
 "nbformat": 4,
 "nbformat_minor": 2
}
